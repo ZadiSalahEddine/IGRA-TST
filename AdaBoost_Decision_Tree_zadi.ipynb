{
 "cells": [
  {
   "cell_type": "code",
   "execution_count": 2,
   "id": "d9c6a46d",
   "metadata": {},
   "outputs": [
    {
     "data": {
      "text/plain": [
       "0.9367088607594937"
      ]
     },
     "execution_count": 2,
     "metadata": {},
     "output_type": "execute_result"
    }
   ],
   "source": [
    "from sklearn.ensemble import AdaBoostClassifier    # iport  important libs\n",
    "from sklearn.tree import DecisionTreeClassifier    \n",
    "import pandas as pd\n",
    "from sklearn.model_selection import train_test_split\n",
    "from sklearn.metrics import confusion_matrix\n",
    "from sklearn.metrics import accuracy_score\n",
    "\n",
    "dataset = pd.read_csv('C:/Users/NSC/Desktop/a.csv',delimiter=';')\n",
    "df=pd.DataFrame(dataset)\n",
    "\n",
    "X=df[['GROUPE','IFNG874','UNSTIMULATED_IFNY_PGML','PHA_IFNY_PGML','AG_IFNY_PGML','CD3_NUMBER','PHA_NORMALIZED',\n",
    "      'AG_NORMALIZED','TST_RESULT','SEX','AGE','ETHNIC_BACKGROUND']]         #Separation of attributes\n",
    "\n",
    "\n",
    "Y=df[['IGRA_RESULT']]                            #Separation of classe \n",
    "train_X, test_X, train_y, test_y = train_test_split(X, Y,test_size=0.2, random_state=3,stratify = Y)\n",
    "test_X\n",
    "\n",
    "a=train_y.loc[:,'IGRA_RESULT']\n",
    "b=a.to_numpy(dtype ='int64')\n",
    "classifier = AdaBoostClassifier(                      #Using the complete algorithme\n",
    "    DecisionTreeClassifier(max_depth=1),\n",
    "    n_estimators=10\n",
    ")\n",
    "\n",
    "classifier.fit(train_X, b)                           #\n",
    "predictions = classifier.predict(test_X)\n",
    "confusion_matrix(test_y, predictions)\n",
    "acc = accuracy_score(test_y, predictions)\n",
    "acc\n"
   ]
  },
  {
   "cell_type": "code",
   "execution_count": 8,
   "id": "3d8da94e",
   "metadata": {},
   "outputs": [
    {
     "data": {
      "text/plain": [
       "array([[77, 10],\n",
       "       [ 7, 89]], dtype=int64)"
      ]
     },
     "execution_count": 8,
     "metadata": {},
     "output_type": "execute_result"
    }
   ],
   "source": [
    "confusion_matrix(test_y, predictions)"
   ]
  },
  {
   "cell_type": "code",
   "execution_count": null,
   "id": "2b1f96d9",
   "metadata": {},
   "outputs": [],
   "source": []
  },
  {
   "cell_type": "code",
   "execution_count": null,
   "id": "408e7d8a",
   "metadata": {},
   "outputs": [],
   "source": []
  }
 ],
 "metadata": {
  "kernelspec": {
   "display_name": "Python 3",
   "language": "python",
   "name": "python3"
  },
  "language_info": {
   "codemirror_mode": {
    "name": "ipython",
    "version": 3
   },
   "file_extension": ".py",
   "mimetype": "text/x-python",
   "name": "python",
   "nbconvert_exporter": "python",
   "pygments_lexer": "ipython3",
   "version": "3.8.8"
  }
 },
 "nbformat": 4,
 "nbformat_minor": 5
}
