{
 "cells": [
  {
   "cell_type": "code",
   "execution_count": 1,
   "id": "f85af1c9",
   "metadata": {},
   "outputs": [
    {
     "data": {
      "text/plain": [
       "0.8354430379746836"
      ]
     },
     "execution_count": 1,
     "metadata": {},
     "output_type": "execute_result"
    }
   ],
   "source": [
    "import pandas as pd\n",
    "from sklearn.model_selection import train_test_split\n",
    "from sklearn.neighbors import KNeighborsClassifier\n",
    "from sklearn.metrics import accuracy_score\n",
    "from sklearn.metrics import confusion_matrix\n",
    "\n",
    "dataset = pd.read_csv('C:/Users/NSC/Desktop/a.csv',delimiter=';')\n",
    "\n",
    "df=pd.DataFrame(dataset)\n",
    "\n",
    "X=df[['GROUPE','IFNG874','UNSTIMULATED_IFNY_PGML','PHA_IFNY_PGML','AG_IFNY_PGML','CD3_NUMBER','PHA_NORMALIZED',\n",
    "      'AG_NORMALIZED','TST_RESULT','SEX','AGE','ETHNIC_BACKGROUND']]         #Separation of attributes\n",
    "\n",
    "\n",
    "Y=df[['IGRA_RESULT']]                            #Separation of classe\n",
    "\n",
    "#X.info()\n",
    "\n",
    "#Prepare data for classification process\n",
    "x_train, x_test, y_train, y_test = train_test_split(X, Y, test_size=0.2, random_state=1,stratify = Y)\n",
    "#Create a model\n",
    "KNN_Classifier = KNeighborsClassifier(n_neighbors = 19, p = 1, metric='minkowski')\n",
    "KNN_Classifier.fit(x_train,y_train.values.ravel())\n",
    "pred_test = KNN_Classifier.predict(x_test)\n",
    "#check the accuracy of your predicted classifier\n",
    "acc = accuracy_score(y_test, pred_test)\n",
    "acc"
   ]
  },
  {
   "cell_type": "code",
   "execution_count": 43,
   "id": "5b928e9b",
   "metadata": {},
   "outputs": [
    {
     "data": {
      "text/plain": [
       "array([[22,  9],\n",
       "       [10, 38]], dtype=int64)"
      ]
     },
     "execution_count": 43,
     "metadata": {},
     "output_type": "execute_result"
    }
   ],
   "source": [
    "confusion_matrix(y_test, pred_test)"
   ]
  },
  {
   "cell_type": "code",
   "execution_count": null,
   "id": "277b50d4",
   "metadata": {},
   "outputs": [],
   "source": []
  }
 ],
 "metadata": {
  "kernelspec": {
   "display_name": "Python 3",
   "language": "python",
   "name": "python3"
  },
  "language_info": {
   "codemirror_mode": {
    "name": "ipython",
    "version": 3
   },
   "file_extension": ".py",
   "mimetype": "text/x-python",
   "name": "python",
   "nbconvert_exporter": "python",
   "pygments_lexer": "ipython3",
   "version": "3.8.8"
  }
 },
 "nbformat": 4,
 "nbformat_minor": 5
}
