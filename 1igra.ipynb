{
 "cells": [
  {
   "cell_type": "markdown",
   "metadata": {
    "id": "5LZ_4FkGM8AM"
   },
   "source": [
    "**Steps to Build a Machine Learning System:**\n",
    "1. Data collection.\n",
    "2. Improving data quality (data preprocessing: drop duplicate\n",
    "rows, handle missing values and outliers).\n",
    "3. Feature engineering (feature extraction and selection,\n",
    "dimensionality reduction).\n",
    "4. Splitting data into training (and evaluation) and testing\n",
    "sets.\n",
    "5. Algorithm selection ( Regression, Classification, Clustering, Semi-Supervised ...).\n",
    "6. Training.\n",
    "7. Evaluation \n",
    "8. Hyperparameter tuning.\n",
    "9. Testing.\n",
    "10. Deployment\n",
    "\n",
    "**Problem Statement**\n",
    "\n",
    "Interferon-Gamma Release Assays (IGRAs) are whole-blood tests that can aid in diagnosing Mycobacterium tuberculosis infection. They do not help differentiate latent tuberculosis infection (LTBI) from tuberculosis disease. .\n",
    "\n",
    "**Problem**\n",
    "\n",
    "Company wants to automate the Diagnosis of the patient's condition (real time) based on patient's  detail provided while filling online application form. These details are Gender, Ethnic-Background, Immune system secretions and others. To automate this process, they have given a problem to identify If the patient has tuberculosis infection, those are IGRA++ so that they can specifically target these patient's. Here they have provided a partial data set.\n",
    "\n",
    "**Data Set Description :**\n",
    "There are 13 variables in this data set:\n",
    "\n"
   ]
  },
  {
   "cell_type": "markdown",
   "metadata": {
    "id": "mnpmFoocLw64"
   },
   "source": [
    "# **Data Preprocessing**\n"
   ]
  },
  {
   "cell_type": "markdown",
   "metadata": {
    "id": "uI_V8EOl-Ge3"
   },
   "source": [
    "## **Data Preprocessing**"
   ]
  },
  {
   "cell_type": "code",
   "execution_count": 4,
   "metadata": {
    "colab": {
     "base_uri": "https://localhost:8080/"
    },
    "executionInfo": {
     "elapsed": 610,
     "status": "ok",
     "timestamp": 1649345004323,
     "user": {
      "displayName": "hichem felouat",
      "userId": "06423185161580092580"
     },
     "user_tz": -60
    },
    "id": "Wnyn9BEALUmy",
    "outputId": "2de8269b-313d-4e81-9573-454fcf65be8f"
   },
   "outputs": [
    {
     "name": "stdout",
     "output_type": "stream",
     "text": [
      "(392, 13)\n",
      "-----------------------------------------------------------------------\n",
      "<class 'pandas.core.frame.DataFrame'>\n",
      "RangeIndex: 392 entries, 0 to 391\n",
      "Data columns (total 13 columns):\n",
      " #   Column                  Non-Null Count  Dtype  \n",
      "---  ------                  --------------  -----  \n",
      " 0   GROUPE                  392 non-null    int64  \n",
      " 1   IFNG874                 392 non-null    int64  \n",
      " 2   UNSTIMULATED_IFNY_PGML  392 non-null    float64\n",
      " 3   PHA_IFNY_PGML           392 non-null    float64\n",
      " 4   AG_IFNY_PGML            392 non-null    float64\n",
      " 5   CD3_NUMBER              392 non-null    float64\n",
      " 6   PHA_NORMALIZED          392 non-null    float64\n",
      " 7   AG_NORMALIZED           392 non-null    float64\n",
      " 8   IGRA_RESULT             392 non-null    int64  \n",
      " 9   TST_RESULT              392 non-null    int64  \n",
      " 10  SEX                     392 non-null    int64  \n",
      " 11  AGE                     392 non-null    int64  \n",
      " 12  ETHNIC_BACKGROUND       392 non-null    int64  \n",
      "dtypes: float64(6), int64(7)\n",
      "memory usage: 39.9 KB\n",
      "None\n",
      "-----------------------------------------------------------------------\n",
      "Index(['GROUPE', 'IFNG874', 'UNSTIMULATED_IFNY_PGML', 'PHA_IFNY_PGML',\n",
      "       'AG_IFNY_PGML', 'CD3_NUMBER', 'PHA_NORMALIZED', 'AG_NORMALIZED',\n",
      "       'IGRA_RESULT', 'TST_RESULT', 'SEX', 'AGE', 'ETHNIC_BACKGROUND'],\n",
      "      dtype='object')\n"
     ]
    }
   ],
   "source": [
    "# Import Python Libraries\n",
    "import numpy as np\n",
    "import scipy as sp\n",
    "import pandas as pd\n",
    "import matplotlib.pyplot as plt\n",
    "import seaborn as sns\n",
    "\n",
    "# Load dataset\n",
    "df = pd.read_csv(\"C:/Users/NSC/Desktop/ADABOOST/elite/a.csv\", delimiter=';', encoding = \"ISO-8859-1\")\n",
    "\n",
    "# Display dimensions of dataframe\n",
    "print(df.shape)\n",
    "\n",
    "print(\"-----------------------------------------------------------------------\")\n",
    "# Information about the dataset\n",
    "print(df.info())\n",
    "\n",
    "print(\"-----------------------------------------------------------------------\")\n",
    "# List the column names\n",
    "print(df.columns)\n"
   ]
  },
  {
   "cell_type": "code",
   "execution_count": 5,
   "metadata": {
    "colab": {
     "base_uri": "https://localhost:8080/",
     "height": 0
    },
    "executionInfo": {
     "elapsed": 946,
     "status": "ok",
     "timestamp": 1649345006673,
     "user": {
      "displayName": "hichem felouat",
      "userId": "06423185161580092580"
     },
     "user_tz": -60
    },
    "id": "WQqK-8t7Cbz0",
    "outputId": "a51b3116-951c-4bbb-da28-cc84fdfefa52"
   },
   "outputs": [
    {
     "data": {
      "text/html": [
       "<div>\n",
       "<style scoped>\n",
       "    .dataframe tbody tr th:only-of-type {\n",
       "        vertical-align: middle;\n",
       "    }\n",
       "\n",
       "    .dataframe tbody tr th {\n",
       "        vertical-align: top;\n",
       "    }\n",
       "\n",
       "    .dataframe thead th {\n",
       "        text-align: right;\n",
       "    }\n",
       "</style>\n",
       "<table border=\"1\" class=\"dataframe\">\n",
       "  <thead>\n",
       "    <tr style=\"text-align: right;\">\n",
       "      <th></th>\n",
       "      <th>GROUPE</th>\n",
       "      <th>IFNG874</th>\n",
       "      <th>UNSTIMULATED_IFNY_PGML</th>\n",
       "      <th>PHA_IFNY_PGML</th>\n",
       "      <th>AG_IFNY_PGML</th>\n",
       "      <th>CD3_NUMBER</th>\n",
       "      <th>PHA_NORMALIZED</th>\n",
       "      <th>AG_NORMALIZED</th>\n",
       "      <th>IGRA_RESULT</th>\n",
       "      <th>TST_RESULT</th>\n",
       "      <th>SEX</th>\n",
       "      <th>AGE</th>\n",
       "      <th>ETHNIC_BACKGROUND</th>\n",
       "    </tr>\n",
       "  </thead>\n",
       "  <tbody>\n",
       "    <tr>\n",
       "      <th>223</th>\n",
       "      <td>1</td>\n",
       "      <td>2</td>\n",
       "      <td>19.89</td>\n",
       "      <td>15431.92</td>\n",
       "      <td>47.35</td>\n",
       "      <td>1273.24</td>\n",
       "      <td>12.13</td>\n",
       "      <td>0.04</td>\n",
       "      <td>0</td>\n",
       "      <td>1</td>\n",
       "      <td>1</td>\n",
       "      <td>24</td>\n",
       "      <td>2</td>\n",
       "    </tr>\n",
       "    <tr>\n",
       "      <th>37</th>\n",
       "      <td>2</td>\n",
       "      <td>3</td>\n",
       "      <td>0.00</td>\n",
       "      <td>15362.32</td>\n",
       "      <td>51.18</td>\n",
       "      <td>1889.87</td>\n",
       "      <td>8.13</td>\n",
       "      <td>0.03</td>\n",
       "      <td>0</td>\n",
       "      <td>1</td>\n",
       "      <td>2</td>\n",
       "      <td>24</td>\n",
       "      <td>2</td>\n",
       "    </tr>\n",
       "    <tr>\n",
       "      <th>159</th>\n",
       "      <td>1</td>\n",
       "      <td>1</td>\n",
       "      <td>268.69</td>\n",
       "      <td>21339.21</td>\n",
       "      <td>1255.80</td>\n",
       "      <td>1378.07</td>\n",
       "      <td>15.41</td>\n",
       "      <td>0.91</td>\n",
       "      <td>1</td>\n",
       "      <td>1</td>\n",
       "      <td>1</td>\n",
       "      <td>29</td>\n",
       "      <td>2</td>\n",
       "    </tr>\n",
       "    <tr>\n",
       "      <th>361</th>\n",
       "      <td>3</td>\n",
       "      <td>2</td>\n",
       "      <td>0.00</td>\n",
       "      <td>3876.51</td>\n",
       "      <td>1305.64</td>\n",
       "      <td>747.79</td>\n",
       "      <td>5.18</td>\n",
       "      <td>1.77</td>\n",
       "      <td>1</td>\n",
       "      <td>0</td>\n",
       "      <td>1</td>\n",
       "      <td>37</td>\n",
       "      <td>2</td>\n",
       "    </tr>\n",
       "    <tr>\n",
       "      <th>342</th>\n",
       "      <td>2</td>\n",
       "      <td>1</td>\n",
       "      <td>44.90</td>\n",
       "      <td>2765.33</td>\n",
       "      <td>117.18</td>\n",
       "      <td>1052.11</td>\n",
       "      <td>2.67</td>\n",
       "      <td>0.11</td>\n",
       "      <td>0</td>\n",
       "      <td>1</td>\n",
       "      <td>1</td>\n",
       "      <td>21</td>\n",
       "      <td>2</td>\n",
       "    </tr>\n",
       "    <tr>\n",
       "      <th>157</th>\n",
       "      <td>1</td>\n",
       "      <td>1</td>\n",
       "      <td>0.00</td>\n",
       "      <td>7367.53</td>\n",
       "      <td>481.36</td>\n",
       "      <td>1423.37</td>\n",
       "      <td>5.11</td>\n",
       "      <td>0.35</td>\n",
       "      <td>1</td>\n",
       "      <td>1</td>\n",
       "      <td>2</td>\n",
       "      <td>61</td>\n",
       "      <td>2</td>\n",
       "    </tr>\n",
       "    <tr>\n",
       "      <th>323</th>\n",
       "      <td>2</td>\n",
       "      <td>1</td>\n",
       "      <td>0.00</td>\n",
       "      <td>6307.19</td>\n",
       "      <td>202.37</td>\n",
       "      <td>1306.44</td>\n",
       "      <td>4.84</td>\n",
       "      <td>0.15</td>\n",
       "      <td>1</td>\n",
       "      <td>0</td>\n",
       "      <td>2</td>\n",
       "      <td>54</td>\n",
       "      <td>1</td>\n",
       "    </tr>\n",
       "    <tr>\n",
       "      <th>156</th>\n",
       "      <td>1</td>\n",
       "      <td>1</td>\n",
       "      <td>0.00</td>\n",
       "      <td>7493.70</td>\n",
       "      <td>909.91</td>\n",
       "      <td>3552.18</td>\n",
       "      <td>2.13</td>\n",
       "      <td>0.27</td>\n",
       "      <td>1</td>\n",
       "      <td>1</td>\n",
       "      <td>1</td>\n",
       "      <td>38</td>\n",
       "      <td>2</td>\n",
       "    </tr>\n",
       "    <tr>\n",
       "      <th>237</th>\n",
       "      <td>3</td>\n",
       "      <td>1</td>\n",
       "      <td>28.28</td>\n",
       "      <td>2378.77</td>\n",
       "      <td>2731.12</td>\n",
       "      <td>1095.69</td>\n",
       "      <td>2.19</td>\n",
       "      <td>2.47</td>\n",
       "      <td>1</td>\n",
       "      <td>1</td>\n",
       "      <td>1</td>\n",
       "      <td>57</td>\n",
       "      <td>2</td>\n",
       "    </tr>\n",
       "    <tr>\n",
       "      <th>143</th>\n",
       "      <td>2</td>\n",
       "      <td>1</td>\n",
       "      <td>0.00</td>\n",
       "      <td>13571.12</td>\n",
       "      <td>65.79</td>\n",
       "      <td>1392.59</td>\n",
       "      <td>9.71</td>\n",
       "      <td>0.06</td>\n",
       "      <td>0</td>\n",
       "      <td>1</td>\n",
       "      <td>2</td>\n",
       "      <td>33</td>\n",
       "      <td>2</td>\n",
       "    </tr>\n",
       "  </tbody>\n",
       "</table>\n",
       "</div>"
      ],
      "text/plain": [
       "     GROUPE  IFNG874  UNSTIMULATED_IFNY_PGML  PHA_IFNY_PGML  AG_IFNY_PGML  \\\n",
       "223       1        2                   19.89       15431.92         47.35   \n",
       "37        2        3                    0.00       15362.32         51.18   \n",
       "159       1        1                  268.69       21339.21       1255.80   \n",
       "361       3        2                    0.00        3876.51       1305.64   \n",
       "342       2        1                   44.90        2765.33        117.18   \n",
       "157       1        1                    0.00        7367.53        481.36   \n",
       "323       2        1                    0.00        6307.19        202.37   \n",
       "156       1        1                    0.00        7493.70        909.91   \n",
       "237       3        1                   28.28        2378.77       2731.12   \n",
       "143       2        1                    0.00       13571.12         65.79   \n",
       "\n",
       "     CD3_NUMBER  PHA_NORMALIZED  AG_NORMALIZED  IGRA_RESULT  TST_RESULT  SEX  \\\n",
       "223     1273.24           12.13           0.04            0           1    1   \n",
       "37      1889.87            8.13           0.03            0           1    2   \n",
       "159     1378.07           15.41           0.91            1           1    1   \n",
       "361      747.79            5.18           1.77            1           0    1   \n",
       "342     1052.11            2.67           0.11            0           1    1   \n",
       "157     1423.37            5.11           0.35            1           1    2   \n",
       "323     1306.44            4.84           0.15            1           0    2   \n",
       "156     3552.18            2.13           0.27            1           1    1   \n",
       "237     1095.69            2.19           2.47            1           1    1   \n",
       "143     1392.59            9.71           0.06            0           1    2   \n",
       "\n",
       "     AGE  ETHNIC_BACKGROUND  \n",
       "223   24                  2  \n",
       "37    24                  2  \n",
       "159   29                  2  \n",
       "361   37                  2  \n",
       "342   21                  2  \n",
       "157   61                  2  \n",
       "323   54                  1  \n",
       "156   38                  2  \n",
       "237   57                  2  \n",
       "143   33                  2  "
      ]
     },
     "execution_count": 5,
     "metadata": {},
     "output_type": "execute_result"
    }
   ],
   "source": [
    "# Display 10 random samples of items\n",
    "df.sample(10).round(2)\n"
   ]
  },
  {
   "cell_type": "code",
   "execution_count": 6,
   "metadata": {
    "colab": {
     "base_uri": "https://localhost:8080/"
    },
    "executionInfo": {
     "elapsed": 75,
     "status": "ok",
     "timestamp": 1649345006676,
     "user": {
      "displayName": "hichem felouat",
      "userId": "06423185161580092580"
     },
     "user_tz": -60
    },
    "id": "XSFQPhM_C6Tb",
    "outputId": "8faeb0bb-d01f-49e2-f9a3-0c4075ca70b6"
   },
   "outputs": [
    {
     "name": "stdout",
     "output_type": "stream",
     "text": [
      "<class 'pandas.core.frame.DataFrame'>\n",
      "RangeIndex: 392 entries, 0 to 391\n",
      "Data columns (total 11 columns):\n",
      " #   Column                  Non-Null Count  Dtype  \n",
      "---  ------                  --------------  -----  \n",
      " 0   UNSTIMULATED_IFNY_PGML  392 non-null    float64\n",
      " 1   PHA_IFNY_PGML           392 non-null    float64\n",
      " 2   AG_IFNY_PGML            392 non-null    float64\n",
      " 3   CD3_NUMBER              392 non-null    float64\n",
      " 4   PHA_NORMALIZED          392 non-null    float64\n",
      " 5   AG_NORMALIZED           392 non-null    float64\n",
      " 6   IGRA_RESULT             392 non-null    int64  \n",
      " 7   TST_RESULT              392 non-null    int64  \n",
      " 8   SEX                     392 non-null    int64  \n",
      " 9   AGE                     392 non-null    int64  \n",
      " 10  ETHNIC_BACKGROUND       392 non-null    int64  \n",
      "dtypes: float64(6), int64(5)\n",
      "memory usage: 33.8 KB\n",
      "None\n"
     ]
    }
   ],
   "source": [
    "# Remove the first two columns : 'GROUPE' , 'IFNG874' \n",
    "\n",
    "#df.drop(columns=[\"GROUPE\", \"IFNG874\"])\n",
    "#df.drop([\"GROUPE\", \"IFNG874\"], axis=1)\n",
    "# df.drop([0, 1,123]) # Drop a row by index\n",
    "\n",
    "df.drop(df.columns[[0,1]], axis=1, inplace=True)\n",
    "print(df.info())\n"
   ]
  },
  {
   "cell_type": "code",
   "execution_count": 7,
   "metadata": {
    "colab": {
     "base_uri": "https://localhost:8080/",
     "height": 0
    },
    "executionInfo": {
     "elapsed": 74,
     "status": "ok",
     "timestamp": 1649345006678,
     "user": {
      "displayName": "hichem felouat",
      "userId": "06423185161580092580"
     },
     "user_tz": -60
    },
    "id": "pW88ykBdibiT",
    "outputId": "798b9617-e0e6-4922-e436-6a88daa71f00"
   },
   "outputs": [
    {
     "data": {
      "text/html": [
       "<style  type=\"text/css\" >\n",
       "#T_b4fd2_row0_col0{\n",
       "            background-color:  #b50f26;\n",
       "            color:  #f1f1f1;\n",
       "        }#T_b4fd2_row0_col1{\n",
       "            background-color:  #fed27f;\n",
       "            color:  #000000;\n",
       "        }#T_b4fd2_row0_col2{\n",
       "            background-color:  #feda86;\n",
       "            color:  #000000;\n",
       "        }#T_b4fd2_row0_col3{\n",
       "            background-color:  #da362a;\n",
       "            color:  #f1f1f1;\n",
       "        }#T_b4fd2_row0_col4{\n",
       "            background-color:  #a9da6c;\n",
       "            color:  #000000;\n",
       "        }#T_b4fd2_row0_col5{\n",
       "            background-color:  #fdb163;\n",
       "            color:  #000000;\n",
       "        }#T_b4fd2_row0_col6,#T_b4fd2_row0_col9,#T_b4fd2_row0_col10,#T_b4fd2_row1_col3,#T_b4fd2_row1_col6,#T_b4fd2_row1_col8,#T_b4fd2_row1_col10,#T_b4fd2_row2_col0,#T_b4fd2_row2_col2,#T_b4fd2_row2_col6,#T_b4fd2_row2_col10,#T_b4fd2_row3_col10,#T_b4fd2_row4_col4,#T_b4fd2_row4_col6,#T_b4fd2_row4_col10,#T_b4fd2_row5_col3,#T_b4fd2_row5_col6,#T_b4fd2_row5_col8,#T_b4fd2_row5_col10,#T_b4fd2_row6_col10,#T_b4fd2_row7_col1,#T_b4fd2_row8_col1,#T_b4fd2_row9_col0,#T_b4fd2_row9_col2,#T_b4fd2_row9_col5,#T_b4fd2_row9_col6,#T_b4fd2_row9_col10{\n",
       "            background-color:  #006837;\n",
       "            color:  #f1f1f1;\n",
       "        }#T_b4fd2_row0_col7,#T_b4fd2_row0_col8,#T_b4fd2_row1_col0,#T_b4fd2_row1_col7,#T_b4fd2_row2_col1,#T_b4fd2_row2_col3,#T_b4fd2_row2_col4,#T_b4fd2_row2_col7,#T_b4fd2_row2_col8,#T_b4fd2_row2_col9,#T_b4fd2_row3_col0,#T_b4fd2_row3_col6,#T_b4fd2_row3_col7,#T_b4fd2_row3_col8,#T_b4fd2_row4_col7,#T_b4fd2_row4_col8,#T_b4fd2_row5_col0,#T_b4fd2_row5_col7,#T_b4fd2_row6_col6,#T_b4fd2_row6_col7,#T_b4fd2_row6_col8,#T_b4fd2_row7_col0,#T_b4fd2_row7_col2,#T_b4fd2_row7_col6,#T_b4fd2_row7_col7,#T_b4fd2_row7_col8,#T_b4fd2_row7_col10,#T_b4fd2_row8_col0,#T_b4fd2_row8_col2,#T_b4fd2_row8_col5,#T_b4fd2_row8_col6,#T_b4fd2_row8_col7,#T_b4fd2_row8_col8,#T_b4fd2_row8_col10,#T_b4fd2_row9_col1,#T_b4fd2_row9_col3,#T_b4fd2_row9_col4,#T_b4fd2_row9_col7,#T_b4fd2_row9_col8{\n",
       "            background-color:  #a50026;\n",
       "            color:  #f1f1f1;\n",
       "        }#T_b4fd2_row1_col1,#T_b4fd2_row5_col1{\n",
       "            background-color:  #fece7c;\n",
       "            color:  #000000;\n",
       "        }#T_b4fd2_row1_col2,#T_b4fd2_row5_col2{\n",
       "            background-color:  #06733d;\n",
       "            color:  #f1f1f1;\n",
       "        }#T_b4fd2_row1_col4,#T_b4fd2_row5_col4{\n",
       "            background-color:  #db382b;\n",
       "            color:  #f1f1f1;\n",
       "        }#T_b4fd2_row1_col5{\n",
       "            background-color:  #f99355;\n",
       "            color:  #000000;\n",
       "        }#T_b4fd2_row1_col9,#T_b4fd2_row7_col9{\n",
       "            background-color:  #fed683;\n",
       "            color:  #000000;\n",
       "        }#T_b4fd2_row2_col5{\n",
       "            background-color:  #026c39;\n",
       "            color:  #f1f1f1;\n",
       "        }#T_b4fd2_row3_col1{\n",
       "            background-color:  #a2d76a;\n",
       "            color:  #000000;\n",
       "        }#T_b4fd2_row3_col2{\n",
       "            background-color:  #d62f27;\n",
       "            color:  #f1f1f1;\n",
       "        }#T_b4fd2_row3_col3{\n",
       "            background-color:  #fdc171;\n",
       "            color:  #000000;\n",
       "        }#T_b4fd2_row3_col4{\n",
       "            background-color:  #33a456;\n",
       "            color:  #000000;\n",
       "        }#T_b4fd2_row3_col5{\n",
       "            background-color:  #c01a27;\n",
       "            color:  #f1f1f1;\n",
       "        }#T_b4fd2_row3_col9{\n",
       "            background-color:  #69be63;\n",
       "            color:  #000000;\n",
       "        }#T_b4fd2_row4_col0{\n",
       "            background-color:  #af0926;\n",
       "            color:  #f1f1f1;\n",
       "        }#T_b4fd2_row4_col1{\n",
       "            background-color:  #dcf08f;\n",
       "            color:  #000000;\n",
       "        }#T_b4fd2_row4_col2{\n",
       "            background-color:  #f5fbb2;\n",
       "            color:  #000000;\n",
       "        }#T_b4fd2_row4_col3{\n",
       "            background-color:  #e95538;\n",
       "            color:  #000000;\n",
       "        }#T_b4fd2_row4_col5{\n",
       "            background-color:  #fedc88;\n",
       "            color:  #000000;\n",
       "        }#T_b4fd2_row4_col9{\n",
       "            background-color:  #feefa3;\n",
       "            color:  #000000;\n",
       "        }#T_b4fd2_row5_col5{\n",
       "            background-color:  #f99153;\n",
       "            color:  #000000;\n",
       "        }#T_b4fd2_row5_col9{\n",
       "            background-color:  #cfeb85;\n",
       "            color:  #000000;\n",
       "        }#T_b4fd2_row6_col0{\n",
       "            background-color:  #f88950;\n",
       "            color:  #000000;\n",
       "        }#T_b4fd2_row6_col1{\n",
       "            background-color:  #fdb567;\n",
       "            color:  #000000;\n",
       "        }#T_b4fd2_row6_col2{\n",
       "            background-color:  #e44c34;\n",
       "            color:  #000000;\n",
       "        }#T_b4fd2_row6_col3{\n",
       "            background-color:  #fbfdba;\n",
       "            color:  #000000;\n",
       "        }#T_b4fd2_row6_col4{\n",
       "            background-color:  #f7814c;\n",
       "            color:  #000000;\n",
       "        }#T_b4fd2_row6_col5{\n",
       "            background-color:  #c41e27;\n",
       "            color:  #f1f1f1;\n",
       "        }#T_b4fd2_row6_col9{\n",
       "            background-color:  #d83128;\n",
       "            color:  #f1f1f1;\n",
       "        }#T_b4fd2_row7_col3,#T_b4fd2_row8_col3{\n",
       "            background-color:  #4bb05c;\n",
       "            color:  #000000;\n",
       "        }#T_b4fd2_row7_col4,#T_b4fd2_row8_col4{\n",
       "            background-color:  #b5df74;\n",
       "            color:  #000000;\n",
       "        }#T_b4fd2_row7_col5{\n",
       "            background-color:  #a70226;\n",
       "            color:  #f1f1f1;\n",
       "        }#T_b4fd2_row8_col9{\n",
       "            background-color:  #fdc574;\n",
       "            color:  #000000;\n",
       "        }#T_b4fd2_row9_col9{\n",
       "            background-color:  #f47044;\n",
       "            color:  #000000;\n",
       "        }</style><table id=\"T_b4fd2_\" ><thead>    <tr>        <th class=\"blank level0\" ></th>        <th class=\"col_heading level0 col0\" >UNSTIMULATED_IFNY_PGML</th>        <th class=\"col_heading level0 col1\" >PHA_IFNY_PGML</th>        <th class=\"col_heading level0 col2\" >AG_IFNY_PGML</th>        <th class=\"col_heading level0 col3\" >CD3_NUMBER</th>        <th class=\"col_heading level0 col4\" >PHA_NORMALIZED</th>        <th class=\"col_heading level0 col5\" >AG_NORMALIZED</th>        <th class=\"col_heading level0 col6\" >IGRA_RESULT</th>        <th class=\"col_heading level0 col7\" >TST_RESULT</th>        <th class=\"col_heading level0 col8\" >SEX</th>        <th class=\"col_heading level0 col9\" >AGE</th>        <th class=\"col_heading level0 col10\" >ETHNIC_BACKGROUND</th>    </tr></thead><tbody>\n",
       "                <tr>\n",
       "                        <th id=\"T_b4fd2_level0_row0\" class=\"row_heading level0 row0\" >3</th>\n",
       "                        <td id=\"T_b4fd2_row0_col0\" class=\"data row0 col0\" >31.480000</td>\n",
       "                        <td id=\"T_b4fd2_row0_col1\" class=\"data row0 col1\" >6484.300000</td>\n",
       "                        <td id=\"T_b4fd2_row0_col2\" class=\"data row0 col2\" >564.410000</td>\n",
       "                        <td id=\"T_b4fd2_row0_col3\" class=\"data row0 col3\" >740.190000</td>\n",
       "                        <td id=\"T_b4fd2_row0_col4\" class=\"data row0 col4\" >8.760000</td>\n",
       "                        <td id=\"T_b4fd2_row0_col5\" class=\"data row0 col5\" >0.760000</td>\n",
       "                        <td id=\"T_b4fd2_row0_col6\" class=\"data row0 col6\" >1</td>\n",
       "                        <td id=\"T_b4fd2_row0_col7\" class=\"data row0 col7\" >1</td>\n",
       "                        <td id=\"T_b4fd2_row0_col8\" class=\"data row0 col8\" >1</td>\n",
       "                        <td id=\"T_b4fd2_row0_col9\" class=\"data row0 col9\" >50</td>\n",
       "                        <td id=\"T_b4fd2_row0_col10\" class=\"data row0 col10\" >2</td>\n",
       "            </tr>\n",
       "            <tr>\n",
       "                        <th id=\"T_b4fd2_level0_row1\" class=\"row_heading level0 row1\" >108</th>\n",
       "                        <td id=\"T_b4fd2_row1_col0\" class=\"data row1 col0\" >0.000000</td>\n",
       "                        <td id=\"T_b4fd2_row1_col1\" class=\"data row1 col1\" >6360.243000</td>\n",
       "                        <td id=\"T_b4fd2_row1_col2\" class=\"data row1 col2\" >1354.423000</td>\n",
       "                        <td id=\"T_b4fd2_row1_col3\" class=\"data row1 col3\" >2079.394000</td>\n",
       "                        <td id=\"T_b4fd2_row1_col4\" class=\"data row1 col4\" >3.061000</td>\n",
       "                        <td id=\"T_b4fd2_row1_col5\" class=\"data row1 col5\" >0.652000</td>\n",
       "                        <td id=\"T_b4fd2_row1_col6\" class=\"data row1 col6\" >1</td>\n",
       "                        <td id=\"T_b4fd2_row1_col7\" class=\"data row1 col7\" >1</td>\n",
       "                        <td id=\"T_b4fd2_row1_col8\" class=\"data row1 col8\" >2</td>\n",
       "                        <td id=\"T_b4fd2_row1_col9\" class=\"data row1 col9\" >32</td>\n",
       "                        <td id=\"T_b4fd2_row1_col10\" class=\"data row1 col10\" >2</td>\n",
       "            </tr>\n",
       "            <tr>\n",
       "                        <th id=\"T_b4fd2_level0_row2\" class=\"row_heading level0 row2\" >164</th>\n",
       "                        <td id=\"T_b4fd2_row2_col0\" class=\"data row2 col0\" >986.380000</td>\n",
       "                        <td id=\"T_b4fd2_row2_col1\" class=\"data row2 col1\" >1108.790000</td>\n",
       "                        <td id=\"T_b4fd2_row2_col2\" class=\"data row2 col2\" >1387.210000</td>\n",
       "                        <td id=\"T_b4fd2_row2_col3\" class=\"data row2 col3\" >571.940000</td>\n",
       "                        <td id=\"T_b4fd2_row2_col4\" class=\"data row2 col4\" >1.920000</td>\n",
       "                        <td id=\"T_b4fd2_row2_col5\" class=\"data row2 col5\" >2.420000</td>\n",
       "                        <td id=\"T_b4fd2_row2_col6\" class=\"data row2 col6\" >1</td>\n",
       "                        <td id=\"T_b4fd2_row2_col7\" class=\"data row2 col7\" >1</td>\n",
       "                        <td id=\"T_b4fd2_row2_col8\" class=\"data row2 col8\" >1</td>\n",
       "                        <td id=\"T_b4fd2_row2_col9\" class=\"data row2 col9\" >21</td>\n",
       "                        <td id=\"T_b4fd2_row2_col10\" class=\"data row2 col10\" >2</td>\n",
       "            </tr>\n",
       "            <tr>\n",
       "                        <th id=\"T_b4fd2_level0_row3\" class=\"row_heading level0 row3\" >31</th>\n",
       "                        <td id=\"T_b4fd2_row3_col0\" class=\"data row3 col0\" >0.000000</td>\n",
       "                        <td id=\"T_b4fd2_row3_col1\" class=\"data row3 col1\" >11285.060000</td>\n",
       "                        <td id=\"T_b4fd2_row3_col2\" class=\"data row3 col2\" >174.410000</td>\n",
       "                        <td id=\"T_b4fd2_row3_col3\" class=\"data row3 col3\" >1082.750000</td>\n",
       "                        <td id=\"T_b4fd2_row3_col4\" class=\"data row3 col4\" >10.420000</td>\n",
       "                        <td id=\"T_b4fd2_row3_col5\" class=\"data row3 col5\" >0.160000</td>\n",
       "                        <td id=\"T_b4fd2_row3_col6\" class=\"data row3 col6\" >0</td>\n",
       "                        <td id=\"T_b4fd2_row3_col7\" class=\"data row3 col7\" >1</td>\n",
       "                        <td id=\"T_b4fd2_row3_col8\" class=\"data row3 col8\" >1</td>\n",
       "                        <td id=\"T_b4fd2_row3_col9\" class=\"data row3 col9\" >44</td>\n",
       "                        <td id=\"T_b4fd2_row3_col10\" class=\"data row3 col10\" >2</td>\n",
       "            </tr>\n",
       "            <tr>\n",
       "                        <th id=\"T_b4fd2_level0_row4\" class=\"row_heading level0 row4\" >226</th>\n",
       "                        <td id=\"T_b4fd2_row4_col0\" class=\"data row4 col0\" >21.020000</td>\n",
       "                        <td id=\"T_b4fd2_row4_col1\" class=\"data row4 col1\" >9642.330000</td>\n",
       "                        <td id=\"T_b4fd2_row4_col2\" class=\"data row4 col2\" >748.480000</td>\n",
       "                        <td id=\"T_b4fd2_row4_col3\" class=\"data row4 col3\" >818.660000</td>\n",
       "                        <td id=\"T_b4fd2_row4_col4\" class=\"data row4 col4\" >11.760000</td>\n",
       "                        <td id=\"T_b4fd2_row4_col5\" class=\"data row4 col5\" >0.970000</td>\n",
       "                        <td id=\"T_b4fd2_row4_col6\" class=\"data row4 col6\" >1</td>\n",
       "                        <td id=\"T_b4fd2_row4_col7\" class=\"data row4 col7\" >1</td>\n",
       "                        <td id=\"T_b4fd2_row4_col8\" class=\"data row4 col8\" >1</td>\n",
       "                        <td id=\"T_b4fd2_row4_col9\" class=\"data row4 col9\" >34</td>\n",
       "                        <td id=\"T_b4fd2_row4_col10\" class=\"data row4 col10\" >2</td>\n",
       "            </tr>\n",
       "            <tr>\n",
       "                        <th id=\"T_b4fd2_level0_row5\" class=\"row_heading level0 row5\" >304</th>\n",
       "                        <td id=\"T_b4fd2_row5_col0\" class=\"data row5 col0\" >0.000000</td>\n",
       "                        <td id=\"T_b4fd2_row5_col1\" class=\"data row5 col1\" >6360.290000</td>\n",
       "                        <td id=\"T_b4fd2_row5_col2\" class=\"data row5 col2\" >1354.420000</td>\n",
       "                        <td id=\"T_b4fd2_row5_col3\" class=\"data row5 col3\" >2079.340000</td>\n",
       "                        <td id=\"T_b4fd2_row5_col4\" class=\"data row5 col4\" >3.050000</td>\n",
       "                        <td id=\"T_b4fd2_row5_col5\" class=\"data row5 col5\" >0.640000</td>\n",
       "                        <td id=\"T_b4fd2_row5_col6\" class=\"data row5 col6\" >1</td>\n",
       "                        <td id=\"T_b4fd2_row5_col7\" class=\"data row5 col7\" >1</td>\n",
       "                        <td id=\"T_b4fd2_row5_col8\" class=\"data row5 col8\" >2</td>\n",
       "                        <td id=\"T_b4fd2_row5_col9\" class=\"data row5 col9\" >39</td>\n",
       "                        <td id=\"T_b4fd2_row5_col10\" class=\"data row5 col10\" >2</td>\n",
       "            </tr>\n",
       "            <tr>\n",
       "                        <th id=\"T_b4fd2_level0_row6\" class=\"row_heading level0 row6\" >192</th>\n",
       "                        <td id=\"T_b4fd2_row6_col0\" class=\"data row6 col0\" >239.760000</td>\n",
       "                        <td id=\"T_b4fd2_row6_col1\" class=\"data row6 col1\" >5632.550000</td>\n",
       "                        <td id=\"T_b4fd2_row6_col2\" class=\"data row6 col2\" >237.770000</td>\n",
       "                        <td id=\"T_b4fd2_row6_col3\" class=\"data row6 col3\" >1339.750000</td>\n",
       "                        <td id=\"T_b4fd2_row6_col4\" class=\"data row6 col4\" >4.220000</td>\n",
       "                        <td id=\"T_b4fd2_row6_col5\" class=\"data row6 col5\" >0.180000</td>\n",
       "                        <td id=\"T_b4fd2_row6_col6\" class=\"data row6 col6\" >0</td>\n",
       "                        <td id=\"T_b4fd2_row6_col7\" class=\"data row6 col7\" >1</td>\n",
       "                        <td id=\"T_b4fd2_row6_col8\" class=\"data row6 col8\" >1</td>\n",
       "                        <td id=\"T_b4fd2_row6_col9\" class=\"data row6 col9\" >24</td>\n",
       "                        <td id=\"T_b4fd2_row6_col10\" class=\"data row6 col10\" >2</td>\n",
       "            </tr>\n",
       "            <tr>\n",
       "                        <th id=\"T_b4fd2_level0_row7\" class=\"row_heading level0 row7\" >121</th>\n",
       "                        <td id=\"T_b4fd2_row7_col0\" class=\"data row7 col0\" >0.000000</td>\n",
       "                        <td id=\"T_b4fd2_row7_col1\" class=\"data row7 col1\" >15545.330000</td>\n",
       "                        <td id=\"T_b4fd2_row7_col2\" class=\"data row7 col2\" >37.740000</td>\n",
       "                        <td id=\"T_b4fd2_row7_col3\" class=\"data row7 col3\" >1826.330000</td>\n",
       "                        <td id=\"T_b4fd2_row7_col4\" class=\"data row7 col4\" >8.520000</td>\n",
       "                        <td id=\"T_b4fd2_row7_col5\" class=\"data row7 col5\" >0.030000</td>\n",
       "                        <td id=\"T_b4fd2_row7_col6\" class=\"data row7 col6\" >0</td>\n",
       "                        <td id=\"T_b4fd2_row7_col7\" class=\"data row7 col7\" >1</td>\n",
       "                        <td id=\"T_b4fd2_row7_col8\" class=\"data row7 col8\" >1</td>\n",
       "                        <td id=\"T_b4fd2_row7_col9\" class=\"data row7 col9\" >32</td>\n",
       "                        <td id=\"T_b4fd2_row7_col10\" class=\"data row7 col10\" >1</td>\n",
       "            </tr>\n",
       "            <tr>\n",
       "                        <th id=\"T_b4fd2_level0_row8\" class=\"row_heading level0 row8\" >40</th>\n",
       "                        <td id=\"T_b4fd2_row8_col0\" class=\"data row8 col0\" >0.000000</td>\n",
       "                        <td id=\"T_b4fd2_row8_col1\" class=\"data row8 col1\" >15535.330000</td>\n",
       "                        <td id=\"T_b4fd2_row8_col2\" class=\"data row8 col2\" >37.720000</td>\n",
       "                        <td id=\"T_b4fd2_row8_col3\" class=\"data row8 col3\" >1826.340000</td>\n",
       "                        <td id=\"T_b4fd2_row8_col4\" class=\"data row8 col4\" >8.510000</td>\n",
       "                        <td id=\"T_b4fd2_row8_col5\" class=\"data row8 col5\" >0.020000</td>\n",
       "                        <td id=\"T_b4fd2_row8_col6\" class=\"data row8 col6\" >0</td>\n",
       "                        <td id=\"T_b4fd2_row8_col7\" class=\"data row8 col7\" >1</td>\n",
       "                        <td id=\"T_b4fd2_row8_col8\" class=\"data row8 col8\" >1</td>\n",
       "                        <td id=\"T_b4fd2_row8_col9\" class=\"data row8 col9\" >31</td>\n",
       "                        <td id=\"T_b4fd2_row8_col10\" class=\"data row8 col10\" >1</td>\n",
       "            </tr>\n",
       "            <tr>\n",
       "                        <th id=\"T_b4fd2_level0_row9\" class=\"row_heading level0 row9\" >131</th>\n",
       "                        <td id=\"T_b4fd2_row9_col0\" class=\"data row9 col0\" >986.550000</td>\n",
       "                        <td id=\"T_b4fd2_row9_col1\" class=\"data row9 col1\" >1108.730000</td>\n",
       "                        <td id=\"T_b4fd2_row9_col2\" class=\"data row9 col2\" >1387.240000</td>\n",
       "                        <td id=\"T_b4fd2_row9_col3\" class=\"data row9 col3\" >571.930000</td>\n",
       "                        <td id=\"T_b4fd2_row9_col4\" class=\"data row9 col4\" >1.950000</td>\n",
       "                        <td id=\"T_b4fd2_row9_col5\" class=\"data row9 col5\" >2.440000</td>\n",
       "                        <td id=\"T_b4fd2_row9_col6\" class=\"data row9 col6\" >1</td>\n",
       "                        <td id=\"T_b4fd2_row9_col7\" class=\"data row9 col7\" >1</td>\n",
       "                        <td id=\"T_b4fd2_row9_col8\" class=\"data row9 col8\" >1</td>\n",
       "                        <td id=\"T_b4fd2_row9_col9\" class=\"data row9 col9\" >27</td>\n",
       "                        <td id=\"T_b4fd2_row9_col10\" class=\"data row9 col10\" >2</td>\n",
       "            </tr>\n",
       "    </tbody></table>"
      ],
      "text/plain": [
       "<pandas.io.formats.style.Styler at 0x221f0e2a970>"
      ]
     },
     "execution_count": 7,
     "metadata": {},
     "output_type": "execute_result"
    }
   ],
   "source": [
    "# Display 10 random samples of items\n",
    "# \"YlGnBu\",\"RdBu_r\", \"BrBG_r\", & \"PuOr_r are\" other good diverging colormaps\n",
    "df.sample(10).style.background_gradient(cmap=\"RdYlGn\")\n"
   ]
  },
  {
   "cell_type": "code",
   "execution_count": 8,
   "metadata": {
    "colab": {
     "base_uri": "https://localhost:8080/",
     "height": 0
    },
    "executionInfo": {
     "elapsed": 74,
     "status": "ok",
     "timestamp": 1649345006680,
     "user": {
      "displayName": "hichem felouat",
      "userId": "06423185161580092580"
     },
     "user_tz": -60
    },
    "id": "nctOVmpis-Ny",
    "outputId": "1bc13b22-e604-4d52-a340-0c36fd979700"
   },
   "outputs": [
    {
     "data": {
      "text/html": [
       "<style  type=\"text/css\" >\n",
       "#T_be58e_row0_col0,#T_be58e_row0_col3,#T_be58e_row0_col4,#T_be58e_row0_col5,#T_be58e_row0_col6,#T_be58e_row1_col0,#T_be58e_row2_col0,#T_be58e_row2_col3,#T_be58e_row3_col0,#T_be58e_row4_col0,#T_be58e_row4_col1,#T_be58e_row4_col2,#T_be58e_row4_col3,#T_be58e_row4_col4,#T_be58e_row4_col5,#T_be58e_row4_col6,#T_be58e_row4_col7,#T_be58e_row5_col0,#T_be58e_row5_col1,#T_be58e_row5_col2,#T_be58e_row5_col3,#T_be58e_row5_col4,#T_be58e_row5_col5,#T_be58e_row5_col6,#T_be58e_row5_col7,#T_be58e_row6_col0,#T_be58e_row6_col1,#T_be58e_row6_col2,#T_be58e_row6_col3,#T_be58e_row6_col4,#T_be58e_row6_col5,#T_be58e_row6_col6,#T_be58e_row6_col7,#T_be58e_row7_col0,#T_be58e_row7_col1,#T_be58e_row7_col2,#T_be58e_row7_col3,#T_be58e_row7_col4,#T_be58e_row7_col5,#T_be58e_row7_col6,#T_be58e_row7_col7,#T_be58e_row8_col0,#T_be58e_row8_col1,#T_be58e_row8_col2,#T_be58e_row8_col3,#T_be58e_row8_col4,#T_be58e_row8_col5,#T_be58e_row8_col6,#T_be58e_row8_col7,#T_be58e_row9_col0,#T_be58e_row9_col2,#T_be58e_row9_col6,#T_be58e_row9_col7,#T_be58e_row10_col0,#T_be58e_row10_col1,#T_be58e_row10_col2,#T_be58e_row10_col3,#T_be58e_row10_col4,#T_be58e_row10_col5,#T_be58e_row10_col6,#T_be58e_row10_col7{\n",
       "            background-color:  #053061;\n",
       "            color:  #f1f1f1;\n",
       "        }#T_be58e_row0_col1{\n",
       "            background-color:  #073467;\n",
       "            color:  #f1f1f1;\n",
       "        }#T_be58e_row0_col2{\n",
       "            background-color:  #134c87;\n",
       "            color:  #f1f1f1;\n",
       "        }#T_be58e_row0_col7{\n",
       "            background-color:  #185493;\n",
       "            color:  #f1f1f1;\n",
       "        }#T_be58e_row1_col1,#T_be58e_row1_col2,#T_be58e_row1_col4,#T_be58e_row1_col5,#T_be58e_row1_col6,#T_be58e_row1_col7,#T_be58e_row3_col3{\n",
       "            background-color:  #67001f;\n",
       "            color:  #f1f1f1;\n",
       "        }#T_be58e_row1_col3{\n",
       "            background-color:  #3480b9;\n",
       "            color:  #000000;\n",
       "        }#T_be58e_row2_col1,#T_be58e_row2_col6{\n",
       "            background-color:  #1b5a9c;\n",
       "            color:  #f1f1f1;\n",
       "        }#T_be58e_row2_col2{\n",
       "            background-color:  #3e8cbf;\n",
       "            color:  #000000;\n",
       "        }#T_be58e_row2_col4{\n",
       "            background-color:  #0d3f76;\n",
       "            color:  #f1f1f1;\n",
       "        }#T_be58e_row2_col5,#T_be58e_row9_col3{\n",
       "            background-color:  #0e4179;\n",
       "            color:  #f1f1f1;\n",
       "        }#T_be58e_row2_col7{\n",
       "            background-color:  #62a7ce;\n",
       "            color:  #000000;\n",
       "        }#T_be58e_row3_col1{\n",
       "            background-color:  #3b88be;\n",
       "            color:  #000000;\n",
       "        }#T_be58e_row3_col2{\n",
       "            background-color:  #327cb7;\n",
       "            color:  #000000;\n",
       "        }#T_be58e_row3_col4{\n",
       "            background-color:  #5fa5cd;\n",
       "            color:  #000000;\n",
       "        }#T_be58e_row3_col5{\n",
       "            background-color:  #3a87bd;\n",
       "            color:  #000000;\n",
       "        }#T_be58e_row3_col6{\n",
       "            background-color:  #3885bc;\n",
       "            color:  #000000;\n",
       "        }#T_be58e_row3_col7{\n",
       "            background-color:  #337eb8;\n",
       "            color:  #000000;\n",
       "        }#T_be58e_row9_col1,#T_be58e_row9_col4,#T_be58e_row9_col5{\n",
       "            background-color:  #063264;\n",
       "            color:  #f1f1f1;\n",
       "        }</style><table id=\"T_be58e_\" ><thead>    <tr>        <th class=\"blank level0\" ></th>        <th class=\"col_heading level0 col0\" >count</th>        <th class=\"col_heading level0 col1\" >mean</th>        <th class=\"col_heading level0 col2\" >std</th>        <th class=\"col_heading level0 col3\" >min</th>        <th class=\"col_heading level0 col4\" >25%</th>        <th class=\"col_heading level0 col5\" >50%</th>        <th class=\"col_heading level0 col6\" >75%</th>        <th class=\"col_heading level0 col7\" >max</th>    </tr></thead><tbody>\n",
       "                <tr>\n",
       "                        <th id=\"T_be58e_level0_row0\" class=\"row_heading level0 row0\" >UNSTIMULATED_IFNY_PGML</th>\n",
       "                        <td id=\"T_be58e_row0_col0\" class=\"data row0 col0\" >392.00</td>\n",
       "                        <td id=\"T_be58e_row0_col1\" class=\"data row0 col1\" >101.04</td>\n",
       "                        <td id=\"T_be58e_row0_col2\" class=\"data row0 col2\" >265.64</td>\n",
       "                        <td id=\"T_be58e_row0_col3\" class=\"data row0 col3\" >0.00</td>\n",
       "                        <td id=\"T_be58e_row0_col4\" class=\"data row0 col4\" >0.00</td>\n",
       "                        <td id=\"T_be58e_row0_col5\" class=\"data row0 col5\" >0.00</td>\n",
       "                        <td id=\"T_be58e_row0_col6\" class=\"data row0 col6\" >39.86</td>\n",
       "                        <td id=\"T_be58e_row0_col7\" class=\"data row0 col7\" >1667.49</td>\n",
       "            </tr>\n",
       "            <tr>\n",
       "                        <th id=\"T_be58e_level0_row1\" class=\"row_heading level0 row1\" >PHA_IFNY_PGML</th>\n",
       "                        <td id=\"T_be58e_row1_col0\" class=\"data row1 col0\" >392.00</td>\n",
       "                        <td id=\"T_be58e_row1_col1\" class=\"data row1 col1\" >8765.42</td>\n",
       "                        <td id=\"T_be58e_row1_col2\" class=\"data row1 col2\" >5223.19</td>\n",
       "                        <td id=\"T_be58e_row1_col3\" class=\"data row1 col3\" >83.92</td>\n",
       "                        <td id=\"T_be58e_row1_col4\" class=\"data row1 col4\" >4258.18</td>\n",
       "                        <td id=\"T_be58e_row1_col5\" class=\"data row1 col5\" >8198.20</td>\n",
       "                        <td id=\"T_be58e_row1_col6\" class=\"data row1 col6\" >11739.90</td>\n",
       "                        <td id=\"T_be58e_row1_col7\" class=\"data row1 col7\" >25067.65</td>\n",
       "            </tr>\n",
       "            <tr>\n",
       "                        <th id=\"T_be58e_level0_row2\" class=\"row_heading level0 row2\" >AG_IFNY_PGML</th>\n",
       "                        <td id=\"T_be58e_row2_col0\" class=\"data row2 col0\" >392.00</td>\n",
       "                        <td id=\"T_be58e_row2_col1\" class=\"data row2 col1\" >702.57</td>\n",
       "                        <td id=\"T_be58e_row2_col2\" class=\"data row2 col2\" >974.96</td>\n",
       "                        <td id=\"T_be58e_row2_col3\" class=\"data row2 col3\" >0.00</td>\n",
       "                        <td id=\"T_be58e_row2_col4\" class=\"data row2 col4\" >117.68</td>\n",
       "                        <td id=\"T_be58e_row2_col5\" class=\"data row2 col5\" >270.80</td>\n",
       "                        <td id=\"T_be58e_row2_col6\" class=\"data row2 col6\" >939.16</td>\n",
       "                        <td id=\"T_be58e_row2_col7\" class=\"data row2 col7\" >6003.09</td>\n",
       "            </tr>\n",
       "            <tr>\n",
       "                        <th id=\"T_be58e_level0_row3\" class=\"row_heading level0 row3\" >CD3_NUMBER</th>\n",
       "                        <td id=\"T_be58e_row3_col0\" class=\"data row3 col0\" >392.00</td>\n",
       "                        <td id=\"T_be58e_row3_col1\" class=\"data row3 col1\" >1563.79</td>\n",
       "                        <td id=\"T_be58e_row3_col2\" class=\"data row3 col2\" >787.00</td>\n",
       "                        <td id=\"T_be58e_row3_col3\" class=\"data row3 col3\" >533.56</td>\n",
       "                        <td id=\"T_be58e_row3_col4\" class=\"data row3 col4\" >1009.15</td>\n",
       "                        <td id=\"T_be58e_row3_col5\" class=\"data row3 col5\" >1423.33</td>\n",
       "                        <td id=\"T_be58e_row3_col6\" class=\"data row3 col6\" >1973.37</td>\n",
       "                        <td id=\"T_be58e_row3_col7\" class=\"data row3 col7\" >3878.69</td>\n",
       "            </tr>\n",
       "            <tr>\n",
       "                        <th id=\"T_be58e_level0_row4\" class=\"row_heading level0 row4\" >PHA_NORMALIZED</th>\n",
       "                        <td id=\"T_be58e_row4_col0\" class=\"data row4 col0\" >392.00</td>\n",
       "                        <td id=\"T_be58e_row4_col1\" class=\"data row4 col1\" >6.39</td>\n",
       "                        <td id=\"T_be58e_row4_col2\" class=\"data row4 col2\" >4.50</td>\n",
       "                        <td id=\"T_be58e_row4_col3\" class=\"data row4 col3\" >0.07</td>\n",
       "                        <td id=\"T_be58e_row4_col4\" class=\"data row4 col4\" >3.06</td>\n",
       "                        <td id=\"T_be58e_row4_col5\" class=\"data row4 col5\" >5.18</td>\n",
       "                        <td id=\"T_be58e_row4_col6\" class=\"data row4 col6\" >8.76</td>\n",
       "                        <td id=\"T_be58e_row4_col7\" class=\"data row4 col7\" >23.10</td>\n",
       "            </tr>\n",
       "            <tr>\n",
       "                        <th id=\"T_be58e_level0_row5\" class=\"row_heading level0 row5\" >AG_NORMALIZED</th>\n",
       "                        <td id=\"T_be58e_row5_col0\" class=\"data row5 col0\" >392.00</td>\n",
       "                        <td id=\"T_be58e_row5_col1\" class=\"data row5 col1\" >0.64</td>\n",
       "                        <td id=\"T_be58e_row5_col2\" class=\"data row5 col2\" >1.14</td>\n",
       "                        <td id=\"T_be58e_row5_col3\" class=\"data row5 col3\" >0.00</td>\n",
       "                        <td id=\"T_be58e_row5_col4\" class=\"data row5 col4\" >0.10</td>\n",
       "                        <td id=\"T_be58e_row5_col5\" class=\"data row5 col5\" >0.23</td>\n",
       "                        <td id=\"T_be58e_row5_col6\" class=\"data row5 col6\" >0.64</td>\n",
       "                        <td id=\"T_be58e_row5_col7\" class=\"data row5 col7\" >7.99</td>\n",
       "            </tr>\n",
       "            <tr>\n",
       "                        <th id=\"T_be58e_level0_row6\" class=\"row_heading level0 row6\" >IGRA_RESULT</th>\n",
       "                        <td id=\"T_be58e_row6_col0\" class=\"data row6 col0\" >392.00</td>\n",
       "                        <td id=\"T_be58e_row6_col1\" class=\"data row6 col1\" >0.61</td>\n",
       "                        <td id=\"T_be58e_row6_col2\" class=\"data row6 col2\" >0.49</td>\n",
       "                        <td id=\"T_be58e_row6_col3\" class=\"data row6 col3\" >0.00</td>\n",
       "                        <td id=\"T_be58e_row6_col4\" class=\"data row6 col4\" >0.00</td>\n",
       "                        <td id=\"T_be58e_row6_col5\" class=\"data row6 col5\" >1.00</td>\n",
       "                        <td id=\"T_be58e_row6_col6\" class=\"data row6 col6\" >1.00</td>\n",
       "                        <td id=\"T_be58e_row6_col7\" class=\"data row6 col7\" >1.00</td>\n",
       "            </tr>\n",
       "            <tr>\n",
       "                        <th id=\"T_be58e_level0_row7\" class=\"row_heading level0 row7\" >TST_RESULT</th>\n",
       "                        <td id=\"T_be58e_row7_col0\" class=\"data row7 col0\" >392.00</td>\n",
       "                        <td id=\"T_be58e_row7_col1\" class=\"data row7 col1\" >0.90</td>\n",
       "                        <td id=\"T_be58e_row7_col2\" class=\"data row7 col2\" >0.31</td>\n",
       "                        <td id=\"T_be58e_row7_col3\" class=\"data row7 col3\" >0.00</td>\n",
       "                        <td id=\"T_be58e_row7_col4\" class=\"data row7 col4\" >1.00</td>\n",
       "                        <td id=\"T_be58e_row7_col5\" class=\"data row7 col5\" >1.00</td>\n",
       "                        <td id=\"T_be58e_row7_col6\" class=\"data row7 col6\" >1.00</td>\n",
       "                        <td id=\"T_be58e_row7_col7\" class=\"data row7 col7\" >1.00</td>\n",
       "            </tr>\n",
       "            <tr>\n",
       "                        <th id=\"T_be58e_level0_row8\" class=\"row_heading level0 row8\" >SEX</th>\n",
       "                        <td id=\"T_be58e_row8_col0\" class=\"data row8 col0\" >392.00</td>\n",
       "                        <td id=\"T_be58e_row8_col1\" class=\"data row8 col1\" >1.56</td>\n",
       "                        <td id=\"T_be58e_row8_col2\" class=\"data row8 col2\" >0.50</td>\n",
       "                        <td id=\"T_be58e_row8_col3\" class=\"data row8 col3\" >1.00</td>\n",
       "                        <td id=\"T_be58e_row8_col4\" class=\"data row8 col4\" >1.00</td>\n",
       "                        <td id=\"T_be58e_row8_col5\" class=\"data row8 col5\" >2.00</td>\n",
       "                        <td id=\"T_be58e_row8_col6\" class=\"data row8 col6\" >2.00</td>\n",
       "                        <td id=\"T_be58e_row8_col7\" class=\"data row8 col7\" >2.00</td>\n",
       "            </tr>\n",
       "            <tr>\n",
       "                        <th id=\"T_be58e_level0_row9\" class=\"row_heading level0 row9\" >AGE</th>\n",
       "                        <td id=\"T_be58e_row9_col0\" class=\"data row9 col0\" >392.00</td>\n",
       "                        <td id=\"T_be58e_row9_col1\" class=\"data row9 col1\" >37.02</td>\n",
       "                        <td id=\"T_be58e_row9_col2\" class=\"data row9 col2\" >10.66</td>\n",
       "                        <td id=\"T_be58e_row9_col3\" class=\"data row9 col3\" >17.00</td>\n",
       "                        <td id=\"T_be58e_row9_col4\" class=\"data row9 col4\" >28.00</td>\n",
       "                        <td id=\"T_be58e_row9_col5\" class=\"data row9 col5\" >35.50</td>\n",
       "                        <td id=\"T_be58e_row9_col6\" class=\"data row9 col6\" >45.00</td>\n",
       "                        <td id=\"T_be58e_row9_col7\" class=\"data row9 col7\" >61.00</td>\n",
       "            </tr>\n",
       "            <tr>\n",
       "                        <th id=\"T_be58e_level0_row10\" class=\"row_heading level0 row10\" >ETHNIC_BACKGROUND</th>\n",
       "                        <td id=\"T_be58e_row10_col0\" class=\"data row10 col0\" >392.00</td>\n",
       "                        <td id=\"T_be58e_row10_col1\" class=\"data row10 col1\" >1.86</td>\n",
       "                        <td id=\"T_be58e_row10_col2\" class=\"data row10 col2\" >0.35</td>\n",
       "                        <td id=\"T_be58e_row10_col3\" class=\"data row10 col3\" >1.00</td>\n",
       "                        <td id=\"T_be58e_row10_col4\" class=\"data row10 col4\" >2.00</td>\n",
       "                        <td id=\"T_be58e_row10_col5\" class=\"data row10 col5\" >2.00</td>\n",
       "                        <td id=\"T_be58e_row10_col6\" class=\"data row10 col6\" >2.00</td>\n",
       "                        <td id=\"T_be58e_row10_col7\" class=\"data row10 col7\" >2.00</td>\n",
       "            </tr>\n",
       "    </tbody></table>"
      ],
      "text/plain": [
       "<pandas.io.formats.style.Styler at 0x221f11e0e50>"
      ]
     },
     "execution_count": 8,
     "metadata": {},
     "output_type": "execute_result"
    }
   ],
   "source": [
    "# Display statistics for numeric columns\n",
    "df.describe().T.style.format(\"{:.2f}\").background_gradient(cmap=\"RdBu_r\")\n"
   ]
  },
  {
   "cell_type": "markdown",
   "metadata": {
    "id": "uVQBojhK-Rgc"
   },
   "source": [
    "## **Duplicate Rows and Missing Values**"
   ]
  },
  {
   "cell_type": "code",
   "execution_count": 9,
   "metadata": {
    "colab": {
     "base_uri": "https://localhost:8080/"
    },
    "executionInfo": {
     "elapsed": 73,
     "status": "ok",
     "timestamp": 1649345006683,
     "user": {
      "displayName": "hichem felouat",
      "userId": "06423185161580092580"
     },
     "user_tz": -60
    },
    "id": "svaq30KSDUoY",
    "outputId": "8f1d6b75-2fbb-4108-b6ad-1b1002fd54f1"
   },
   "outputs": [
    {
     "name": "stdout",
     "output_type": "stream",
     "text": [
      "392\n",
      "number of duplicate rows dropped :  (2, 11)\n",
      "390\n"
     ]
    }
   ],
   "source": [
    "# Dropping the duplicate rows\n",
    "\n",
    "print(len(df))\n",
    "duplicate_rows = df[df.duplicated()]\n",
    "\n",
    "df.drop_duplicates(inplace=True)\n",
    "print(\"number of duplicate rows dropped : \",duplicate_rows.shape)\n",
    "print(len(df))\n"
   ]
  },
  {
   "cell_type": "code",
   "execution_count": 7,
   "metadata": {
    "colab": {
     "base_uri": "https://localhost:8080/",
     "height": 0
    },
    "executionInfo": {
     "elapsed": 76,
     "status": "ok",
     "timestamp": 1649345006690,
     "user": {
      "displayName": "hichem felouat",
      "userId": "06423185161580092580"
     },
     "user_tz": -60
    },
    "id": "PErXObDLDYTK",
    "outputId": "7e7163a2-780c-4a96-b275-203be496de89"
   },
   "outputs": [
    {
     "name": "stdout",
     "output_type": "stream",
     "text": [
      "SUM : \n",
      " UNSTIMULATED_IFNY_PGML    0\n",
      "PHA_IFNY_PGML             0\n",
      "AG_IFNY_PGML              0\n",
      "CD3_NUMBER                0\n",
      "PHA_NORMALIZED            0\n",
      "AG_NORMALIZED             0\n",
      "IGRA_RESULT               0\n",
      "TST_RESULT                0\n",
      "SEX                       0\n",
      "AGE                       0\n",
      "ETHNIC_BACKGROUND         0\n",
      "dtype: int64\n"
     ]
    },
    {
     "data": {
      "text/plain": [
       "<AxesSubplot:>"
      ]
     },
     "execution_count": 7,
     "metadata": {},
     "output_type": "execute_result"
    },
    {
     "data": {
      "image/png": "[encoded data removed]",
      "text/plain": [
       "<Figure size 432x288 with 1 Axes>"
      ]
     },
     "metadata": {
      "needs_background": "light"
     },
     "output_type": "display_data"
    }
   ],
   "source": [
    "# To check missing values\n",
    "print(\"SUM : \\n\",df.isnull().sum())\n",
    "sns.heatmap(df.isnull(), cbar=False, yticklabels=False, cmap=\"viridis\")\n"
   ]
  },
  {
   "cell_type": "code",
   "execution_count": 10,
   "metadata": {
    "colab": {
     "base_uri": "https://localhost:8080/"
    },
    "executionInfo": {
     "elapsed": 72,
     "status": "ok",
     "timestamp": 1649345006692,
     "user": {
      "displayName": "hichem felouat",
      "userId": "06423185161580092580"
     },
     "user_tz": -60
    },
    "id": "mSliPdUTKh04",
    "outputId": "871513a9-4dc8-46c5-c4bd-c928415f41a3"
   },
   "outputs": [
    {
     "name": "stdout",
     "output_type": "stream",
     "text": [
      "SUM : \n",
      " UNSTIMULATED_IFNY_PGML    0\n",
      "PHA_IFNY_PGML             0\n",
      "AG_IFNY_PGML              0\n",
      "CD3_NUMBER                0\n",
      "PHA_NORMALIZED            0\n",
      "AG_NORMALIZED             0\n",
      "IGRA_RESULT               0\n",
      "TST_RESULT                0\n",
      "SEX                       0\n",
      "AGE                       0\n",
      "ETHNIC_BACKGROUND         0\n",
      "dtype: int64\n"
     ]
    }
   ],
   "source": [
    "df = df.dropna() \n",
    "print(\"SUM : \\n\",df.isnull().sum())"
   ]
  },
  {
   "cell_type": "code",
   "execution_count": 9,
   "metadata": {
    "colab": {
     "base_uri": "https://localhost:8080/",
     "height": 0
    },
    "executionInfo": {
     "elapsed": 73,
     "status": "ok",
     "timestamp": 1649345006694,
     "user": {
      "displayName": "hichem felouat",
      "userId": "06423185161580092580"
     },
     "user_tz": -60
    },
    "id": "NEEGhLzSDfd4",
    "outputId": "2c1a85ae-897f-4dee-c77d-193dceaa53c7"
   },
   "outputs": [
    {
     "data": {
      "text/plain": [
       "'\\n# non-numeric columns  must be filled with mode\\n\\ndf[\"Gender\"]        = df[\"Gender\"].fillna(df[\"Gender\"].mode()[0])\\ndf[\"Married\"]       = df[\"Married\"].fillna(df[\"Married\"].mode()[0])\\ndf[\"Dependents\"]    = df[\"Dependents\"].fillna(df[\"Dependents\"].mode()[0])\\ndf[\"Self_Employed\"] = df[\"Self_Employed\"].fillna(df[\"Self_Employed\"].mode()[0])\\n\\n# numeric columns must be filled with the mean or running average\\n\\ndf[\"LoanAmount\"]       = df[\"LoanAmount\"].fillna(df[\"LoanAmount\"].mean()) \\ndf[\"Loan_Amount_Term\"] = df[\"Loan_Amount_Term\"].fillna(df[\"Loan_Amount_Term\"].mean())\\ndf[\"Credit_History\"]   = df[\"Credit_History\"].fillna(df[\"Credit_History\"].mean())\\n\\nprint(\"SUM : \\n\",df.isnull().sum())\\n'"
      ]
     },
     "execution_count": 9,
     "metadata": {},
     "output_type": "execute_result"
    }
   ],
   "source": [
    "\"\"\"\n",
    "# non-numeric columns  must be filled with mode\n",
    "\n",
    "df[\"a\"]        = df[\"a\"].fillna(df[\"a\"].mode()[0])\n",
    "df[\"b\"]       = df[\"b\"].fillna(df[\"b\"].mode()[0])\n",
    "df[\"c\"]    = df[\"c\"].fillna(df[\"c\"].mode()[0])\n",
    "df[\"d\"] = df[\"d\"].fillna(df[\"d\"].mode()[0])\n",
    "\n",
    "# numeric columns must be filled with the mean or running average\n",
    "\n",
    "df[\"e\"]       = df[\"e\"].fillna(df[\"e\"].mean()) \n",
    "df[\"f\"] = df[\"f\"].fillna(df[\"f\"].mean())\n",
    "df[\"g\"]   = df[\"g\"].fillna(df[\"g\"].mean())\n",
    "\n",
    "print(\"SUM : \\n\",df.isnull().sum())\n",
    "\"\"\""
   ]
  },
  {
   "cell_type": "markdown",
   "metadata": {
    "id": "G6VCf7rz-ini"
   },
   "source": [
    "## **Mapping of Data Feature Values**"
   ]
  },
  {
   "cell_type": "code",
   "execution_count": 12,
   "metadata": {
    "colab": {
     "base_uri": "https://localhost:8080/"
    },
    "executionInfo": {
     "elapsed": 72,
     "status": "ok",
     "timestamp": 1649345006696,
     "user": {
      "displayName": "hichem felouat",
      "userId": "06423185161580092580"
     },
     "user_tz": -60
    },
    "id": "HIF12PmKH3g3",
    "outputId": "4af4f464-5ea7-427f-ec07-1775f947eaa3"
   },
   "outputs": [
    {
     "name": "stdout",
     "output_type": "stream",
     "text": [
      "-----------------------------------------------------------------------\n",
      "2    334\n",
      "1     56\n",
      "Name: ETHNIC_BACKGROUND, dtype: int64\n",
      "-----------------------------------------------------------------------\n",
      "1    349\n",
      "0     41\n",
      "Name: TST_RESULT, dtype: int64\n",
      "-----------------------------------------------------------------------\n",
      "2    217\n",
      "1    173\n",
      "Name: SEX, dtype: int64\n",
      "-----------------------------------------------------------------------\n",
      "1    237\n",
      "0    153\n",
      "Name: IGRA_RESULT, dtype: int64\n",
      "-----------------------------------------------------------------------\n"
     ]
    }
   ],
   "source": [
    "# value_counts() function : Return a Series containing counts of unique values.\n",
    "\n",
    "print(\"-----------------------------------------------------------------------\")\n",
    "print(df[\"ETHNIC_BACKGROUND\"].value_counts()) \n",
    "print(\"-----------------------------------------------------------------------\")\n",
    "print(df[\"TST_RESULT\"].value_counts()) \n",
    "print(\"-----------------------------------------------------------------------\")\n",
    "print(df[\"SEX\"].value_counts()) \n",
    "print(\"-----------------------------------------------------------------------\")\n",
    "print(df[\"IGRA_RESULT\"].value_counts()) \n",
    "print(\"-----------------------------------------------------------------------\")"
   ]
  },
  {
   "cell_type": "code",
   "execution_count": 1,
   "metadata": {
    "colab": {
     "base_uri": "https://localhost:8080/"
    },
    "executionInfo": {
     "elapsed": 72,
     "status": "ok",
     "timestamp": 1649345006698,
     "user": {
      "displayName": "hichem felouat",
      "userId": "06423185161580092580"
     },
     "user_tz": -60
    },
    "id": "JgbkUFIaJDNr",
    "outputId": "047344b6-d248-4dff-ffb4-c1f54ea20e02"
   },
   "outputs": [
    {
     "data": {
      "text/plain": [
       "'\\n# Mapping of data feature values   -- Convering Data to all numeric\\ndf[\"a\"]        = df[\"a\"].map({\"Male\":0,\"Female\":1})\\ndf[\"b\"]       = df[\"b\"].map({\"No\":0,\"Yes\":1})\\ndf[\"c\"]    = df[\"c\"].map({\"0\":0,\"1\":1,\"2\":2,\"3+\":3})\\ndf[\"d\"]     = df[\"d\"].map({\"Not Graduate\":0,\"Graduate\":1})\\ndf[\"e\"] = df[\"e\"].map({\"No\":0,\"Yes\":1})\\ndf[\"f\"] = df[\"f\"].map({\"Semiurban\":0,\"Urban\":1,\"Rural\":2})\\ndf[\"g\"]   = df[\"g\"].map({\"N\":0,\"Y\":1})\\n\\nprint(df.info())\\n'"
      ]
     },
     "execution_count": 1,
     "metadata": {},
     "output_type": "execute_result"
    }
   ],
   "source": [
    "\"\"\"\n",
    "# Mapping of data feature values   -- Convering Data to all numeric\n",
    "df[\"a\"]        = df[\"a\"].map({\"Male\":0,\"Female\":1})\n",
    "df[\"b\"]       = df[\"b\"].map({\"No\":0,\"Yes\":1})\n",
    "df[\"c\"]    = df[\"c\"].map({\"0\":0,\"1\":1,\"2\":2,\"3+\":3})\n",
    "df[\"d\"]     = df[\"d\"].map({\"Not Graduate\":0,\"Graduate\":1})\n",
    "df[\"e\"] = df[\"e\"].map({\"No\":0,\"Yes\":1})\n",
    "df[\"f\"] = df[\"f\"].map({\"Semiurban\":0,\"Urban\":1,\"Rural\":2})\n",
    "df[\"g\"]   = df[\"g\"].map({\"N\":0,\"Y\":1})\n",
    "\n",
    "print(df.info())\n",
    "\"\"\"\n"
   ]
  },
  {
   "cell_type": "code",
   "execution_count": 13,
   "metadata": {
    "colab": {
     "base_uri": "https://localhost:8080/",
     "height": 0
    },
    "executionInfo": {
     "elapsed": 71,
     "status": "ok",
     "timestamp": 1649345006700,
     "user": {
      "displayName": "hichem felouat",
      "userId": "06423185161580092580"
     },
     "user_tz": -60
    },
    "id": "HkU9-YRgNLkH",
    "outputId": "fdde62da-ec8b-4cad-da70-e3212b3c32b8"
   },
   "outputs": [
    {
     "data": {
      "text/html": [
       "<style  type=\"text/css\" >\n",
       "#T_ab968_row0_col0{\n",
       "            background-color:  #fffebe;\n",
       "            color:  #000000;\n",
       "        }#T_ab968_row0_col1,#T_ab968_row0_col3,#T_ab968_row0_col7,#T_ab968_row0_col8,#T_ab968_row1_col6,#T_ab968_row1_col7,#T_ab968_row2_col6,#T_ab968_row2_col7,#T_ab968_row3_col4,#T_ab968_row3_col6,#T_ab968_row3_col7,#T_ab968_row4_col6,#T_ab968_row4_col7,#T_ab968_row4_col8,#T_ab968_row5_col0,#T_ab968_row5_col7,#T_ab968_row5_col8,#T_ab968_row6_col6,#T_ab968_row6_col7,#T_ab968_row7_col2,#T_ab968_row7_col5,#T_ab968_row7_col6,#T_ab968_row7_col7,#T_ab968_row7_col8,#T_ab968_row9_col6,#T_ab968_row9_col7,#T_ab968_row9_col8,#T_ab968_row9_col9{\n",
       "            background-color:  #006837;\n",
       "            color:  #f1f1f1;\n",
       "        }#T_ab968_row0_col2{\n",
       "            background-color:  #f36b42;\n",
       "            color:  #000000;\n",
       "        }#T_ab968_row0_col4{\n",
       "            background-color:  #d7ee8a;\n",
       "            color:  #000000;\n",
       "        }#T_ab968_row0_col5{\n",
       "            background-color:  #b71126;\n",
       "            color:  #f1f1f1;\n",
       "        }#T_ab968_row0_col6,#T_ab968_row0_col10,#T_ab968_row1_col8,#T_ab968_row1_col10,#T_ab968_row2_col8,#T_ab968_row2_col10,#T_ab968_row3_col8,#T_ab968_row3_col10,#T_ab968_row4_col0,#T_ab968_row4_col2,#T_ab968_row4_col10,#T_ab968_row5_col6,#T_ab968_row5_col10,#T_ab968_row6_col1,#T_ab968_row6_col8,#T_ab968_row6_col10,#T_ab968_row7_col1,#T_ab968_row7_col3,#T_ab968_row7_col10,#T_ab968_row8_col2,#T_ab968_row8_col5,#T_ab968_row8_col6,#T_ab968_row8_col7,#T_ab968_row8_col8,#T_ab968_row8_col9,#T_ab968_row8_col10,#T_ab968_row9_col4,#T_ab968_row9_col10{\n",
       "            background-color:  #a50026;\n",
       "            color:  #f1f1f1;\n",
       "        }#T_ab968_row0_col9{\n",
       "            background-color:  #f47044;\n",
       "            color:  #000000;\n",
       "        }#T_ab968_row1_col0{\n",
       "            background-color:  #ef633f;\n",
       "            color:  #000000;\n",
       "        }#T_ab968_row1_col1{\n",
       "            background-color:  #fed07e;\n",
       "            color:  #000000;\n",
       "        }#T_ab968_row1_col2{\n",
       "            background-color:  #fdc372;\n",
       "            color:  #000000;\n",
       "        }#T_ab968_row1_col3{\n",
       "            background-color:  #ed5f3c;\n",
       "            color:  #000000;\n",
       "        }#T_ab968_row1_col4{\n",
       "            background-color:  #addc6f;\n",
       "            color:  #000000;\n",
       "        }#T_ab968_row1_col5{\n",
       "            background-color:  #f57245;\n",
       "            color:  #000000;\n",
       "        }#T_ab968_row1_col9,#T_ab968_row4_col4{\n",
       "            background-color:  #f8864f;\n",
       "            color:  #000000;\n",
       "        }#T_ab968_row2_col0,#T_ab968_row2_col2,#T_ab968_row2_col3{\n",
       "            background-color:  #af0926;\n",
       "            color:  #f1f1f1;\n",
       "        }#T_ab968_row2_col1{\n",
       "            background-color:  #f16640;\n",
       "            color:  #000000;\n",
       "        }#T_ab968_row2_col4{\n",
       "            background-color:  #e3f399;\n",
       "            color:  #000000;\n",
       "        }#T_ab968_row2_col5{\n",
       "            background-color:  #b10b26;\n",
       "            color:  #f1f1f1;\n",
       "        }#T_ab968_row2_col9{\n",
       "            background-color:  #f8fcb6;\n",
       "            color:  #000000;\n",
       "        }#T_ab968_row3_col0{\n",
       "            background-color:  #e95538;\n",
       "            color:  #000000;\n",
       "        }#T_ab968_row3_col1{\n",
       "            background-color:  #42ac5a;\n",
       "            color:  #000000;\n",
       "        }#T_ab968_row3_col2{\n",
       "            background-color:  #fca55d;\n",
       "            color:  #000000;\n",
       "        }#T_ab968_row3_col3{\n",
       "            background-color:  #fee999;\n",
       "            color:  #000000;\n",
       "        }#T_ab968_row3_col5{\n",
       "            background-color:  #da362a;\n",
       "            color:  #f1f1f1;\n",
       "        }#T_ab968_row3_col9{\n",
       "            background-color:  #fb9d59;\n",
       "            color:  #000000;\n",
       "        }#T_ab968_row4_col1{\n",
       "            background-color:  #e34933;\n",
       "            color:  #f1f1f1;\n",
       "        }#T_ab968_row4_col3{\n",
       "            background-color:  #ec5c3b;\n",
       "            color:  #000000;\n",
       "        }#T_ab968_row4_col5,#T_ab968_row6_col4{\n",
       "            background-color:  #a70226;\n",
       "            color:  #f1f1f1;\n",
       "        }#T_ab968_row4_col9,#T_ab968_row7_col9{\n",
       "            background-color:  #cfeb85;\n",
       "            color:  #000000;\n",
       "        }#T_ab968_row5_col1{\n",
       "            background-color:  #e0422f;\n",
       "            color:  #f1f1f1;\n",
       "        }#T_ab968_row5_col2{\n",
       "            background-color:  #fa9656;\n",
       "            color:  #000000;\n",
       "        }#T_ab968_row5_col3,#T_ab968_row8_col4{\n",
       "            background-color:  #84ca66;\n",
       "            color:  #000000;\n",
       "        }#T_ab968_row5_col4,#T_ab968_row6_col3{\n",
       "            background-color:  #ad0826;\n",
       "            color:  #f1f1f1;\n",
       "        }#T_ab968_row5_col5{\n",
       "            background-color:  #c41e27;\n",
       "            color:  #f1f1f1;\n",
       "        }#T_ab968_row5_col9{\n",
       "            background-color:  #d83128;\n",
       "            color:  #f1f1f1;\n",
       "        }#T_ab968_row6_col0{\n",
       "            background-color:  #dcf08f;\n",
       "            color:  #000000;\n",
       "        }#T_ab968_row6_col2{\n",
       "            background-color:  #fdb768;\n",
       "            color:  #000000;\n",
       "        }#T_ab968_row6_col5{\n",
       "            background-color:  #fdaf62;\n",
       "            color:  #000000;\n",
       "        }#T_ab968_row6_col9{\n",
       "            background-color:  #e24731;\n",
       "            color:  #f1f1f1;\n",
       "        }#T_ab968_row7_col0{\n",
       "            background-color:  #fdb96a;\n",
       "            color:  #000000;\n",
       "        }#T_ab968_row7_col4,#T_ab968_row8_col0{\n",
       "            background-color:  #ab0626;\n",
       "            color:  #f1f1f1;\n",
       "        }#T_ab968_row8_col1{\n",
       "            background-color:  #d9ef8b;\n",
       "            color:  #000000;\n",
       "        }#T_ab968_row8_col3{\n",
       "            background-color:  #fed481;\n",
       "            color:  #000000;\n",
       "        }#T_ab968_row9_col0{\n",
       "            background-color:  #a90426;\n",
       "            color:  #f1f1f1;\n",
       "        }#T_ab968_row9_col1{\n",
       "            background-color:  #c62027;\n",
       "            color:  #f1f1f1;\n",
       "        }#T_ab968_row9_col2{\n",
       "            background-color:  #eb5a3a;\n",
       "            color:  #000000;\n",
       "        }#T_ab968_row9_col3{\n",
       "            background-color:  #fff8b4;\n",
       "            color:  #000000;\n",
       "        }#T_ab968_row9_col5{\n",
       "            background-color:  #c21c27;\n",
       "            color:  #f1f1f1;\n",
       "        }</style><table id=\"T_ab968_\" ><thead>    <tr>        <th class=\"blank level0\" ></th>        <th class=\"col_heading level0 col0\" >UNSTIMULATED_IFNY_PGML</th>        <th class=\"col_heading level0 col1\" >PHA_IFNY_PGML</th>        <th class=\"col_heading level0 col2\" >AG_IFNY_PGML</th>        <th class=\"col_heading level0 col3\" >CD3_NUMBER</th>        <th class=\"col_heading level0 col4\" >PHA_NORMALIZED</th>        <th class=\"col_heading level0 col5\" >AG_NORMALIZED</th>        <th class=\"col_heading level0 col6\" >IGRA_RESULT</th>        <th class=\"col_heading level0 col7\" >TST_RESULT</th>        <th class=\"col_heading level0 col8\" >SEX</th>        <th class=\"col_heading level0 col9\" >AGE</th>        <th class=\"col_heading level0 col10\" >ETHNIC_BACKGROUND</th>    </tr></thead><tbody>\n",
       "                <tr>\n",
       "                        <th id=\"T_ab968_level0_row0\" class=\"row_heading level0 row0\" >222</th>\n",
       "                        <td id=\"T_ab968_row0_col0\" class=\"data row0 col0\" >829.03</td>\n",
       "                        <td id=\"T_ab968_row0_col1\" class=\"data row0 col1\" >25067.39</td>\n",
       "                        <td id=\"T_ab968_row0_col2\" class=\"data row0 col2\" >867.54</td>\n",
       "                        <td id=\"T_ab968_row0_col3\" class=\"data row0 col3\" >2503.39</td>\n",
       "                        <td id=\"T_ab968_row0_col4\" class=\"data row0 col4\" >10.08</td>\n",
       "                        <td id=\"T_ab968_row0_col5\" class=\"data row0 col5\" >0.34</td>\n",
       "                        <td id=\"T_ab968_row0_col6\" class=\"data row0 col6\" >0.00</td>\n",
       "                        <td id=\"T_ab968_row0_col7\" class=\"data row0 col7\" >1.00</td>\n",
       "                        <td id=\"T_ab968_row0_col8\" class=\"data row0 col8\" >2.00</td>\n",
       "                        <td id=\"T_ab968_row0_col9\" class=\"data row0 col9\" >27.00</td>\n",
       "                        <td id=\"T_ab968_row0_col10\" class=\"data row0 col10\" >2.00</td>\n",
       "            </tr>\n",
       "            <tr>\n",
       "                        <th id=\"T_ab968_level0_row1\" class=\"row_heading level0 row1\" >62</th>\n",
       "                        <td id=\"T_ab968_row1_col0\" class=\"data row1 col0\" >307.14</td>\n",
       "                        <td id=\"T_ab968_row1_col1\" class=\"data row1 col1\" >9915.51</td>\n",
       "                        <td id=\"T_ab968_row1_col2\" class=\"data row1 col2\" >1482.76</td>\n",
       "                        <td id=\"T_ab968_row1_col3\" class=\"data row1 col3\" >884.56</td>\n",
       "                        <td id=\"T_ab968_row1_col4\" class=\"data row1 col4\" >11.21</td>\n",
       "                        <td id=\"T_ab968_row1_col5\" class=\"data row1 col5\" >1.68</td>\n",
       "                        <td id=\"T_ab968_row1_col6\" class=\"data row1 col6\" >1.00</td>\n",
       "                        <td id=\"T_ab968_row1_col7\" class=\"data row1 col7\" >1.00</td>\n",
       "                        <td id=\"T_ab968_row1_col8\" class=\"data row1 col8\" >1.00</td>\n",
       "                        <td id=\"T_ab968_row1_col9\" class=\"data row1 col9\" >28.00</td>\n",
       "                        <td id=\"T_ab968_row1_col10\" class=\"data row1 col10\" >2.00</td>\n",
       "            </tr>\n",
       "            <tr>\n",
       "                        <th id=\"T_ab968_level0_row2\" class=\"row_heading level0 row2\" >133</th>\n",
       "                        <td id=\"T_ab968_row2_col0\" class=\"data row2 col0\" >36.77</td>\n",
       "                        <td id=\"T_ab968_row2_col1\" class=\"data row2 col1\" >5604.37</td>\n",
       "                        <td id=\"T_ab968_row2_col2\" class=\"data row2 col2\" >141.76</td>\n",
       "                        <td id=\"T_ab968_row2_col3\" class=\"data row2 col3\" >580.02</td>\n",
       "                        <td id=\"T_ab968_row2_col4\" class=\"data row2 col4\" >9.65</td>\n",
       "                        <td id=\"T_ab968_row2_col5\" class=\"data row2 col5\" >0.22</td>\n",
       "                        <td id=\"T_ab968_row2_col6\" class=\"data row2 col6\" >1.00</td>\n",
       "                        <td id=\"T_ab968_row2_col7\" class=\"data row2 col7\" >1.00</td>\n",
       "                        <td id=\"T_ab968_row2_col8\" class=\"data row2 col8\" >1.00</td>\n",
       "                        <td id=\"T_ab968_row2_col9\" class=\"data row2 col9\" >36.00</td>\n",
       "                        <td id=\"T_ab968_row2_col10\" class=\"data row2 col10\" >2.00</td>\n",
       "            </tr>\n",
       "            <tr>\n",
       "                        <th id=\"T_ab968_level0_row3\" class=\"row_heading level0 row3\" >355</th>\n",
       "                        <td id=\"T_ab968_row3_col0\" class=\"data row3 col0\" >268.66</td>\n",
       "                        <td id=\"T_ab968_row3_col1\" class=\"data row3 col1\" >21339.27</td>\n",
       "                        <td id=\"T_ab968_row3_col2\" class=\"data row3 col2\" >1255.86</td>\n",
       "                        <td id=\"T_ab968_row3_col3\" class=\"data row3 col3\" >1378.04</td>\n",
       "                        <td id=\"T_ab968_row3_col4\" class=\"data row3 col4\" >15.48</td>\n",
       "                        <td id=\"T_ab968_row3_col5\" class=\"data row3 col5\" >0.92</td>\n",
       "                        <td id=\"T_ab968_row3_col6\" class=\"data row3 col6\" >1.00</td>\n",
       "                        <td id=\"T_ab968_row3_col7\" class=\"data row3 col7\" >1.00</td>\n",
       "                        <td id=\"T_ab968_row3_col8\" class=\"data row3 col8\" >1.00</td>\n",
       "                        <td id=\"T_ab968_row3_col9\" class=\"data row3 col9\" >29.00</td>\n",
       "                        <td id=\"T_ab968_row3_col10\" class=\"data row3 col10\" >2.00</td>\n",
       "            </tr>\n",
       "            <tr>\n",
       "                        <th id=\"T_ab968_level0_row4\" class=\"row_heading level0 row4\" >314</th>\n",
       "                        <td id=\"T_ab968_row4_col0\" class=\"data row4 col0\" >0.00</td>\n",
       "                        <td id=\"T_ab968_row4_col1\" class=\"data row4 col1\" >4509.33</td>\n",
       "                        <td id=\"T_ab968_row4_col2\" class=\"data row4 col2\" >62.79</td>\n",
       "                        <td id=\"T_ab968_row4_col3\" class=\"data row4 col3\" >878.82</td>\n",
       "                        <td id=\"T_ab968_row4_col4\" class=\"data row4 col4\" >5.14</td>\n",
       "                        <td id=\"T_ab968_row4_col5\" class=\"data row4 col5\" >0.07</td>\n",
       "                        <td id=\"T_ab968_row4_col6\" class=\"data row4 col6\" >1.00</td>\n",
       "                        <td id=\"T_ab968_row4_col7\" class=\"data row4 col7\" >1.00</td>\n",
       "                        <td id=\"T_ab968_row4_col8\" class=\"data row4 col8\" >2.00</td>\n",
       "                        <td id=\"T_ab968_row4_col9\" class=\"data row4 col9\" >39.00</td>\n",
       "                        <td id=\"T_ab968_row4_col10\" class=\"data row4 col10\" >2.00</td>\n",
       "            </tr>\n",
       "            <tr>\n",
       "                        <th id=\"T_ab968_level0_row5\" class=\"row_heading level0 row5\" >229</th>\n",
       "                        <td id=\"T_ab968_row5_col0\" class=\"data row5 col0\" >1667.47</td>\n",
       "                        <td id=\"T_ab968_row5_col1\" class=\"data row5 col1\" >4258.29</td>\n",
       "                        <td id=\"T_ab968_row5_col2\" class=\"data row5 col2\" >1158.42</td>\n",
       "                        <td id=\"T_ab968_row5_col3\" class=\"data row5 col3\" >2014.25</td>\n",
       "                        <td id=\"T_ab968_row5_col4\" class=\"data row5 col4\" >2.12</td>\n",
       "                        <td id=\"T_ab968_row5_col5\" class=\"data row5 col5\" >0.54</td>\n",
       "                        <td id=\"T_ab968_row5_col6\" class=\"data row5 col6\" >0.00</td>\n",
       "                        <td id=\"T_ab968_row5_col7\" class=\"data row5 col7\" >1.00</td>\n",
       "                        <td id=\"T_ab968_row5_col8\" class=\"data row5 col8\" >2.00</td>\n",
       "                        <td id=\"T_ab968_row5_col9\" class=\"data row5 col9\" >24.00</td>\n",
       "                        <td id=\"T_ab968_row5_col10\" class=\"data row5 col10\" >2.00</td>\n",
       "            </tr>\n",
       "            <tr>\n",
       "                        <th id=\"T_ab968_level0_row6\" class=\"row_heading level0 row6\" >327</th>\n",
       "                        <td id=\"T_ab968_row6_col0\" class=\"data row6 col0\" >986.55</td>\n",
       "                        <td id=\"T_ab968_row6_col1\" class=\"data row6 col1\" >1108.75</td>\n",
       "                        <td id=\"T_ab968_row6_col2\" class=\"data row6 col2\" >1387.27</td>\n",
       "                        <td id=\"T_ab968_row6_col3\" class=\"data row6 col3\" >571.92</td>\n",
       "                        <td id=\"T_ab968_row6_col4\" class=\"data row6 col4\" >1.94</td>\n",
       "                        <td id=\"T_ab968_row6_col5\" class=\"data row6 col5\" >2.44</td>\n",
       "                        <td id=\"T_ab968_row6_col6\" class=\"data row6 col6\" >1.00</td>\n",
       "                        <td id=\"T_ab968_row6_col7\" class=\"data row6 col7\" >1.00</td>\n",
       "                        <td id=\"T_ab968_row6_col8\" class=\"data row6 col8\" >1.00</td>\n",
       "                        <td id=\"T_ab968_row6_col9\" class=\"data row6 col9\" >25.00</td>\n",
       "                        <td id=\"T_ab968_row6_col10\" class=\"data row6 col10\" >2.00</td>\n",
       "            </tr>\n",
       "            <tr>\n",
       "                        <th id=\"T_ab968_level0_row7\" class=\"row_heading level0 row7\" >170</th>\n",
       "                        <td id=\"T_ab968_row7_col0\" class=\"data row7 col0\" >536.61</td>\n",
       "                        <td id=\"T_ab968_row7_col1\" class=\"data row7 col1\" >1108.08</td>\n",
       "                        <td id=\"T_ab968_row7_col2\" class=\"data row7 col2\" >4239.79</td>\n",
       "                        <td id=\"T_ab968_row7_col3\" class=\"data row7 col3\" >534.12</td>\n",
       "                        <td id=\"T_ab968_row7_col4\" class=\"data row7 col4\" >2.04</td>\n",
       "                        <td id=\"T_ab968_row7_col5\" class=\"data row7 col5\" >7.93</td>\n",
       "                        <td id=\"T_ab968_row7_col6\" class=\"data row7 col6\" >1.00</td>\n",
       "                        <td id=\"T_ab968_row7_col7\" class=\"data row7 col7\" >1.00</td>\n",
       "                        <td id=\"T_ab968_row7_col8\" class=\"data row7 col8\" >2.00</td>\n",
       "                        <td id=\"T_ab968_row7_col9\" class=\"data row7 col9\" >39.00</td>\n",
       "                        <td id=\"T_ab968_row7_col10\" class=\"data row7 col10\" >2.00</td>\n",
       "            </tr>\n",
       "            <tr>\n",
       "                        <th id=\"T_ab968_level0_row8\" class=\"row_heading level0 row8\" >201</th>\n",
       "                        <td id=\"T_ab968_row8_col0\" class=\"data row8 col0\" >19.81</td>\n",
       "                        <td id=\"T_ab968_row8_col1\" class=\"data row8 col1\" >15441.92</td>\n",
       "                        <td id=\"T_ab968_row8_col2\" class=\"data row8 col2\" >47.91</td>\n",
       "                        <td id=\"T_ab968_row8_col3\" class=\"data row8 col3\" >1273.48</td>\n",
       "                        <td id=\"T_ab968_row8_col4\" class=\"data row8 col4\" >12.13</td>\n",
       "                        <td id=\"T_ab968_row8_col5\" class=\"data row8 col5\" >0.04</td>\n",
       "                        <td id=\"T_ab968_row8_col6\" class=\"data row8 col6\" >0.00</td>\n",
       "                        <td id=\"T_ab968_row8_col7\" class=\"data row8 col7\" >0.00</td>\n",
       "                        <td id=\"T_ab968_row8_col8\" class=\"data row8 col8\" >1.00</td>\n",
       "                        <td id=\"T_ab968_row8_col9\" class=\"data row8 col9\" >21.00</td>\n",
       "                        <td id=\"T_ab968_row8_col10\" class=\"data row8 col10\" >2.00</td>\n",
       "            </tr>\n",
       "            <tr>\n",
       "                        <th id=\"T_ab968_level0_row9\" class=\"row_heading level0 row9\" >305</th>\n",
       "                        <td id=\"T_ab968_row9_col0\" class=\"data row9 col0\" >16.22</td>\n",
       "                        <td id=\"T_ab968_row9_col1\" class=\"data row9 col1\" >2790.99</td>\n",
       "                        <td id=\"T_ab968_row9_col2\" class=\"data row9 col2\" >760.48</td>\n",
       "                        <td id=\"T_ab968_row9_col3\" class=\"data row9 col3\" >1477.17</td>\n",
       "                        <td id=\"T_ab968_row9_col4\" class=\"data row9 col4\" >1.88</td>\n",
       "                        <td id=\"T_ab968_row9_col5\" class=\"data row9 col5\" >0.52</td>\n",
       "                        <td id=\"T_ab968_row9_col6\" class=\"data row9 col6\" >1.00</td>\n",
       "                        <td id=\"T_ab968_row9_col7\" class=\"data row9 col7\" >1.00</td>\n",
       "                        <td id=\"T_ab968_row9_col8\" class=\"data row9 col8\" >2.00</td>\n",
       "                        <td id=\"T_ab968_row9_col9\" class=\"data row9 col9\" >50.00</td>\n",
       "                        <td id=\"T_ab968_row9_col10\" class=\"data row9 col10\" >2.00</td>\n",
       "            </tr>\n",
       "    </tbody></table>"
      ],
      "text/plain": [
       "<pandas.io.formats.style.Styler at 0x221f1351e50>"
      ]
     },
     "execution_count": 13,
     "metadata": {},
     "output_type": "execute_result"
    }
   ],
   "source": [
    "# df\n",
    "df.sample(10).style.format(\"{:.2f}\").background_gradient(cmap=\"RdYlGn\")"
   ]
  },
  {
   "cell_type": "markdown",
   "metadata": {
    "id": "Cs0gACWy-qqR"
   },
   "source": [
    "## **Data Visualization**"
   ]
  },
  {
   "cell_type": "code",
   "execution_count": 14,
   "metadata": {
    "colab": {
     "base_uri": "https://localhost:8080/",
     "height": 0
    },
    "executionInfo": {
     "elapsed": 927,
     "status": "ok",
     "timestamp": 1649345007560,
     "user": {
      "displayName": "hichem felouat",
      "userId": "06423185161580092580"
     },
     "user_tz": -60
    },
    "id": "QannJgaUT2BT",
    "outputId": "6504b5e9-43a8-41a4-c97d-8ec9ce7f7367"
   },
   "outputs": [
    {
     "data": {
      "image/png": "[encoded data removed]",
      "text/plain": [
       "<Figure size 432x288 with 1 Axes>"
      ]
     },
     "metadata": {
      "needs_background": "light"
     },
     "output_type": "display_data"
    }
   ],
   "source": [
    "# Visualize the total number of labels of each type in data\n",
    "# \"N\":0, \"Y\":1\n",
    "sns.countplot(x=\"IGRA_RESULT\", data=df, palette=\"hls\")\n",
    "plt.show()"
   ]
  },
  {
   "cell_type": "code",
   "execution_count": 15,
   "metadata": {
    "colab": {
     "base_uri": "https://localhost:8080/",
     "height": 0
    },
    "executionInfo": {
     "elapsed": 1087,
     "status": "ok",
     "timestamp": 1649345008631,
     "user": {
      "displayName": "hichem felouat",
      "userId": "06423185161580092580"
     },
     "user_tz": -60
    },
    "id": "e3CEF8npUjml",
    "outputId": "81d45b4d-2d27-48e2-dd98-e0b06b104ed9"
   },
   "outputs": [
    {
     "data": {
      "text/plain": [
       "<AxesSubplot:xlabel='PHA_IFNY_PGML', ylabel='Count'>"
      ]
     },
     "execution_count": 15,
     "metadata": {},
     "output_type": "execute_result"
    },
    {
     "data": {
      "image/png": "[encoded data removed]",
      "text/plain": [
       "<Figure size 1152x576 with 4 Axes>"
      ]
     },
     "metadata": {},
     "output_type": "display_data"
    }
   ],
   "source": [
    "# Histogram Distribution \n",
    "sns.set(style=\"darkgrid\")\n",
    "fig, axs = plt.subplots(2, 2, figsize=(16, 8))\n",
    "\n",
    "sns.histplot(data=df, x=\"AG_IFNY_PGML\", kde=True, ax=axs[0, 0], color=\"green\")\n",
    "sns.histplot(data=df, x=\"CD3_NUMBER\", kde=True, ax=axs[0, 1], color=\"skyblue\")\n",
    "sns.histplot(data=df, x=\"PHA_IFNY_PGML\", kde=True, ax=axs[1, 0], color=\"orange\")\n"
   ]
  },
  {
   "cell_type": "code",
   "execution_count": 16,
   "metadata": {
    "colab": {
     "base_uri": "https://localhost:8080/",
     "height": 0
    },
    "executionInfo": {
     "elapsed": 870,
     "status": "ok",
     "timestamp": 1649345009478,
     "user": {
      "displayName": "hichem felouat",
      "userId": "06423185161580092580"
     },
     "user_tz": -60
    },
    "id": "BzQf144OWZDn",
    "outputId": "794e6ae5-7d78-494e-b29f-23974a708750"
   },
   "outputs": [
    {
     "data": {
      "text/plain": [
       "<AxesSubplot:ylabel='ETHNIC_BACKGROUND'>"
      ]
     },
     "execution_count": 16,
     "metadata": {},
     "output_type": "execute_result"
    },
    {
     "data": {
      "image/png": "[encoded data removed]",
      "text/plain": [
       "<Figure size 864x864 with 4 Axes>"
      ]
     },
     "metadata": {},
     "output_type": "display_data"
    }
   ],
   "source": [
    "# Violin Plot\n",
    "sns.set(style=\"darkgrid\")\n",
    "fig, axs1 = plt.subplots(2, 2, figsize=(12, 12))\n",
    "\n",
    "sns.violinplot(data=df, y=\"AG_NORMALIZED\", ax=axs1[0, 0], color=\"green\")\n",
    "sns.violinplot(data=df, y=\"UNSTIMULATED_IFNY_PGML\", ax=axs1[0, 1], color=\"skyblue\")\n",
    "sns.violinplot(data=df, y=\"ETHNIC_BACKGROUND\", ax=axs1[1, 0], color=\"orange\")\n"
   ]
  },
  {
   "cell_type": "code",
   "execution_count": 2,
   "metadata": {
    "colab": {
     "base_uri": "https://localhost:8080/",
     "height": 0
    },
    "executionInfo": {
     "elapsed": 1009,
     "status": "ok",
     "timestamp": 1649345010480,
     "user": {
      "displayName": "hichem felouat",
      "userId": "06423185161580092580"
     },
     "user_tz": -60
    },
    "id": "hYDp859at6gF",
    "outputId": "cb085455-08ac-404a-9ef2-83e685f766b4"
   },
   "outputs": [],
   "source": [
    "#X = df.drop([\"IGRA_RESULT\"],axis=1).values\n",
    "#Y = df[\"IGRA_RESULT\"].values"
   ]
  },
  {
   "cell_type": "code",
   "execution_count": null,
   "metadata": {
    "colab": {
     "base_uri": "https://localhost:8080/",
     "height": 0
    },
    "executionInfo": {
     "elapsed": 1630,
     "status": "ok",
     "timestamp": 1649345012103,
     "user": {
      "displayName": "hichem felouat",
      "userId": "06423185161580092580"
     },
     "user_tz": -60
    },
    "id": "w77v3fIpuTi2",
    "outputId": "97534ba7-92e7-4b3f-8cb9-bfd24c14d585"
   },
   "outputs": [],
   "source": []
  },
  {
   "cell_type": "code",
   "execution_count": null,
   "metadata": {
    "executionInfo": {
     "elapsed": 21,
     "status": "ok",
     "timestamp": 1649345012105,
     "user": {
      "displayName": "hichem felouat",
      "userId": "06423185161580092580"
     },
     "user_tz": -60
    },
    "id": "X8cfycjtdoun"
   },
   "outputs": [],
   "source": []
  },
  {
   "cell_type": "markdown",
   "metadata": {
    "id": "Hn0JdTur-agI"
   },
   "source": [
    "## **Handling Outlier**"
   ]
  },
  {
   "cell_type": "code",
   "execution_count": 17,
   "metadata": {
    "colab": {
     "base_uri": "https://localhost:8080/",
     "height": 0
    },
    "executionInfo": {
     "elapsed": 21,
     "status": "ok",
     "timestamp": 1649345012106,
     "user": {
      "displayName": "hichem felouat",
      "userId": "06423185161580092580"
     },
     "user_tz": -60
    },
    "id": "oN3FntBRHTWa",
    "outputId": "fe152699-d04d-4300-bddc-3c9b6562744e"
   },
   "outputs": [
    {
     "data": {
      "image/png": "[encoded data removed]",
      "text/plain": [
       "<Figure size 3600x1152 with 1 Axes>"
      ]
     },
     "metadata": {},
     "output_type": "display_data"
    }
   ],
   "source": [
    "# Handling Outlier\n",
    "fig, ax = plt.subplots(figsize=(50,16)) \n",
    "sns.boxplot(data=df, orient=\"v\", palette=\"Set2\")\n",
    "plt.show()\n"
   ]
  },
  {
   "cell_type": "code",
   "execution_count": 18,
   "metadata": {
    "colab": {
     "base_uri": "https://localhost:8080/",
     "height": 0
    },
    "executionInfo": {
     "elapsed": 795,
     "status": "ok",
     "timestamp": 1649345012884,
     "user": {
      "displayName": "hichem felouat",
      "userId": "06423185161580092580"
     },
     "user_tz": -60
    },
    "id": "dLd9kMEIuR3q",
    "outputId": "079e05d6-83c2-42ed-f784-dc324cb2590f"
   },
   "outputs": [
    {
     "name": "stdout",
     "output_type": "stream",
     "text": [
      "[dtype('int64'), dtype('float64')]\n",
      "lst_num_cols :  ['UNSTIMULATED_IFNY_PGML', 'PHA_IFNY_PGML', 'AG_IFNY_PGML', 'CD3_NUMBER', 'PHA_NORMALIZED', 'AG_NORMALIZED']\n"
     ]
    },
    {
     "data": {
      "image/png": "[encoded data removed]",
      "text/plain": [
       "<Figure size 1440x720 with 6 Axes>"
      ]
     },
     "metadata": {},
     "output_type": "display_data"
    }
   ],
   "source": [
    "print(list(set(df.dtypes.tolist())))\n",
    "df_num = df.select_dtypes(include = [\"float64\"])\n",
    "lst_num_cols = df_num.columns.tolist()\n",
    "print(\"lst_num_cols : \", lst_num_cols)\n",
    "\n",
    "nb_columns = 3\n",
    "nb_rows = len(lst_num_cols) / nb_columns\n",
    "\n",
    "if (isinstance(nb_rows, float)):\n",
    "  nb_rows = int(nb_rows) + 1\n",
    "\n",
    "plt.figure(figsize=(20, 10))\n",
    "for i in range(len(lst_num_cols)):\n",
    "    plt.subplot(nb_rows, nb_columns, i+1)\n",
    "    sns.boxplot(x= df[lst_num_cols[i]], data= df)\n",
    "    # sns.swarmplot(x= df[lst_num_cols[i]],  data= df, color=\".25\", size=2)\n",
    "    plt.title(lst_num_cols[i]) \n",
    "plt.show()\n"
   ]
  },
  {
   "cell_type": "code",
   "execution_count": 19,
   "metadata": {
    "colab": {
     "base_uri": "https://localhost:8080/",
     "height": 0
    },
    "executionInfo": {
     "elapsed": 511,
     "status": "ok",
     "timestamp": 1649345013385,
     "user": {
      "displayName": "hichem felouat",
      "userId": "06423185161580092580"
     },
     "user_tz": -60
    },
    "id": "eREgLP1QaPUi",
    "outputId": "508356c5-8658-4b3a-fe2b-aaabc51ba4ce"
   },
   "outputs": [
    {
     "data": {
      "text/plain": [
       "<AxesSubplot:xlabel='PHA_IFNY_PGML'>"
      ]
     },
     "execution_count": 19,
     "metadata": {},
     "output_type": "execute_result"
    },
    {
     "data": {
      "image/png": "[encoded data removed]",
      "text/plain": [
       "<Figure size 576x360 with 1 Axes>"
      ]
     },
     "metadata": {},
     "output_type": "display_data"
    }
   ],
   "source": [
    "fig, ax = plt.subplots(figsize=(8,5))\n",
    "sns.boxplot(x= df[\"PHA_IFNY_PGML\"], data= df)\n",
    "sns.swarmplot(x= df[\"PHA_IFNY_PGML\"],  data= df, color=\".25\", size=3)\n"
   ]
  },
  {
   "cell_type": "code",
   "execution_count": 20,
   "metadata": {
    "colab": {
     "base_uri": "https://localhost:8080/",
     "height": 0
    },
    "executionInfo": {
     "elapsed": 1458,
     "status": "ok",
     "timestamp": 1649345014837,
     "user": {
      "displayName": "hichem felouat",
      "userId": "06423185161580092580"
     },
     "user_tz": -60
    },
    "id": "Y7tISn7DHaQ7",
    "outputId": "9b86f296-9385-4452-9e85-c42f19c6dd79"
   },
   "outputs": [
    {
     "data": {
      "text/plain": [
       "'\\n# Remove Outlier\\ndef remove_outlier(col):\\n    sorted(col)\\n    Q1, Q3 = col.quantile([0.25, 0.75])\\n    IQR = Q3 - Q1\\n    print(\"Q1 = \", Q1, \" Q3 = \", Q3, \" IQR = \", IQR)\\n    lower_range = Q1 - (1.5 * IQR)\\n    upper_range = Q3 + (1.5 * IQR)\\n    return lower_range, upper_range\\n\\n# df_num = df.select_dtypes(include = [\"float64\", \"int64\"])\\n# lst_cols = df_num.columns.tolist()\\n\\nlst_cols = [\"ApplicantIncome\", \"CoapplicantIncome\"]\\n\\nindx = 0\\nfor col in lst_cols:\\n    print(indx)\\n    lower_range, upper_range =  remove_outlier(df[col])\\n\\n    df[col] = np.where(df[col] < lower_range, lower_range, df[col]) \\n    df[col] = np.where(df[col] > upper_range, upper_range, df[col])\\n\\n    indx = indx +1\\n    print(\"-----------------------------\")\\n\\nfig, ax = plt.subplots(figsize=(50,16)) \\nsns.boxplot(data=df, orient=\"v\", palette=\"Set2\")\\nplt.show()\\n'"
      ]
     },
     "execution_count": 20,
     "metadata": {},
     "output_type": "execute_result"
    }
   ],
   "source": [
    "\"\"\"\n",
    "# Remove Outlier\n",
    "def remove_outlier(col):\n",
    "    sorted(col)\n",
    "    Q1, Q3 = col.quantile([0.25, 0.75])\n",
    "    IQR = Q3 - Q1\n",
    "    print(\"Q1 = \", Q1, \" Q3 = \", Q3, \" IQR = \", IQR)\n",
    "    lower_range = Q1 - (1.5 * IQR)\n",
    "    upper_range = Q3 + (1.5 * IQR)\n",
    "    return lower_range, upper_range\n",
    "\n",
    "# df_num = df.select_dtypes(include = [\"float64\", \"int64\"])\n",
    "# lst_cols = df_num.columns.tolist()\n",
    "\n",
    "lst_cols = [\"ApplicantIncome\", \"CoapplicantIncome\"]\n",
    "\n",
    "indx = 0\n",
    "for col in lst_cols:\n",
    "    print(indx)\n",
    "    lower_range, upper_range =  remove_outlier(df[col])\n",
    "\n",
    "    df[col] = np.where(df[col] < lower_range, lower_range, df[col]) \n",
    "    df[col] = np.where(df[col] > upper_range, upper_range, df[col])\n",
    "\n",
    "    indx = indx +1\n",
    "    print(\"-----------------------------\")\n",
    "\n",
    "fig, ax = plt.subplots(figsize=(50,16)) \n",
    "sns.boxplot(data=df, orient=\"v\", palette=\"Set2\")\n",
    "plt.show()\n",
    "\"\"\""
   ]
  },
  {
   "cell_type": "markdown",
   "metadata": {
    "id": "Jax3cJq4-0p7"
   },
   "source": [
    "## **Hypothesis**"
   ]
  },
  {
   "cell_type": "markdown",
   "metadata": {
    "id": "U_ojsxYopmHl"
   },
   "source": [
    "\n"
   ]
  },
  {
   "cell_type": "code",
   "execution_count": 53,
   "metadata": {
    "colab": {
     "base_uri": "https://localhost:8080/"
    },
    "executionInfo": {
     "elapsed": 25,
     "status": "ok",
     "timestamp": 1649345014839,
     "user": {
      "displayName": "hichem felouat",
      "userId": "06423185161580092580"
     },
     "user_tz": -60
    },
    "id": "3ZypXTQvw1Tm",
    "outputId": "e1536052-5073-424e-bcdd-20f96d713e14"
   },
   "outputs": [
    {
     "name": "stdout",
     "output_type": "stream",
     "text": [
      "P-value =  0.466\n",
      "We accept null hypothesis.\n"
     ]
    }
   ],
   "source": [
    "# Hypothesis\n",
    "\"\"\"\n",
    "Null Hypothesis: There is no significant difference between \n",
    "the mean of Var1 and Var2.  p_value >= 0.05\n",
    "\n",
    "Alternate Hypothesis: There is a significant difference between \n",
    "the mean of Var1 and Var2.\n",
    "\n",
    "from numpy import sqrt, abs, round\n",
    "from scipy.stats import norm\n",
    "\n",
    "def Hypothesis_Z_P(mean_var1, mean_var2, mudiff, std1, std2, n_var1, n_var2):\n",
    "    pooledSE = sqrt(std1**2/n_var1 + std2**2/n_var2)\n",
    "    z = ((mean_var1 - mean_var2) - mudiff)/pooledSE\n",
    "    pval = 2*(1 - norm.cdf(abs(z)))\n",
    "    return round(pval,3), round(z,3)\n",
    "\n",
    "#-------------------------------------------------------------------------------\n",
    "# Exp: Male = 0, Female = 1\n",
    "mean_var1 = df.loc[df[\"Gender\"]==0, \"ApplicantIncome\"].mean()\n",
    "mean_var2 = df.loc[df[\"Gender\"]==1, \"ApplicantIncome\"].mean()\n",
    "\n",
    "std_var1  = df.loc[df[\"Gender\"]==0, \"ApplicantIncome\"].std()\n",
    "std_var2  = df.loc[df[\"Gender\"]==1, \"ApplicantIncome\"].std()\n",
    "\n",
    "nb_var1   = df.loc[df[\"Gender\"]==0, \"ApplicantIncome\"].count()\n",
    "nb_var2   = df.loc[df[\"Gender\"]==1, \"ApplicantIncome\"].count()\n",
    "\n",
    "#-------------------------------------------------------------------------------\n",
    "p_value, _ = Hypothesis_Z_P(mean_var1, mean_var2, 0, std_var1, std_var2, nb_var1, nb_var2)\n",
    "print(\"P-value = \",p_value)\n",
    "\n",
    "if p_value < 0.05:\n",
    "    print(\"We reject null hypothesis.\")\n",
    "else:\n",
    "    print(\"We accept null hypothesis.\")\n",
    "\"\"\""
   ]
  },
  {
   "cell_type": "markdown",
   "metadata": {
    "id": "HMaJC7fI-7qN"
   },
   "source": [
    "## **Selecting Relevant Features**"
   ]
  },
  {
   "cell_type": "code",
   "execution_count": 21,
   "metadata": {
    "colab": {
     "base_uri": "https://localhost:8080/",
     "height": 0
    },
    "executionInfo": {
     "elapsed": 1925,
     "status": "ok",
     "timestamp": 1649345016747,
     "user": {
      "displayName": "hichem felouat",
      "userId": "06423185161580092580"
     },
     "user_tz": -60
    },
    "id": "qbIh-cFKH0nb",
    "outputId": "bae4d412-2544-44bb-e526-2a7c9b8c4237"
   },
   "outputs": [
    {
     "data": {
      "text/plain": [
       "<AxesSubplot:>"
      ]
     },
     "execution_count": 21,
     "metadata": {},
     "output_type": "execute_result"
    },
    {
     "data": {
      "image/png": "[encoded data removed]",
      "text/plain": [
       "<Figure size 1800x1440 with 2 Axes>"
      ]
     },
     "metadata": {},
     "output_type": "display_data"
    }
   ],
   "source": [
    "# Correlation matrix \n",
    "corrMatrix = df.corr()\n",
    "\n",
    "# plot corrMatrix\n",
    "fig, ax = plt.subplots(figsize=(25,20)) \n",
    "# \"RdBu_r\", \"BrBG_r\", & \"PuOr_r\" are other good diverging colormaps\n",
    "# corrMatrix.style.format(\"{:.2f}\").background_gradient(cmap=\"coolwarm\", axis=None)\n",
    "\n",
    "# cmap= RdBu\n",
    "sns.heatmap(corrMatrix, fmt=\".3f\", annot_kws={\"size\":20}, annot=True, \n",
    "                  linewidth=0.01, square=True, cmap=\"coolwarm\", linecolor=\"black\")\n"
   ]
  },
  {
   "cell_type": "code",
   "execution_count": 26,
   "metadata": {
    "colab": {
     "base_uri": "https://localhost:8080/",
     "height": 0
    },
    "executionInfo": {
     "elapsed": 33,
     "status": "ok",
     "timestamp": 1649345016749,
     "user": {
      "displayName": "hichem felouat",
      "userId": "06423185161580092580"
     },
     "user_tz": -60
    },
    "id": "aAVlSyGjLRWY",
    "outputId": "42088332-fc92-4520-cb12-1e36ad794c33"
   },
   "outputs": [
    {
     "name": "stdout",
     "output_type": "stream",
     "text": [
      "relevant_features :  (8,) \n",
      " PHA_IFNY_PGML        0.267932\n",
      "AG_IFNY_PGML         0.392872\n",
      "CD3_NUMBER           0.125508\n",
      "PHA_NORMALIZED       0.105778\n",
      "AG_NORMALIZED        0.334601\n",
      "IGRA_RESULT          1.000000\n",
      "TST_RESULT           0.172663\n",
      "ETHNIC_BACKGROUND    0.120264\n",
      "Name: IGRA_RESULT, dtype: float64\n",
      "-----------------------------------------------------------------------\n",
      "List the column names :  ['PHA_IFNY_PGML', 'AG_IFNY_PGML', 'CD3_NUMBER', 'PHA_NORMALIZED', 'AG_NORMALIZED', 'IGRA_RESULT', 'TST_RESULT', 'ETHNIC_BACKGROUND']\n"
     ]
    },
    {
     "data": {
      "text/html": [
       "<style  type=\"text/css\" >\n",
       "#T_cdbe8_row0_col0,#T_cdbe8_row5_col0{\n",
       "            background-color:  #bad0f8;\n",
       "            color:  #000000;\n",
       "        }#T_cdbe8_row0_col1,#T_cdbe8_row5_col1{\n",
       "            background-color:  #7b9ff9;\n",
       "            color:  #000000;\n",
       "        }#T_cdbe8_row0_col2,#T_cdbe8_row5_col2{\n",
       "            background-color:  #97b8ff;\n",
       "            color:  #000000;\n",
       "        }#T_cdbe8_row0_col3{\n",
       "            background-color:  #df634e;\n",
       "            color:  #000000;\n",
       "        }#T_cdbe8_row0_col4{\n",
       "            background-color:  #6180e9;\n",
       "            color:  #000000;\n",
       "        }#T_cdbe8_row0_col5,#T_cdbe8_row2_col5,#T_cdbe8_row3_col2,#T_cdbe8_row3_col6,#T_cdbe8_row4_col0,#T_cdbe8_row4_col3,#T_cdbe8_row5_col5,#T_cdbe8_row6_col1,#T_cdbe8_row6_col5,#T_cdbe8_row7_col5,#T_cdbe8_row8_col4,#T_cdbe8_row8_col5,#T_cdbe8_row8_col7{\n",
       "            background-color:  #3b4cc0;\n",
       "            color:  #f1f1f1;\n",
       "        }#T_cdbe8_row0_col6,#T_cdbe8_row0_col7,#T_cdbe8_row1_col5,#T_cdbe8_row1_col6,#T_cdbe8_row1_col7,#T_cdbe8_row2_col6,#T_cdbe8_row2_col7,#T_cdbe8_row3_col5,#T_cdbe8_row3_col7,#T_cdbe8_row4_col5,#T_cdbe8_row4_col6,#T_cdbe8_row4_col7,#T_cdbe8_row5_col6,#T_cdbe8_row5_col7,#T_cdbe8_row6_col6,#T_cdbe8_row6_col7,#T_cdbe8_row7_col0,#T_cdbe8_row7_col1,#T_cdbe8_row7_col2,#T_cdbe8_row7_col6,#T_cdbe8_row7_col7,#T_cdbe8_row8_col6,#T_cdbe8_row9_col3,#T_cdbe8_row9_col4,#T_cdbe8_row9_col5,#T_cdbe8_row9_col6,#T_cdbe8_row9_col7{\n",
       "            background-color:  #b40426;\n",
       "            color:  #f1f1f1;\n",
       "        }#T_cdbe8_row1_col0{\n",
       "            background-color:  #6f92f3;\n",
       "            color:  #000000;\n",
       "        }#T_cdbe8_row1_col1{\n",
       "            background-color:  #f6bda2;\n",
       "            color:  #000000;\n",
       "        }#T_cdbe8_row1_col2{\n",
       "            background-color:  #5a78e4;\n",
       "            color:  #000000;\n",
       "        }#T_cdbe8_row1_col3{\n",
       "            background-color:  #f7af91;\n",
       "            color:  #000000;\n",
       "        }#T_cdbe8_row1_col4{\n",
       "            background-color:  #e57058;\n",
       "            color:  #000000;\n",
       "        }#T_cdbe8_row2_col0{\n",
       "            background-color:  #ecd3c5;\n",
       "            color:  #000000;\n",
       "        }#T_cdbe8_row2_col1,#T_cdbe8_row3_col0{\n",
       "            background-color:  #4c66d6;\n",
       "            color:  #000000;\n",
       "        }#T_cdbe8_row2_col2{\n",
       "            background-color:  #f7b093;\n",
       "            color:  #000000;\n",
       "        }#T_cdbe8_row2_col3{\n",
       "            background-color:  #f5c1a9;\n",
       "            color:  #000000;\n",
       "        }#T_cdbe8_row2_col4{\n",
       "            background-color:  #3f53c6;\n",
       "            color:  #f1f1f1;\n",
       "        }#T_cdbe8_row3_col1,#T_cdbe8_row9_col2{\n",
       "            background-color:  #688aef;\n",
       "            color:  #000000;\n",
       "        }#T_cdbe8_row3_col3{\n",
       "            background-color:  #f1ccb8;\n",
       "            color:  #000000;\n",
       "        }#T_cdbe8_row3_col4{\n",
       "            background-color:  #88abfd;\n",
       "            color:  #000000;\n",
       "        }#T_cdbe8_row4_col1{\n",
       "            background-color:  #dd5f4b;\n",
       "            color:  #000000;\n",
       "        }#T_cdbe8_row4_col2{\n",
       "            background-color:  #d7dce3;\n",
       "            color:  #000000;\n",
       "        }#T_cdbe8_row4_col4{\n",
       "            background-color:  #ebd3c6;\n",
       "            color:  #000000;\n",
       "        }#T_cdbe8_row5_col3{\n",
       "            background-color:  #e0654f;\n",
       "            color:  #000000;\n",
       "        }#T_cdbe8_row5_col4{\n",
       "            background-color:  #6c8ff1;\n",
       "            color:  #000000;\n",
       "        }#T_cdbe8_row6_col0,#T_cdbe8_row6_col3{\n",
       "            background-color:  #c7d7f0;\n",
       "            color:  #000000;\n",
       "        }#T_cdbe8_row6_col2{\n",
       "            background-color:  #f49a7b;\n",
       "            color:  #000000;\n",
       "        }#T_cdbe8_row6_col4{\n",
       "            background-color:  #a3c2fe;\n",
       "            color:  #000000;\n",
       "        }#T_cdbe8_row7_col3{\n",
       "            background-color:  #e97a5f;\n",
       "            color:  #000000;\n",
       "        }#T_cdbe8_row7_col4{\n",
       "            background-color:  #b6cefa;\n",
       "            color:  #000000;\n",
       "        }#T_cdbe8_row8_col0{\n",
       "            background-color:  #89acfd;\n",
       "            color:  #000000;\n",
       "        }#T_cdbe8_row8_col1{\n",
       "            background-color:  #4b64d5;\n",
       "            color:  #f1f1f1;\n",
       "        }#T_cdbe8_row8_col2{\n",
       "            background-color:  #e67259;\n",
       "            color:  #000000;\n",
       "        }#T_cdbe8_row8_col3{\n",
       "            background-color:  #799cf8;\n",
       "            color:  #000000;\n",
       "        }#T_cdbe8_row9_col0{\n",
       "            background-color:  #a1c0ff;\n",
       "            color:  #000000;\n",
       "        }#T_cdbe8_row9_col1{\n",
       "            background-color:  #e16751;\n",
       "            color:  #000000;\n",
       "        }</style><table id=\"T_cdbe8_\" ><thead>    <tr>        <th class=\"blank level0\" ></th>        <th class=\"col_heading level0 col0\" >PHA_IFNY_PGML</th>        <th class=\"col_heading level0 col1\" >AG_IFNY_PGML</th>        <th class=\"col_heading level0 col2\" >CD3_NUMBER</th>        <th class=\"col_heading level0 col3\" >PHA_NORMALIZED</th>        <th class=\"col_heading level0 col4\" >AG_NORMALIZED</th>        <th class=\"col_heading level0 col5\" >IGRA_RESULT</th>        <th class=\"col_heading level0 col6\" >TST_RESULT</th>        <th class=\"col_heading level0 col7\" >ETHNIC_BACKGROUND</th>    </tr></thead><tbody>\n",
       "                <tr>\n",
       "                        <th id=\"T_cdbe8_level0_row0\" class=\"row_heading level0 row0\" >261</th>\n",
       "                        <td id=\"T_cdbe8_row0_col0\" class=\"data row0 col0\" >11285.08</td>\n",
       "                        <td id=\"T_cdbe8_row0_col1\" class=\"data row0 col1\" >174.49</td>\n",
       "                        <td id=\"T_cdbe8_row0_col2\" class=\"data row0 col2\" >1082.71</td>\n",
       "                        <td id=\"T_cdbe8_row0_col3\" class=\"data row0 col3\" >10.48</td>\n",
       "                        <td id=\"T_cdbe8_row0_col4\" class=\"data row0 col4\" >0.13</td>\n",
       "                        <td id=\"T_cdbe8_row0_col5\" class=\"data row0 col5\" >0.00</td>\n",
       "                        <td id=\"T_cdbe8_row0_col6\" class=\"data row0 col6\" >1.00</td>\n",
       "                        <td id=\"T_cdbe8_row0_col7\" class=\"data row0 col7\" >2.00</td>\n",
       "            </tr>\n",
       "            <tr>\n",
       "                        <th id=\"T_cdbe8_level0_row1\" class=\"row_heading level0 row1\" >309</th>\n",
       "                        <td id=\"T_cdbe8_row1_col0\" class=\"data row1 col0\" >6484.30</td>\n",
       "                        <td id=\"T_cdbe8_row1_col1\" class=\"data row1 col1\" >564.41</td>\n",
       "                        <td id=\"T_cdbe8_row1_col2\" class=\"data row1 col2\" >740.18</td>\n",
       "                        <td id=\"T_cdbe8_row1_col3\" class=\"data row1 col3\" >8.75</td>\n",
       "                        <td id=\"T_cdbe8_row1_col4\" class=\"data row1 col4\" >0.77</td>\n",
       "                        <td id=\"T_cdbe8_row1_col5\" class=\"data row1 col5\" >1.00</td>\n",
       "                        <td id=\"T_cdbe8_row1_col6\" class=\"data row1 col6\" >1.00</td>\n",
       "                        <td id=\"T_cdbe8_row1_col7\" class=\"data row1 col7\" >2.00</td>\n",
       "            </tr>\n",
       "            <tr>\n",
       "                        <th id=\"T_cdbe8_level0_row2\" class=\"row_heading level0 row2\" >195</th>\n",
       "                        <td id=\"T_cdbe8_row2_col0\" class=\"data row2 col0\" >15362.29</td>\n",
       "                        <td id=\"T_cdbe8_row2_col1\" class=\"data row2 col1\" >51.28</td>\n",
       "                        <td id=\"T_cdbe8_row2_col2\" class=\"data row2 col2\" >1889.89</td>\n",
       "                        <td id=\"T_cdbe8_row2_col3\" class=\"data row2 col3\" >8.18</td>\n",
       "                        <td id=\"T_cdbe8_row2_col4\" class=\"data row2 col4\" >0.03</td>\n",
       "                        <td id=\"T_cdbe8_row2_col5\" class=\"data row2 col5\" >0.00</td>\n",
       "                        <td id=\"T_cdbe8_row2_col6\" class=\"data row2 col6\" >1.00</td>\n",
       "                        <td id=\"T_cdbe8_row2_col7\" class=\"data row2 col7\" >2.00</td>\n",
       "            </tr>\n",
       "            <tr>\n",
       "                        <th id=\"T_cdbe8_level0_row3\" class=\"row_heading level0 row3\" >307</th>\n",
       "                        <td id=\"T_cdbe8_row3_col0\" class=\"data row3 col0\" >4153.81</td>\n",
       "                        <td id=\"T_cdbe8_row3_col1\" class=\"data row3 col1\" >126.68</td>\n",
       "                        <td id=\"T_cdbe8_row3_col2\" class=\"data row3 col2\" >533.56</td>\n",
       "                        <td id=\"T_cdbe8_row3_col3\" class=\"data row3 col3\" >7.77</td>\n",
       "                        <td id=\"T_cdbe8_row3_col4\" class=\"data row3 col4\" >0.23</td>\n",
       "                        <td id=\"T_cdbe8_row3_col5\" class=\"data row3 col5\" >1.00</td>\n",
       "                        <td id=\"T_cdbe8_row3_col6\" class=\"data row3 col6\" >0.00</td>\n",
       "                        <td id=\"T_cdbe8_row3_col7\" class=\"data row3 col7\" >2.00</td>\n",
       "            </tr>\n",
       "            <tr>\n",
       "                        <th id=\"T_cdbe8_level0_row4\" class=\"row_heading level0 row4\" >272</th>\n",
       "                        <td id=\"T_cdbe8_row4_col0\" class=\"data row4 col0\" >2790.92</td>\n",
       "                        <td id=\"T_cdbe8_row4_col1\" class=\"data row4 col1\" >760.45</td>\n",
       "                        <td id=\"T_cdbe8_row4_col2\" class=\"data row4 col2\" >1477.13</td>\n",
       "                        <td id=\"T_cdbe8_row4_col3\" class=\"data row4 col3\" >1.88</td>\n",
       "                        <td id=\"T_cdbe8_row4_col4\" class=\"data row4 col4\" >0.52</td>\n",
       "                        <td id=\"T_cdbe8_row4_col5\" class=\"data row4 col5\" >1.00</td>\n",
       "                        <td id=\"T_cdbe8_row4_col6\" class=\"data row4 col6\" >1.00</td>\n",
       "                        <td id=\"T_cdbe8_row4_col7\" class=\"data row4 col7\" >2.00</td>\n",
       "            </tr>\n",
       "            <tr>\n",
       "                        <th id=\"T_cdbe8_level0_row5\" class=\"row_heading level0 row5\" >98</th>\n",
       "                        <td id=\"T_cdbe8_row5_col0\" class=\"data row5 col0\" >11285.03</td>\n",
       "                        <td id=\"T_cdbe8_row5_col1\" class=\"data row5 col1\" >174.42</td>\n",
       "                        <td id=\"T_cdbe8_row5_col2\" class=\"data row5 col2\" >1082.74</td>\n",
       "                        <td id=\"T_cdbe8_row5_col3\" class=\"data row5 col3\" >10.43</td>\n",
       "                        <td id=\"T_cdbe8_row5_col4\" class=\"data row5 col4\" >0.16</td>\n",
       "                        <td id=\"T_cdbe8_row5_col5\" class=\"data row5 col5\" >0.00</td>\n",
       "                        <td id=\"T_cdbe8_row5_col6\" class=\"data row5 col6\" >1.00</td>\n",
       "                        <td id=\"T_cdbe8_row5_col7\" class=\"data row5 col7\" >2.00</td>\n",
       "            </tr>\n",
       "            <tr>\n",
       "                        <th id=\"T_cdbe8_level0_row6\" class=\"row_heading level0 row6\" >35</th>\n",
       "                        <td id=\"T_cdbe8_row6_col0\" class=\"data row6 col0\" >12226.29</td>\n",
       "                        <td id=\"T_cdbe8_row6_col1\" class=\"data row6 col1\" >0.00</td>\n",
       "                        <td id=\"T_cdbe8_row6_col2\" class=\"data row6 col2\" >2010.82</td>\n",
       "                        <td id=\"T_cdbe8_row6_col3\" class=\"data row6 col3\" >6.08</td>\n",
       "                        <td id=\"T_cdbe8_row6_col4\" class=\"data row6 col4\" >0.30</td>\n",
       "                        <td id=\"T_cdbe8_row6_col5\" class=\"data row6 col5\" >0.00</td>\n",
       "                        <td id=\"T_cdbe8_row6_col6\" class=\"data row6 col6\" >1.00</td>\n",
       "                        <td id=\"T_cdbe8_row6_col7\" class=\"data row6 col7\" >2.00</td>\n",
       "            </tr>\n",
       "            <tr>\n",
       "                        <th id=\"T_cdbe8_level0_row7\" class=\"row_heading level0 row7\" >67</th>\n",
       "                        <td id=\"T_cdbe8_row7_col0\" class=\"data row7 col0\" >25067.33</td>\n",
       "                        <td id=\"T_cdbe8_row7_col1\" class=\"data row7 col1\" >867.50</td>\n",
       "                        <td id=\"T_cdbe8_row7_col2\" class=\"data row7 col2\" >2504.32</td>\n",
       "                        <td id=\"T_cdbe8_row7_col3\" class=\"data row7 col3\" >10.01</td>\n",
       "                        <td id=\"T_cdbe8_row7_col4\" class=\"data row7 col4\" >0.35</td>\n",
       "                        <td id=\"T_cdbe8_row7_col5\" class=\"data row7 col5\" >0.00</td>\n",
       "                        <td id=\"T_cdbe8_row7_col6\" class=\"data row7 col6\" >1.00</td>\n",
       "                        <td id=\"T_cdbe8_row7_col7\" class=\"data row7 col7\" >2.00</td>\n",
       "            </tr>\n",
       "            <tr>\n",
       "                        <th id=\"T_cdbe8_level0_row8\" class=\"row_heading level0 row8\" >386</th>\n",
       "                        <td id=\"T_cdbe8_row8_col0\" class=\"data row8 col0\" >8157.82</td>\n",
       "                        <td id=\"T_cdbe8_row8_col1\" class=\"data row8 col1\" >49.41</td>\n",
       "                        <td id=\"T_cdbe8_row8_col2\" class=\"data row8 col2\" >2188.38</td>\n",
       "                        <td id=\"T_cdbe8_row8_col3\" class=\"data row8 col3\" >3.78</td>\n",
       "                        <td id=\"T_cdbe8_row8_col4\" class=\"data row8 col4\" >0.02</td>\n",
       "                        <td id=\"T_cdbe8_row8_col5\" class=\"data row8 col5\" >0.00</td>\n",
       "                        <td id=\"T_cdbe8_row8_col6\" class=\"data row8 col6\" >1.00</td>\n",
       "                        <td id=\"T_cdbe8_row8_col7\" class=\"data row8 col7\" >1.00</td>\n",
       "            </tr>\n",
       "            <tr>\n",
       "                        <th id=\"T_cdbe8_level0_row9\" class=\"row_heading level0 row9\" >71</th>\n",
       "                        <td id=\"T_cdbe8_row9_col0\" class=\"data row9 col0\" >9642.37</td>\n",
       "                        <td id=\"T_cdbe8_row9_col1\" class=\"data row9 col1\" >748.41</td>\n",
       "                        <td id=\"T_cdbe8_row9_col2\" class=\"data row9 col2\" >818.69</td>\n",
       "                        <td id=\"T_cdbe8_row9_col3\" class=\"data row9 col3\" >11.78</td>\n",
       "                        <td id=\"T_cdbe8_row9_col4\" class=\"data row9 col4\" >0.91</td>\n",
       "                        <td id=\"T_cdbe8_row9_col5\" class=\"data row9 col5\" >1.00</td>\n",
       "                        <td id=\"T_cdbe8_row9_col6\" class=\"data row9 col6\" >1.00</td>\n",
       "                        <td id=\"T_cdbe8_row9_col7\" class=\"data row9 col7\" >2.00</td>\n",
       "            </tr>\n",
       "    </tbody></table>"
      ],
      "text/plain": [
       "<pandas.io.formats.style.Styler at 0x221f320b3d0>"
      ]
     },
     "execution_count": 26,
     "metadata": {},
     "output_type": "execute_result"
    }
   ],
   "source": [
    "# Correlation with output variable\n",
    "cor_target = abs(corrMatrix[\"IGRA_RESULT\"])\n",
    "\n",
    "# Selecting highly correlated features : 0.1\n",
    "relevant_features = cor_target[cor_target>0.1]\n",
    "print(\"relevant_features : \",relevant_features.shape,\"\\n\",relevant_features)\n",
    "\n",
    "print(\"-----------------------------------------------------------------------\")\n",
    "lst_relevant_features_columns = relevant_features.index.to_list()\n",
    "my_data = pd.DataFrame(df, columns= lst_relevant_features_columns)\n",
    "\n",
    "print(\"List the column names : \",my_data.columns.to_list())\n",
    "my_data.sample(10).style.format(\"{:.2f}\").background_gradient(cmap=\"coolwarm\")\n"
   ]
  },
  {
   "cell_type": "code",
   "execution_count": 27,
   "metadata": {
    "colab": {
     "base_uri": "https://localhost:8080/"
    },
    "executionInfo": {
     "elapsed": 30,
     "status": "ok",
     "timestamp": 1649345016750,
     "user": {
      "displayName": "hichem felouat",
      "userId": "06423185161580092580"
     },
     "user_tz": -60
    },
    "id": "dAUjTGxdsPvk",
    "outputId": "9aecb094-8a24-41ac-c136-b5124a794893"
   },
   "outputs": [
    {
     "name": "stdout",
     "output_type": "stream",
     "text": [
      "X :  (390, 7)  y :  (390,)\n",
      "Nbr of 0 :  153\n",
      "Nbr of 1 :  237\n"
     ]
    }
   ],
   "source": [
    "# Define X variables and our target(y)\n",
    "X = my_data.drop([\"IGRA_RESULT\"],axis=1).values\n",
    "y = my_data[\"IGRA_RESULT\"].values\n",
    "\n",
    "print(\"X : \",X.shape,\" y : \",y.shape)\n",
    "print(\"Nbr of 0 : \",np.count_nonzero(y == 0))\n",
    "print(\"Nbr of 1 : \",np.count_nonzero(y == 1))\n"
   ]
  },
  {
   "cell_type": "code",
   "execution_count": 28,
   "metadata": {
    "colab": {
     "base_uri": "https://localhost:8080/",
     "height": 0
    },
    "executionInfo": {
     "elapsed": 34,
     "status": "ok",
     "timestamp": 1649345016756,
     "user": {
      "displayName": "hichem felouat",
      "userId": "06423185161580092580"
     },
     "user_tz": -60
    },
    "id": "ufuHJgkplIyA",
    "outputId": "51fa5940-8b34-460f-86af-7e4266b59ffb"
   },
   "outputs": [
    {
     "name": "stdout",
     "output_type": "stream",
     "text": [
      "X  =  (474, 7)  y =  (474,)\n",
      "Labels   :  [0 1]\n",
      "Nbr of 0 :  237\n",
      "Nbr of 1 :  237\n"
     ]
    },
    {
     "data": {
      "image/png": "[encoded data removed]",
      "text/plain": [
       "<Figure size 432x288 with 1 Axes>"
      ]
     },
     "metadata": {},
     "output_type": "display_data"
    }
   ],
   "source": [
    "# Balance the dataset\n",
    "from imblearn.over_sampling import RandomOverSampler, SMOTE, ADASYN, BorderlineSMOTE, SMOTENC\n",
    "# X, y = ADASYN().fit_resample(X, y)\n",
    "X, y = SMOTE().fit_resample(X, y)\n",
    "\n",
    "print(\"X  = \",X.shape ,\" y = \", y.shape)\n",
    "print(\"Labels   : \",np.unique(y))\n",
    "print(\"Nbr of 0 : \",np.count_nonzero(y == 0))\n",
    "print(\"Nbr of 1 : \",np.count_nonzero(y == 1))\n",
    "\n",
    "sns.set_theme(style=\"darkgrid\")\n",
    "sns.countplot(y=y, data=df, palette=\"coolwarm\")\n",
    "plt.ylabel(\"IGRA Result\")\n",
    "plt.xlabel(\"Total\")\n",
    "plt.show()\n"
   ]
  },
  {
   "cell_type": "markdown",
   "metadata": {
    "id": "YsWXGCyxk22l"
   },
   "source": [
    "## **Split into train and test sets**"
   ]
  },
  {
   "cell_type": "code",
   "execution_count": 29,
   "metadata": {
    "colab": {
     "base_uri": "https://localhost:8080/"
    },
    "executionInfo": {
     "elapsed": 33,
     "status": "ok",
     "timestamp": 1649345016758,
     "user": {
      "displayName": "hichem felouat",
      "userId": "06423185161580092580"
     },
     "user_tz": -60
    },
    "id": "8on7muAgLf8K",
    "outputId": "46d021ce-36d3-4367-fbd6-4b0dc0a9b902"
   },
   "outputs": [
    {
     "name": "stdout",
     "output_type": "stream",
     "text": [
      "X_train =  (379, 7)  y_train =  (379,)\n",
      "X_test  =  (95, 7)  y_test =  (95,)\n"
     ]
    }
   ],
   "source": [
    "# Standardization\n",
    "from sklearn.preprocessing import StandardScaler\n",
    "my_scaler = StandardScaler()\n",
    "my_scaler.fit(X)\n",
    "X_scaler = my_scaler.transform(X)\n",
    "\n",
    "# Split into train and test sets\n",
    "from sklearn.model_selection import train_test_split\n",
    "\n",
    "X_train, X_test, y_train, y_test = train_test_split(X_scaler, \n",
    "              y, test_size= 0.20, random_state=42, stratify=y)\n",
    "\n",
    "print(\"X_train = \",X_train.shape ,\" y_train = \", y_train.shape)\n",
    "print(\"X_test  = \",X_test.shape ,\" y_test = \", y_test.shape)\n"
   ]
  },
  {
   "cell_type": "markdown",
   "metadata": {
    "id": "bdd_qFKNL8DV"
   },
   "source": [
    "# **Classification Algorithm**"
   ]
  },
  {
   "cell_type": "code",
   "execution_count": 30,
   "metadata": {
    "colab": {
     "base_uri": "https://localhost:8080/",
     "height": 762
    },
    "executionInfo": {
     "elapsed": 1023,
     "status": "ok",
     "timestamp": 1649344366505,
     "user": {
      "displayName": "hichem felouat",
      "userId": "06423185161580092580"
     },
     "user_tz": -60
    },
    "id": "6xjp5r_mPK-n",
    "outputId": "e27defe3-a979-4fa4-85f8-378dbb982c4a"
   },
   "outputs": [
    {
     "name": "stdout",
     "output_type": "stream",
     "text": [
      "Classification report : \n",
      "              precision    recall  f1-score   support\n",
      "\n",
      "           0       0.80      0.73      0.76        48\n",
      "           1       0.75      0.81      0.78        47\n",
      "\n",
      "    accuracy                           0.77        95\n",
      "   macro avg       0.77      0.77      0.77        95\n",
      "weighted avg       0.77      0.77      0.77        95\n",
      "\n",
      "Confusion matrix : \n",
      "\n"
     ]
    },
    {
     "data": {
      "image/png": "[encoded data removed]",
      "text/plain": [
       "<Figure size 432x288 with 1 Axes>"
      ]
     },
     "metadata": {},
     "output_type": "display_data"
    },
    {
     "name": "stdout",
     "output_type": "stream",
     "text": [
      "Normalized confusion matrix : \n",
      "\n"
     ]
    },
    {
     "data": {
      "image/png": "[encoded data removed]",
      "text/plain": [
       "<Figure size 432x288 with 1 Axes>"
      ]
     },
     "metadata": {},
     "output_type": "display_data"
    }
   ],
   "source": [
    "from sklearn.ensemble import RandomForestClassifier\n",
    "from sklearn import metrics\n",
    "\n",
    "# Classifier\n",
    "classifier = RandomForestClassifier(n_estimators=200, max_depth=1, random_state=42)\n",
    "\n",
    "# Train the classifier\n",
    "classifier.fit(X_train, y_train)\n",
    "\n",
    "# Making predictions on the testing set\n",
    "predicted = classifier.predict(X_test)\n",
    "\n",
    "# Classification report\n",
    "print(\"Classification report : \") \n",
    "print(metrics.classification_report(y_test, predicted))\n",
    "\n",
    "#-------------------------------------------------------------------------------\n",
    "def draw_confusion_matrix(true, preds, normalize=None):\n",
    "  # Compute confusion matrix\n",
    "  conf_matx = metrics.confusion_matrix(true, preds, normalize = normalize)\n",
    "  conf_matx = np.round(conf_matx, 2)\n",
    "  # print(conf_matx)\n",
    "  # plt.subplots(figsize=(14,8))\n",
    "  sns.heatmap(conf_matx, annot=True, annot_kws={\"size\": 12},fmt=\"g\", cbar=False, cmap=\"viridis\")\n",
    "  plt.show()\n",
    "\n",
    "print(\"Confusion matrix : \\n\")\n",
    "draw_confusion_matrix(y_test, predicted)\n",
    "print(\"Normalized confusion matrix : \\n\")\n",
    "draw_confusion_matrix(y_test, predicted,\"true\")\n"
   ]
  },
  {
   "cell_type": "code",
   "execution_count": 31,
   "metadata": {
    "colab": {
     "base_uri": "https://localhost:8080/",
     "height": 223
    },
    "executionInfo": {
     "elapsed": 366,
     "status": "ok",
     "timestamp": 1649344456463,
     "user": {
      "displayName": "hichem felouat",
      "userId": "06423185161580092580"
     },
     "user_tz": -60
    },
    "id": "pzJjLRViTNXm",
    "outputId": "ab1e69b1-34a2-4f85-88c0-010d725a6c19"
   },
   "outputs": [
    {
     "name": "stdout",
     "output_type": "stream",
     "text": [
      "Classification report : \n"
     ]
    },
    {
     "data": {
      "text/html": [
       "<style  type=\"text/css\" >\n",
       "#T_11dca_row0_col0,#T_11dca_row1_col1,#T_11dca_row1_col2,#T_11dca_row3_col3,#T_11dca_row4_col3{\n",
       "            background-color:  #006837;\n",
       "            color:  #f1f1f1;\n",
       "        }#T_11dca_row0_col1,#T_11dca_row0_col2,#T_11dca_row1_col0,#T_11dca_row2_col3{\n",
       "            background-color:  #a50026;\n",
       "            color:  #f1f1f1;\n",
       "        }#T_11dca_row0_col3,#T_11dca_row3_col0,#T_11dca_row3_col1{\n",
       "            background-color:  #feffbe;\n",
       "            color:  #000000;\n",
       "        }#T_11dca_row1_col3{\n",
       "            background-color:  #fffcba;\n",
       "            color:  #000000;\n",
       "        }#T_11dca_row2_col0{\n",
       "            background-color:  #fff3ac;\n",
       "            color:  #000000;\n",
       "        }#T_11dca_row2_col1,#T_11dca_row4_col1,#T_11dca_row4_col2{\n",
       "            background-color:  #fffdbc;\n",
       "            color:  #000000;\n",
       "        }#T_11dca_row2_col2{\n",
       "            background-color:  #f8fcb6;\n",
       "            color:  #000000;\n",
       "        }#T_11dca_row3_col2{\n",
       "            background-color:  #fffebe;\n",
       "            color:  #000000;\n",
       "        }#T_11dca_row4_col0{\n",
       "            background-color:  #fdfebc;\n",
       "            color:  #000000;\n",
       "        }</style><table id=\"T_11dca_\" ><thead>    <tr>        <th class=\"blank level0\" ></th>        <th class=\"col_heading level0 col0\" >precision</th>        <th class=\"col_heading level0 col1\" >recall</th>        <th class=\"col_heading level0 col2\" >f1-score</th>        <th class=\"col_heading level0 col3\" >support</th>    </tr></thead><tbody>\n",
       "                <tr>\n",
       "                        <th id=\"T_11dca_level0_row0\" class=\"row_heading level0 row0\" >0</th>\n",
       "                        <td id=\"T_11dca_row0_col0\" class=\"data row0 col0\" >0.80</td>\n",
       "                        <td id=\"T_11dca_row0_col1\" class=\"data row0 col1\" >0.73</td>\n",
       "                        <td id=\"T_11dca_row0_col2\" class=\"data row0 col2\" >0.76</td>\n",
       "                        <td id=\"T_11dca_row0_col3\" class=\"data row0 col3\" >48.00</td>\n",
       "            </tr>\n",
       "            <tr>\n",
       "                        <th id=\"T_11dca_level0_row1\" class=\"row_heading level0 row1\" >1</th>\n",
       "                        <td id=\"T_11dca_row1_col0\" class=\"data row1 col0\" >0.75</td>\n",
       "                        <td id=\"T_11dca_row1_col1\" class=\"data row1 col1\" >0.81</td>\n",
       "                        <td id=\"T_11dca_row1_col2\" class=\"data row1 col2\" >0.78</td>\n",
       "                        <td id=\"T_11dca_row1_col3\" class=\"data row1 col3\" >47.00</td>\n",
       "            </tr>\n",
       "            <tr>\n",
       "                        <th id=\"T_11dca_level0_row2\" class=\"row_heading level0 row2\" >accuracy</th>\n",
       "                        <td id=\"T_11dca_row2_col0\" class=\"data row2 col0\" >0.77</td>\n",
       "                        <td id=\"T_11dca_row2_col1\" class=\"data row2 col1\" >0.77</td>\n",
       "                        <td id=\"T_11dca_row2_col2\" class=\"data row2 col2\" >0.77</td>\n",
       "                        <td id=\"T_11dca_row2_col3\" class=\"data row2 col3\" >0.77</td>\n",
       "            </tr>\n",
       "            <tr>\n",
       "                        <th id=\"T_11dca_level0_row3\" class=\"row_heading level0 row3\" >macro avg</th>\n",
       "                        <td id=\"T_11dca_row3_col0\" class=\"data row3 col0\" >0.77</td>\n",
       "                        <td id=\"T_11dca_row3_col1\" class=\"data row3 col1\" >0.77</td>\n",
       "                        <td id=\"T_11dca_row3_col2\" class=\"data row3 col2\" >0.77</td>\n",
       "                        <td id=\"T_11dca_row3_col3\" class=\"data row3 col3\" >95.00</td>\n",
       "            </tr>\n",
       "            <tr>\n",
       "                        <th id=\"T_11dca_level0_row4\" class=\"row_heading level0 row4\" >weighted avg</th>\n",
       "                        <td id=\"T_11dca_row4_col0\" class=\"data row4 col0\" >0.77</td>\n",
       "                        <td id=\"T_11dca_row4_col1\" class=\"data row4 col1\" >0.77</td>\n",
       "                        <td id=\"T_11dca_row4_col2\" class=\"data row4 col2\" >0.77</td>\n",
       "                        <td id=\"T_11dca_row4_col3\" class=\"data row4 col3\" >95.00</td>\n",
       "            </tr>\n",
       "    </tbody></table>"
      ],
      "text/plain": [
       "<pandas.io.formats.style.Styler at 0x221f36c8310>"
      ]
     },
     "execution_count": 31,
     "metadata": {},
     "output_type": "execute_result"
    }
   ],
   "source": [
    "print(\"Classification report : \") \n",
    "report = pd.DataFrame(metrics.classification_report(y_test, predicted, output_dict=True))\n",
    "# report.T.style.format(\"{:.2%}\").background_gradient(cmap=\"RdYlGn\")\n",
    "report.T.style.format(\"{:.2f}\").background_gradient(cmap=\"RdYlGn\")\n"
   ]
  },
  {
   "cell_type": "markdown",
   "metadata": {
    "id": "JpBiWiouS2o2"
   },
   "source": [
    "# **Hyperparameter Tuning**"
   ]
  },
  {
   "cell_type": "code",
   "execution_count": 32,
   "metadata": {
    "colab": {
     "base_uri": "https://localhost:8080/",
     "height": 849
    },
    "executionInfo": {
     "elapsed": 90722,
     "status": "ok",
     "timestamp": 1649344578879,
     "user": {
      "displayName": "hichem felouat",
      "userId": "06423185161580092580"
     },
     "user_tz": -60
    },
    "id": "fLWh0Fu7swxd",
    "outputId": "b9f1c9ed-c769-4d11-a3f0-41493c28e0b5"
   },
   "outputs": [
    {
     "name": "stdout",
     "output_type": "stream",
     "text": [
      "Fitting 5 folds for each of 36 candidates, totalling 180 fits\n",
      "-----------------------------------------------------------------------\n",
      "The best hyper-parameter after tuning :  {'max_depth': 4, 'n_estimators': 300}\n",
      "Our model looks after hyper-parameter tuning :  RandomForestClassifier(max_depth=4, n_estimators=300)\n",
      "-----------------------------------------------------------------------\n",
      "Classification report : \n",
      "              precision    recall  f1-score   support\n",
      "\n",
      "           0       0.88      0.88      0.88        48\n",
      "           1       0.87      0.87      0.87        47\n",
      "\n",
      "    accuracy                           0.87        95\n",
      "   macro avg       0.87      0.87      0.87        95\n",
      "weighted avg       0.87      0.87      0.87        95\n",
      "\n",
      "Confusion matrix : \n",
      "\n"
     ]
    },
    {
     "data": {
      "image/png": "[encoded data removed]",
      "text/plain": [
       "<Figure size 432x288 with 1 Axes>"
      ]
     },
     "metadata": {},
     "output_type": "display_data"
    },
    {
     "name": "stdout",
     "output_type": "stream",
     "text": [
      "Normalized confusion matrix : \n",
      "\n"
     ]
    },
    {
     "data": {
      "image/png": "[encoded data removed]",
      "text/plain": [
       "<Figure size 432x288 with 1 Axes>"
      ]
     },
     "metadata": {},
     "output_type": "display_data"
    }
   ],
   "source": [
    "from sklearn.ensemble import RandomForestClassifier\n",
    "from sklearn import metrics\n",
    "from sklearn.model_selection import GridSearchCV\n",
    "\n",
    "param_grid = [\n",
    "  {\"n_estimators\": [300, 400, 500], \"max_depth\": [1, 2, 3, 4]},\n",
    "  {\"n_estimators\": [100, 150, 200, 250], \"criterion\": [\"gini\",\"entropy\"], \n",
    "                                                      \"max_depth\": [1, 2, 3]},\n",
    "  ]\n",
    "\n",
    "grid = GridSearchCV(RandomForestClassifier(), param_grid, refit = True, verbose = 1) \n",
    "grid.fit(X_train, y_train)\n",
    "\n",
    "print(\"-----------------------------------------------------------------------\")\n",
    "print(\"The best hyper-parameter after tuning : \",grid.best_params_)  \n",
    "print(\"Our model looks after hyper-parameter tuning : \",grid.best_estimator_)\n",
    "print(\"-----------------------------------------------------------------------\")\n",
    "\n",
    "grid_predictions = grid.predict(X_test)\n",
    "\n",
    "# Classification report\n",
    "print(\"Classification report : \") \n",
    "print(metrics.classification_report(y_test, grid_predictions))\n",
    "\n",
    "#-------------------------------------------------------------------------------\n",
    "def draw_confusion_matrix(true, preds, normalize=None):\n",
    "  # Compute confusion matrix\n",
    "  conf_matx = metrics.confusion_matrix(true, preds, normalize = normalize)\n",
    "  conf_matx = np.round(conf_matx, 2)\n",
    "  # print(conf_matx)\n",
    "  # plt.subplots(figsize=(14,8))\n",
    "  sns.heatmap(conf_matx, annot=True, annot_kws={\"size\": 12},fmt=\"g\", cbar=False, cmap=\"viridis\")\n",
    "  plt.show()\n",
    "\n",
    "print(\"Confusion matrix : \\n\")\n",
    "draw_confusion_matrix(y_test, grid_predictions)\n",
    "print(\"Normalized confusion matrix : \\n\")\n",
    "draw_confusion_matrix(y_test, grid_predictions, \"true\")\n",
    "\n"
   ]
  },
  {
   "cell_type": "code",
   "execution_count": null,
   "metadata": {
    "colab": {
     "base_uri": "https://localhost:8080/"
    },
    "executionInfo": {
     "elapsed": 8300,
     "status": "ok",
     "timestamp": 1649344690690,
     "user": {
      "displayName": "hichem felouat",
      "userId": "06423185161580092580"
     },
     "user_tz": -60
    },
    "id": "Mm3EQ2i-J0_6",
    "outputId": "394703c1-87c0-4a76-a3af-a4370ab5430e"
   },
   "outputs": [],
   "source": [
    "!pip install optuna"
   ]
  },
  {
   "cell_type": "code",
   "execution_count": 38,
   "metadata": {
    "colab": {
     "base_uri": "https://localhost:8080/"
    },
    "executionInfo": {
     "elapsed": 23731,
     "status": "ok",
     "timestamp": 1649344878688,
     "user": {
      "displayName": "hichem felouat",
      "userId": "06423185161580092580"
     },
     "user_tz": -60
    },
    "id": "QF5n-ZHCBaBx",
    "outputId": "9057ab40-56c0-42b2-aa22-7721cb0f4a04"
   },
   "outputs": [
    {
     "name": "stderr",
     "output_type": "stream",
     "text": [
      "\u001b[32m[I 2022-04-12 00:29:19,019]\u001b[0m A new study created in memory with name: no-name-f9d96d4c-201d-441e-bbd0-d953bb7c2b96\u001b[0m\n",
      "\u001b[32m[I 2022-04-12 00:29:19,422]\u001b[0m Trial 0 finished with value: 0.7653333333333333 and parameters: {'classifier': 'GradientBoosting', 'gb_n_estimators': 490, 'gb_max_depth': 1, 'gb_loss': 'deviance', 'gb_learning_rate': 0.0013340298637418227, 'gb_criterion': 'friedman_mse'}. Best is trial 0 with value: 0.7653333333333333.\u001b[0m\n",
      "\u001b[32m[I 2022-04-12 00:29:20,271]\u001b[0m Trial 1 finished with value: 0.8286315789473685 and parameters: {'classifier': 'RandomForest', 'rf_n_estimators': 346, 'rf_max_depth': 2}. Best is trial 1 with value: 0.8286315789473685.\u001b[0m\n",
      "\u001b[32m[I 2022-04-12 00:29:21,064]\u001b[0m Trial 2 finished with value: 0.9868421052631579 and parameters: {'classifier': 'GradientBoosting', 'gb_n_estimators': 461, 'gb_max_depth': 2, 'gb_loss': 'deviance', 'gb_learning_rate': 0.026901265565112582, 'gb_criterion': 'mse'}. Best is trial 2 with value: 0.9868421052631579.\u001b[0m\n",
      "\u001b[32m[I 2022-04-12 00:29:22,016]\u001b[0m Trial 3 finished with value: 0.7627017543859649 and parameters: {'classifier': 'RandomForest', 'rf_n_estimators': 408, 'rf_max_depth': 1}. Best is trial 2 with value: 0.9868421052631579.\u001b[0m\n",
      "\u001b[32m[I 2022-04-12 00:29:23,037]\u001b[0m Trial 4 finished with value: 0.8681403508771929 and parameters: {'classifier': 'RandomForest', 'rf_n_estimators': 412, 'rf_max_depth': 3}. Best is trial 2 with value: 0.9868421052631579.\u001b[0m\n"
     ]
    }
   ],
   "source": [
    "# https://towardsdatascience.com/exploring-optuna-a-hyper-parameter-framework-using-logistic-regression-84bd622cd3a5\n",
    "# https://colab.research.google.com/github/pfnet-research/optuna-hands-on/blob/master/en/01_Optuna_Quick_Start.ipynb#scrollTo=YCaeFYtfBkBq\n",
    "\n",
    "import optuna\n",
    "from sklearn.ensemble import RandomForestClassifier, GradientBoostingClassifier\n",
    "from xgboost import XGBClassifier\n",
    "from sklearn import model_selection\n",
    "\n",
    "# Step 1: Define an objective function to be maximized.\n",
    "def objective(trial):\n",
    "  classifier_name = trial.suggest_categorical(\"classifier\", \n",
    "                              [\"RandomForest\", \"GradientBoosting\", \"XGB\"])\n",
    "  \n",
    "  # Step 2: Setup values for the hyperparameters:\n",
    "  if classifier_name == \"RandomForest\":\n",
    "    rf_n_estimators = trial.suggest_int(\"rf_n_estimators\", 300, 500)\n",
    "    rf_max_depth = trial.suggest_int(\"rf_max_depth\", 1, 4, log=True)\n",
    "\n",
    "    classifier_obj = RandomForestClassifier(max_depth=rf_max_depth, \n",
    "                                            n_estimators=rf_n_estimators,\n",
    "                                            n_jobs=1)\n",
    "  elif classifier_name == \"GradientBoosting\":\n",
    "    gb_n_estimators = trial.suggest_int(\"gb_n_estimators\", 300, 500)\n",
    "    gb_max_depth = trial.suggest_int(\"gb_max_depth\", 1, 4, log=True)\n",
    "    gb_loss = trial.suggest_categorical(\"gb_loss\", [\"deviance\", \"exponential\"])\n",
    "    gb_learning_rate = trial.suggest_float(\"gb_learning_rate\", 0.001, 0.1, log=True)\n",
    "    gb_criterion = trial.suggest_categorical(\"gb_criterion\", [\"friedman_mse\", \"squared_error\", \"mse\"])\n",
    "    \n",
    "    classifier_obj = GradientBoostingClassifier(n_estimators=gb_n_estimators,\n",
    "                                                max_depth=gb_max_depth,\n",
    "                                                loss=gb_loss,\n",
    "                                                learning_rate=gb_learning_rate,\n",
    "                                                criterion=gb_criterion)\n",
    "  else:\n",
    "    xgb_max_depth = trial.suggest_int(\"xgb_max_depth\", 1, 4, log=True)\n",
    "    xgb_learning_rate = trial.suggest_float(\"xgb_learning_rate\", 0.001, 0.1, log=True)\n",
    "    xgb_n_estimators = trial.suggest_int(\"xgb_n_estimators\",300, 500)\n",
    "\n",
    "    classifier_obj = XGBClassifier(max_depth=xgb_max_depth, learning_rate=xgb_learning_rate, \n",
    "                                   n_estimators=xgb_n_estimators, random_state=100)\n",
    "\n",
    "  # Step 3: Scoring method:\n",
    "  score = model_selection.cross_val_score(classifier_obj, X_train, y_train, n_jobs=-1, cv=5)\n",
    "  accuracy = score.mean()\n",
    "  return accuracy\n",
    "\n",
    "# Step 4: Running it\n",
    "NB_trials = 5\n",
    "study = optuna.create_study(direction=\"maximize\")\n",
    "study.optimize(objective, n_trials=NB_trials)\n"
   ]
  },
  {
   "cell_type": "code",
   "execution_count": 39,
   "metadata": {
    "colab": {
     "base_uri": "https://localhost:8080/"
    },
    "executionInfo": {
     "elapsed": 1138,
     "status": "ok",
     "timestamp": 1649344918624,
     "user": {
      "displayName": "hichem felouat",
      "userId": "06423185161580092580"
     },
     "user_tz": -60
    },
    "id": "KHli-F9_OaWx",
    "outputId": "e244803e-50e7-4b7f-be2e-cf37aa691d19"
   },
   "outputs": [
    {
     "name": "stdout",
     "output_type": "stream",
     "text": [
      "The best trial is : \n",
      " FrozenTrial(number=2, values=[0.9868421052631579], datetime_start=datetime.datetime(2022, 4, 12, 0, 29, 20, 272630), datetime_complete=datetime.datetime(2022, 4, 12, 0, 29, 21, 64573), params={'classifier': 'GradientBoosting', 'gb_n_estimators': 461, 'gb_max_depth': 2, 'gb_loss': 'deviance', 'gb_learning_rate': 0.026901265565112582, 'gb_criterion': 'mse'}, distributions={'classifier': CategoricalDistribution(choices=('RandomForest', 'GradientBoosting', 'XGB')), 'gb_n_estimators': IntUniformDistribution(high=500, low=300, step=1), 'gb_max_depth': IntLogUniformDistribution(high=4, low=1, step=1), 'gb_loss': CategoricalDistribution(choices=('deviance', 'exponential')), 'gb_learning_rate': LogUniformDistribution(high=0.1, low=0.001), 'gb_criterion': CategoricalDistribution(choices=('friedman_mse', 'squared_error', 'mse'))}, user_attrs={}, system_attrs={}, intermediate_values={}, trial_id=2, state=TrialState.COMPLETE, value=None)\n",
      "-----------------------------------------------------------------------\n",
      "The best value is : \n",
      " 0.9868421052631579\n",
      "-----------------------------------------------------------------------\n",
      "The best parameters are : \n",
      " {'classifier': 'GradientBoosting', 'gb_n_estimators': 461, 'gb_max_depth': 2, 'gb_loss': 'deviance', 'gb_learning_rate': 0.026901265565112582, 'gb_criterion': 'mse'}\n"
     ]
    }
   ],
   "source": [
    "# Getting the best trial:\n",
    "print(\"The best trial is : \\n\",study.best_trial)\n",
    "\n",
    "print(\"-----------------------------------------------------------------------\")\n",
    "# Getting the best score:\n",
    "print(\"The best value is : \\n\",study.best_value)\n",
    "\n",
    "print(\"-----------------------------------------------------------------------\")\n",
    "# Getting the best parameters:\n",
    "print(\"The best parameters are : \\n\",study.best_params)\n"
   ]
  },
  {
   "cell_type": "code",
   "execution_count": 40,
   "metadata": {
    "colab": {
     "base_uri": "https://localhost:8080/",
     "height": 313
    },
    "executionInfo": {
     "elapsed": 580,
     "status": "ok",
     "timestamp": 1649344967346,
     "user": {
      "displayName": "hichem felouat",
      "userId": "06423185161580092580"
     },
     "user_tz": -60
    },
    "id": "r3Nut0QwPxml",
    "outputId": "8ad44b66-e93a-45a3-9b86-53c0de888f24"
   },
   "outputs": [
    {
     "data": {
      "text/html": [
       "<style  type=\"text/css\" >\n",
       "#T_5cbba_row0_col0,#T_5cbba_row2_col11{\n",
       "            background-color:  #feffbe;\n",
       "            color:  #000000;\n",
       "        }#T_5cbba_row0_col1,#T_5cbba_row0_col7,#T_5cbba_row0_col9,#T_5cbba_row1_col0,#T_5cbba_row1_col4,#T_5cbba_row1_col11,#T_5cbba_row1_col12,#T_5cbba_row3_col10{\n",
       "            background-color:  #006837;\n",
       "            color:  #f1f1f1;\n",
       "        }#T_5cbba_row0_col4{\n",
       "            background-color:  #c7e77f;\n",
       "            color:  #000000;\n",
       "        }#T_5cbba_row0_col10,#T_5cbba_row2_col12,#T_5cbba_row3_col0,#T_5cbba_row3_col4,#T_5cbba_row3_col7,#T_5cbba_row3_col9,#T_5cbba_row4_col1,#T_5cbba_row4_col11{\n",
       "            background-color:  #a50026;\n",
       "            color:  #f1f1f1;\n",
       "        }#T_5cbba_row0_col11,#T_5cbba_row0_col12,#T_5cbba_row1_col7,#T_5cbba_row1_col9,#T_5cbba_row1_col10,#T_5cbba_row2_col7,#T_5cbba_row2_col9,#T_5cbba_row2_col10,#T_5cbba_row3_col11,#T_5cbba_row3_col12,#T_5cbba_row4_col7,#T_5cbba_row4_col9,#T_5cbba_row4_col10{\n",
       "            background-color:  #000000;\n",
       "            color:  #f1f1f1;\n",
       "        }#T_5cbba_row1_col1{\n",
       "            background-color:  #fff6b0;\n",
       "            color:  #000000;\n",
       "        }#T_5cbba_row2_col0{\n",
       "            background-color:  #f98e52;\n",
       "            color:  #000000;\n",
       "        }#T_5cbba_row2_col1{\n",
       "            background-color:  #fcaa5f;\n",
       "            color:  #000000;\n",
       "        }#T_5cbba_row2_col4{\n",
       "            background-color:  #96d268;\n",
       "            color:  #000000;\n",
       "        }#T_5cbba_row3_col1{\n",
       "            background-color:  #ab0626;\n",
       "            color:  #f1f1f1;\n",
       "        }#T_5cbba_row4_col0{\n",
       "            background-color:  #84ca66;\n",
       "            color:  #000000;\n",
       "        }#T_5cbba_row4_col4{\n",
       "            background-color:  #219c52;\n",
       "            color:  #000000;\n",
       "        }#T_5cbba_row4_col12{\n",
       "            background-color:  #0f8446;\n",
       "            color:  #f1f1f1;\n",
       "        }</style><table id=\"T_5cbba_\" ><thead>    <tr>        <th class=\"blank level0\" ></th>        <th class=\"col_heading level0 col0\" >number</th>        <th class=\"col_heading level0 col1\" >value</th>        <th class=\"col_heading level0 col2\" >datetime_start</th>        <th class=\"col_heading level0 col3\" >datetime_complete</th>        <th class=\"col_heading level0 col4\" >duration</th>        <th class=\"col_heading level0 col5\" >params_classifier</th>        <th class=\"col_heading level0 col6\" >params_gb_criterion</th>        <th class=\"col_heading level0 col7\" >params_gb_learning_rate</th>        <th class=\"col_heading level0 col8\" >params_gb_loss</th>        <th class=\"col_heading level0 col9\" >params_gb_max_depth</th>        <th class=\"col_heading level0 col10\" >params_gb_n_estimators</th>        <th class=\"col_heading level0 col11\" >params_rf_max_depth</th>        <th class=\"col_heading level0 col12\" >params_rf_n_estimators</th>        <th class=\"col_heading level0 col13\" >state</th>    </tr></thead><tbody>\n",
       "                <tr>\n",
       "                        <th id=\"T_5cbba_level0_row0\" class=\"row_heading level0 row0\" >2</th>\n",
       "                        <td id=\"T_5cbba_row0_col0\" class=\"data row0 col0\" >2</td>\n",
       "                        <td id=\"T_5cbba_row0_col1\" class=\"data row0 col1\" >0.986842</td>\n",
       "                        <td id=\"T_5cbba_row0_col2\" class=\"data row0 col2\" >2022-04-12 00:29:20.272630</td>\n",
       "                        <td id=\"T_5cbba_row0_col3\" class=\"data row0 col3\" >2022-04-12 00:29:21.064573</td>\n",
       "                        <td id=\"T_5cbba_row0_col4\" class=\"data row0 col4\" >0 days 00:00:00.791943</td>\n",
       "                        <td id=\"T_5cbba_row0_col5\" class=\"data row0 col5\" >GradientBoosting</td>\n",
       "                        <td id=\"T_5cbba_row0_col6\" class=\"data row0 col6\" >mse</td>\n",
       "                        <td id=\"T_5cbba_row0_col7\" class=\"data row0 col7\" >0.026901</td>\n",
       "                        <td id=\"T_5cbba_row0_col8\" class=\"data row0 col8\" >deviance</td>\n",
       "                        <td id=\"T_5cbba_row0_col9\" class=\"data row0 col9\" >2.000000</td>\n",
       "                        <td id=\"T_5cbba_row0_col10\" class=\"data row0 col10\" >461.000000</td>\n",
       "                        <td id=\"T_5cbba_row0_col11\" class=\"data row0 col11\" >nan</td>\n",
       "                        <td id=\"T_5cbba_row0_col12\" class=\"data row0 col12\" >nan</td>\n",
       "                        <td id=\"T_5cbba_row0_col13\" class=\"data row0 col13\" >COMPLETE</td>\n",
       "            </tr>\n",
       "            <tr>\n",
       "                        <th id=\"T_5cbba_level0_row1\" class=\"row_heading level0 row1\" >4</th>\n",
       "                        <td id=\"T_5cbba_row1_col0\" class=\"data row1 col0\" >4</td>\n",
       "                        <td id=\"T_5cbba_row1_col1\" class=\"data row1 col1\" >0.868140</td>\n",
       "                        <td id=\"T_5cbba_row1_col2\" class=\"data row1 col2\" >2022-04-12 00:29:22.017026</td>\n",
       "                        <td id=\"T_5cbba_row1_col3\" class=\"data row1 col3\" >2022-04-12 00:29:23.036496</td>\n",
       "                        <td id=\"T_5cbba_row1_col4\" class=\"data row1 col4\" >0 days 00:00:01.019470</td>\n",
       "                        <td id=\"T_5cbba_row1_col5\" class=\"data row1 col5\" >RandomForest</td>\n",
       "                        <td id=\"T_5cbba_row1_col6\" class=\"data row1 col6\" >nan</td>\n",
       "                        <td id=\"T_5cbba_row1_col7\" class=\"data row1 col7\" >nan</td>\n",
       "                        <td id=\"T_5cbba_row1_col8\" class=\"data row1 col8\" >nan</td>\n",
       "                        <td id=\"T_5cbba_row1_col9\" class=\"data row1 col9\" >nan</td>\n",
       "                        <td id=\"T_5cbba_row1_col10\" class=\"data row1 col10\" >nan</td>\n",
       "                        <td id=\"T_5cbba_row1_col11\" class=\"data row1 col11\" >3.000000</td>\n",
       "                        <td id=\"T_5cbba_row1_col12\" class=\"data row1 col12\" >412.000000</td>\n",
       "                        <td id=\"T_5cbba_row1_col13\" class=\"data row1 col13\" >COMPLETE</td>\n",
       "            </tr>\n",
       "            <tr>\n",
       "                        <th id=\"T_5cbba_level0_row2\" class=\"row_heading level0 row2\" >1</th>\n",
       "                        <td id=\"T_5cbba_row2_col0\" class=\"data row2 col0\" >1</td>\n",
       "                        <td id=\"T_5cbba_row2_col1\" class=\"data row2 col1\" >0.828632</td>\n",
       "                        <td id=\"T_5cbba_row2_col2\" class=\"data row2 col2\" >2022-04-12 00:29:19.422374</td>\n",
       "                        <td id=\"T_5cbba_row2_col3\" class=\"data row2 col3\" >2022-04-12 00:29:20.271601</td>\n",
       "                        <td id=\"T_5cbba_row2_col4\" class=\"data row2 col4\" >0 days 00:00:00.849227</td>\n",
       "                        <td id=\"T_5cbba_row2_col5\" class=\"data row2 col5\" >RandomForest</td>\n",
       "                        <td id=\"T_5cbba_row2_col6\" class=\"data row2 col6\" >nan</td>\n",
       "                        <td id=\"T_5cbba_row2_col7\" class=\"data row2 col7\" >nan</td>\n",
       "                        <td id=\"T_5cbba_row2_col8\" class=\"data row2 col8\" >nan</td>\n",
       "                        <td id=\"T_5cbba_row2_col9\" class=\"data row2 col9\" >nan</td>\n",
       "                        <td id=\"T_5cbba_row2_col10\" class=\"data row2 col10\" >nan</td>\n",
       "                        <td id=\"T_5cbba_row2_col11\" class=\"data row2 col11\" >2.000000</td>\n",
       "                        <td id=\"T_5cbba_row2_col12\" class=\"data row2 col12\" >346.000000</td>\n",
       "                        <td id=\"T_5cbba_row2_col13\" class=\"data row2 col13\" >COMPLETE</td>\n",
       "            </tr>\n",
       "            <tr>\n",
       "                        <th id=\"T_5cbba_level0_row3\" class=\"row_heading level0 row3\" >0</th>\n",
       "                        <td id=\"T_5cbba_row3_col0\" class=\"data row3 col0\" >0</td>\n",
       "                        <td id=\"T_5cbba_row3_col1\" class=\"data row3 col1\" >0.765333</td>\n",
       "                        <td id=\"T_5cbba_row3_col2\" class=\"data row3 col2\" >2022-04-12 00:29:19.021939</td>\n",
       "                        <td id=\"T_5cbba_row3_col3\" class=\"data row3 col3\" >2022-04-12 00:29:19.421377</td>\n",
       "                        <td id=\"T_5cbba_row3_col4\" class=\"data row3 col4\" >0 days 00:00:00.399438</td>\n",
       "                        <td id=\"T_5cbba_row3_col5\" class=\"data row3 col5\" >GradientBoosting</td>\n",
       "                        <td id=\"T_5cbba_row3_col6\" class=\"data row3 col6\" >friedman_mse</td>\n",
       "                        <td id=\"T_5cbba_row3_col7\" class=\"data row3 col7\" >0.001334</td>\n",
       "                        <td id=\"T_5cbba_row3_col8\" class=\"data row3 col8\" >deviance</td>\n",
       "                        <td id=\"T_5cbba_row3_col9\" class=\"data row3 col9\" >1.000000</td>\n",
       "                        <td id=\"T_5cbba_row3_col10\" class=\"data row3 col10\" >490.000000</td>\n",
       "                        <td id=\"T_5cbba_row3_col11\" class=\"data row3 col11\" >nan</td>\n",
       "                        <td id=\"T_5cbba_row3_col12\" class=\"data row3 col12\" >nan</td>\n",
       "                        <td id=\"T_5cbba_row3_col13\" class=\"data row3 col13\" >COMPLETE</td>\n",
       "            </tr>\n",
       "            <tr>\n",
       "                        <th id=\"T_5cbba_level0_row4\" class=\"row_heading level0 row4\" >3</th>\n",
       "                        <td id=\"T_5cbba_row4_col0\" class=\"data row4 col0\" >3</td>\n",
       "                        <td id=\"T_5cbba_row4_col1\" class=\"data row4 col1\" >0.762702</td>\n",
       "                        <td id=\"T_5cbba_row4_col2\" class=\"data row4 col2\" >2022-04-12 00:29:21.065597</td>\n",
       "                        <td id=\"T_5cbba_row4_col3\" class=\"data row4 col3\" >2022-04-12 00:29:22.016055</td>\n",
       "                        <td id=\"T_5cbba_row4_col4\" class=\"data row4 col4\" >0 days 00:00:00.950458</td>\n",
       "                        <td id=\"T_5cbba_row4_col5\" class=\"data row4 col5\" >RandomForest</td>\n",
       "                        <td id=\"T_5cbba_row4_col6\" class=\"data row4 col6\" >nan</td>\n",
       "                        <td id=\"T_5cbba_row4_col7\" class=\"data row4 col7\" >nan</td>\n",
       "                        <td id=\"T_5cbba_row4_col8\" class=\"data row4 col8\" >nan</td>\n",
       "                        <td id=\"T_5cbba_row4_col9\" class=\"data row4 col9\" >nan</td>\n",
       "                        <td id=\"T_5cbba_row4_col10\" class=\"data row4 col10\" >nan</td>\n",
       "                        <td id=\"T_5cbba_row4_col11\" class=\"data row4 col11\" >1.000000</td>\n",
       "                        <td id=\"T_5cbba_row4_col12\" class=\"data row4 col12\" >408.000000</td>\n",
       "                        <td id=\"T_5cbba_row4_col13\" class=\"data row4 col13\" >COMPLETE</td>\n",
       "            </tr>\n",
       "    </tbody></table>"
      ],
      "text/plain": [
       "<pandas.io.formats.style.Styler at 0x221f36c8370>"
      ]
     },
     "execution_count": 40,
     "metadata": {},
     "output_type": "execute_result"
    }
   ],
   "source": [
    "study.trials_dataframe().sort_values(by=[\"value\"], ascending=False).\\\n",
    "                               head(5).style.background_gradient(cmap=\"RdYlGn\")"
   ]
  },
  {
   "cell_type": "code",
   "execution_count": 41,
   "metadata": {
    "colab": {
     "base_uri": "https://localhost:8080/",
     "height": 762
    },
    "executionInfo": {
     "elapsed": 1708,
     "status": "ok",
     "timestamp": 1649345033183,
     "user": {
      "displayName": "hichem felouat",
      "userId": "06423185161580092580"
     },
     "user_tz": -60
    },
    "id": "fUT9yKc7pJwl",
    "outputId": "49a73d10-d5c7-453a-b44c-550d6a113c5b"
   },
   "outputs": [
    {
     "name": "stdout",
     "output_type": "stream",
     "text": [
      "Classification report : \n",
      "              precision    recall  f1-score   support\n",
      "\n",
      "           0       0.88      0.92      0.90        48\n",
      "           1       0.91      0.87      0.89        47\n",
      "\n",
      "    accuracy                           0.89        95\n",
      "   macro avg       0.90      0.89      0.89        95\n",
      "weighted avg       0.90      0.89      0.89        95\n",
      "\n",
      "Confusion matrix : \n",
      "\n"
     ]
    },
    {
     "data": {
      "image/png": "[encoded data removed]",
      "text/plain": [
       "<Figure size 432x288 with 1 Axes>"
      ]
     },
     "metadata": {},
     "output_type": "display_data"
    },
    {
     "name": "stdout",
     "output_type": "stream",
     "text": [
      "Normalized confusion matrix : \n",
      "\n"
     ]
    },
    {
     "data": {
      "image/png": "[encoded data removed]",
      "text/plain": [
       "<Figure size 432x288 with 1 Axes>"
      ]
     },
     "metadata": {},
     "output_type": "display_data"
    }
   ],
   "source": [
    "from sklearn.ensemble import RandomForestClassifier\n",
    "from sklearn import metrics\n",
    "from sklearn.metrics import confusion_matrix, ConfusionMatrixDisplay\n",
    "\n",
    "# Classifier\n",
    "classifier = RandomForestClassifier(n_estimators=700, max_depth=4, random_state=42)\n",
    "\n",
    "# Train the classifier\n",
    "classifier.fit(X_train, y_train)\n",
    "\n",
    "# Making predictions on the testing set\n",
    "predicted = classifier.predict(X_test)\n",
    "\n",
    "# Classification report\n",
    "print(\"Classification report : \") \n",
    "print(metrics.classification_report(y_test, predicted))\n",
    "\n",
    "#-------------------------------------------------------------------------------\n",
    "def draw_confusion_matrix(true, preds, normalize=None):\n",
    "  # Compute confusion matrix\n",
    "  conf_matx = metrics.confusion_matrix(true, preds, normalize = normalize)\n",
    "  conf_matx = np.round(conf_matx, 2)\n",
    "  # print(conf_matx)\n",
    "  # plt.subplots(figsize=(14,8))\n",
    "  sns.heatmap(conf_matx, annot=True, annot_kws={\"size\": 12},fmt=\"g\", cbar=False, cmap=\"viridis\")\n",
    "  plt.show()\n",
    "\n",
    "print(\"Confusion matrix : \\n\")\n",
    "draw_confusion_matrix(y_test, predicted)\n",
    "print(\"Normalized confusion matrix : \\n\")\n",
    "draw_confusion_matrix(y_test, predicted,\"true\")\n"
   ]
  },
  {
   "cell_type": "code",
   "execution_count": 42,
   "metadata": {
    "colab": {
     "base_uri": "https://localhost:8080/",
     "height": 223
    },
    "executionInfo": {
     "elapsed": 276,
     "status": "ok",
     "timestamp": 1649242268347,
     "user": {
      "displayName": "hichem felouat",
      "userId": "06423185161580092580"
     },
     "user_tz": -60
    },
    "id": "5DiJgDxrrxR5",
    "outputId": "d939ea2f-c98c-4bb5-c1a1-37886ea18205"
   },
   "outputs": [
    {
     "name": "stdout",
     "output_type": "stream",
     "text": [
      "Classification report : \n"
     ]
    },
    {
     "data": {
      "text/html": [
       "<style  type=\"text/css\" >\n",
       "#T_2005c_row0_col0,#T_2005c_row1_col1,#T_2005c_row1_col2,#T_2005c_row2_col3{\n",
       "            background-color:  #a50026;\n",
       "            color:  #f1f1f1;\n",
       "        }#T_2005c_row0_col1,#T_2005c_row0_col2,#T_2005c_row1_col0,#T_2005c_row3_col3,#T_2005c_row4_col3{\n",
       "            background-color:  #006837;\n",
       "            color:  #f1f1f1;\n",
       "        }#T_2005c_row0_col3,#T_2005c_row3_col0,#T_2005c_row3_col2{\n",
       "            background-color:  #feffbe;\n",
       "            color:  #000000;\n",
       "        }#T_2005c_row1_col3{\n",
       "            background-color:  #fffcba;\n",
       "            color:  #000000;\n",
       "        }#T_2005c_row2_col0{\n",
       "            background-color:  #fff7b2;\n",
       "            color:  #000000;\n",
       "        }#T_2005c_row2_col1,#T_2005c_row4_col1,#T_2005c_row4_col2{\n",
       "            background-color:  #fdfebc;\n",
       "            color:  #000000;\n",
       "        }#T_2005c_row2_col2{\n",
       "            background-color:  #f8fcb6;\n",
       "            color:  #000000;\n",
       "        }#T_2005c_row3_col1{\n",
       "            background-color:  #fffebe;\n",
       "            color:  #000000;\n",
       "        }#T_2005c_row4_col0{\n",
       "            background-color:  #fffdbc;\n",
       "            color:  #000000;\n",
       "        }</style><table id=\"T_2005c_\" ><thead>    <tr>        <th class=\"blank level0\" ></th>        <th class=\"col_heading level0 col0\" >precision</th>        <th class=\"col_heading level0 col1\" >recall</th>        <th class=\"col_heading level0 col2\" >f1-score</th>        <th class=\"col_heading level0 col3\" >support</th>    </tr></thead><tbody>\n",
       "                <tr>\n",
       "                        <th id=\"T_2005c_level0_row0\" class=\"row_heading level0 row0\" >0</th>\n",
       "                        <td id=\"T_2005c_row0_col0\" class=\"data row0 col0\" >0.88</td>\n",
       "                        <td id=\"T_2005c_row0_col1\" class=\"data row0 col1\" >0.92</td>\n",
       "                        <td id=\"T_2005c_row0_col2\" class=\"data row0 col2\" >0.90</td>\n",
       "                        <td id=\"T_2005c_row0_col3\" class=\"data row0 col3\" >48.00</td>\n",
       "            </tr>\n",
       "            <tr>\n",
       "                        <th id=\"T_2005c_level0_row1\" class=\"row_heading level0 row1\" >1</th>\n",
       "                        <td id=\"T_2005c_row1_col0\" class=\"data row1 col0\" >0.91</td>\n",
       "                        <td id=\"T_2005c_row1_col1\" class=\"data row1 col1\" >0.87</td>\n",
       "                        <td id=\"T_2005c_row1_col2\" class=\"data row1 col2\" >0.89</td>\n",
       "                        <td id=\"T_2005c_row1_col3\" class=\"data row1 col3\" >47.00</td>\n",
       "            </tr>\n",
       "            <tr>\n",
       "                        <th id=\"T_2005c_level0_row2\" class=\"row_heading level0 row2\" >accuracy</th>\n",
       "                        <td id=\"T_2005c_row2_col0\" class=\"data row2 col0\" >0.89</td>\n",
       "                        <td id=\"T_2005c_row2_col1\" class=\"data row2 col1\" >0.89</td>\n",
       "                        <td id=\"T_2005c_row2_col2\" class=\"data row2 col2\" >0.89</td>\n",
       "                        <td id=\"T_2005c_row2_col3\" class=\"data row2 col3\" >0.89</td>\n",
       "            </tr>\n",
       "            <tr>\n",
       "                        <th id=\"T_2005c_level0_row3\" class=\"row_heading level0 row3\" >macro avg</th>\n",
       "                        <td id=\"T_2005c_row3_col0\" class=\"data row3 col0\" >0.90</td>\n",
       "                        <td id=\"T_2005c_row3_col1\" class=\"data row3 col1\" >0.89</td>\n",
       "                        <td id=\"T_2005c_row3_col2\" class=\"data row3 col2\" >0.89</td>\n",
       "                        <td id=\"T_2005c_row3_col3\" class=\"data row3 col3\" >95.00</td>\n",
       "            </tr>\n",
       "            <tr>\n",
       "                        <th id=\"T_2005c_level0_row4\" class=\"row_heading level0 row4\" >weighted avg</th>\n",
       "                        <td id=\"T_2005c_row4_col0\" class=\"data row4 col0\" >0.90</td>\n",
       "                        <td id=\"T_2005c_row4_col1\" class=\"data row4 col1\" >0.89</td>\n",
       "                        <td id=\"T_2005c_row4_col2\" class=\"data row4 col2\" >0.89</td>\n",
       "                        <td id=\"T_2005c_row4_col3\" class=\"data row4 col3\" >95.00</td>\n",
       "            </tr>\n",
       "    </tbody></table>"
      ],
      "text/plain": [
       "<pandas.io.formats.style.Styler at 0x221f2ea2610>"
      ]
     },
     "execution_count": 42,
     "metadata": {},
     "output_type": "execute_result"
    }
   ],
   "source": [
    "print(\"Classification report : \") \n",
    "report = pd.DataFrame(metrics.classification_report(y_test, predicted, output_dict=True))\n",
    "# report.T.style.format(\"{:.2%}\").background_gradient(cmap=\"RdYlGn\")\n",
    "report.T.style.format(\"{:.2f}\").background_gradient(cmap=\"RdYlGn\")\n"
   ]
  },
  {
   "cell_type": "code",
   "execution_count": 43,
   "metadata": {
    "colab": {
     "base_uri": "https://localhost:8080/",
     "height": 394
    },
    "executionInfo": {
     "elapsed": 861,
     "status": "ok",
     "timestamp": 1649242272321,
     "user": {
      "displayName": "hichem felouat",
      "userId": "06423185161580092580"
     },
     "user_tz": -60
    },
    "id": "rzKdeIRYq6WQ",
    "outputId": "f0273c44-4ea9-445c-9fff-a8183d402bdc"
   },
   "outputs": [
    {
     "data": {
      "text/plain": [
       "<AxesSubplot:>"
      ]
     },
     "execution_count": 43,
     "metadata": {},
     "output_type": "execute_result"
    },
    {
     "data": {
      "image/png": "[encoded data removed]",
      "text/plain": [
       "<Figure size 576x432 with 1 Axes>"
      ]
     },
     "metadata": {},
     "output_type": "display_data"
    }
   ],
   "source": [
    "# The most important feature among the features.\n",
    "my_features = my_data.drop([\"IGRA_RESULT\"],axis=1)\n",
    "importances = pd.Series(classifier.feature_importances_, index=my_features.columns)\n",
    "importances.plot(kind=\"barh\", figsize=(8,6))\n"
   ]
  },
  {
   "cell_type": "code",
   "execution_count": 44,
   "metadata": {
    "colab": {
     "base_uri": "https://localhost:8080/",
     "height": 340
    },
    "executionInfo": {
     "elapsed": 1151,
     "status": "ok",
     "timestamp": 1649180400417,
     "user": {
      "displayName": "hichem felouat",
      "userId": "06423185161580092580"
     },
     "user_tz": -60
    },
    "id": "jMlENB5xukWr",
    "outputId": "5a018da5-5d30-4341-ba0c-2976bc15ac3c"
   },
   "outputs": [
    {
     "name": "stderr",
     "output_type": "stream",
     "text": [
      "C:\\Users\\NSC\\anaconda3\\lib\\site-packages\\sklearn\\utils\\deprecation.py:87: FutureWarning: Function plot_roc_curve is deprecated; Function :func:`plot_roc_curve` is deprecated in 1.0 and will be removed in 1.2. Use one of the class methods: :meth:`sklearn.metric.RocCurveDisplay.from_predictions` or :meth:`sklearn.metric.RocCurveDisplay.from_estimator`.\n",
      "  warnings.warn(msg, category=FutureWarning)\n"
     ]
    },
    {
     "data": {
      "image/png": "[encoded data removed]",
      "text/plain": [
       "<Figure size 432x288 with 1 Axes>"
      ]
     },
     "metadata": {},
     "output_type": "display_data"
    }
   ],
   "source": [
    "# AUC-ROC curve (an evaluation metric for binary classification problems)\n",
    "\"\"\"\n",
    "AUC : The Area Under the Curve \n",
    "ROC : Receiver Characteristic Operator\n",
    "\n",
    "AUC measures the entire two-dimensional area underneath the entire ROC curve \n",
    "(think integral calculus) from (0,0) to (1,1).\n",
    "\n",
    "When AUC = 1, then the classifier is able to perfectly distinguish between all \n",
    "the Positive and the Negative class points correctly. If, however, the AUC had been 0, \n",
    "then the classifier would be predicting all Negatives as Positives, and all Positives as Negatives\n",
    "\"\"\"\n",
    "from sklearn import metrics\n",
    "disp = metrics.plot_roc_curve(classifier, X_test, y_test)\n"
   ]
  },
  {
   "cell_type": "code",
   "execution_count": 45,
   "metadata": {
    "colab": {
     "base_uri": "https://localhost:8080/",
     "height": 373
    },
    "executionInfo": {
     "elapsed": 1301,
     "status": "ok",
     "timestamp": 1649180405763,
     "user": {
      "displayName": "hichem felouat",
      "userId": "06423185161580092580"
     },
     "user_tz": -60
    },
    "id": "zBM3OvD1uslC",
    "outputId": "643fe7fc-a80e-42ed-90da-49bc1f796e87"
   },
   "outputs": [
    {
     "name": "stderr",
     "output_type": "stream",
     "text": [
      "C:\\Users\\NSC\\anaconda3\\lib\\site-packages\\sklearn\\utils\\deprecation.py:87: FutureWarning: Function plot_precision_recall_curve is deprecated; Function `plot_precision_recall_curve` is deprecated in 1.0 and will be removed in 1.2. Use one of the class methods: PrecisionRecallDisplay.from_predictions or PrecisionRecallDisplay.from_estimator.\n",
      "  warnings.warn(msg, category=FutureWarning)\n"
     ]
    },
    {
     "data": {
      "text/plain": [
       "Text(0.5, 1.0, '2-class Precision-Recall curve: ')"
      ]
     },
     "execution_count": 45,
     "metadata": {},
     "output_type": "execute_result"
    },
    {
     "data": {
      "image/png": "[encoded data removed]",
      "text/plain": [
       "<Figure size 432x288 with 1 Axes>"
      ]
     },
     "metadata": {},
     "output_type": "display_data"
    }
   ],
   "source": [
    "\"\"\"\n",
    "A system with high recall but low precision returns many results, \n",
    "but most of its predicted labels are incorrect when compared to the training labels.\n",
    "\n",
    "A system with high precision but low recall is just the opposite, \n",
    "returning very few results, but most of its predicted labels are correct when \n",
    "compared to the training labels. \n",
    "\n",
    "An ideal system with high precision and high recall will return many results, \n",
    "with all results labeled correctly.\n",
    "\n",
    "AP : average precision AP = SUMn((Rn - Rn-1) * Pn) \n",
    "\"\"\"\n",
    "from sklearn.metrics import plot_precision_recall_curve\n",
    "\n",
    "disp = plot_precision_recall_curve(classifier, X_test, y_test)\n",
    "disp.ax_.set_title(\"2-class Precision-Recall curve: \")\n"
   ]
  },
  {
   "cell_type": "code",
   "execution_count": 46,
   "metadata": {
    "colab": {
     "base_uri": "https://localhost:8080/"
    },
    "executionInfo": {
     "elapsed": 549,
     "status": "ok",
     "timestamp": 1649345085791,
     "user": {
      "displayName": "hichem felouat",
      "userId": "06423185161580092580"
     },
     "user_tz": -60
    },
    "id": "2JxlFWnjgBCQ",
    "outputId": "381c3a57-073e-4995-af7b-6fad4ad309c4"
   },
   "outputs": [
    {
     "name": "stdout",
     "output_type": "stream",
     "text": [
      "Done ...\n"
     ]
    }
   ],
   "source": [
    "from pickle import dump\n",
    "\n",
    "# Save scaler\n",
    "dump(my_scaler, open(\"C:/Users/NSC/Desktop/ADABOOST/elite/scaler.pkl\", \"wb\"))\n",
    "\n",
    "# Save model\n",
    "dump(classifier, open(\"C:/Users/NSC/Desktop/ADABOOST/elite/model.pkl\", \"wb\"))\n",
    "\n",
    "print(\"Done ...\")\n"
   ]
  },
  {
   "cell_type": "code",
   "execution_count": 85,
   "metadata": {},
   "outputs": [
    {
     "name": "stdout",
     "output_type": "stream",
     "text": [
      "Collecting pickle-mixin\n",
      "  Downloading pickle-mixin-1.0.2.tar.gz (5.1 kB)\n",
      "Building wheels for collected packages: pickle-mixin\n",
      "  Building wheel for pickle-mixin (setup.py): started\n",
      "  Building wheel for pickle-mixin (setup.py): finished with status 'done'\n",
      "  Created wheel for pickle-mixin: filename=pickle_mixin-1.0.2-py3-none-any.whl size=5998 sha256=0c5d02dd65bfd149efa6069b1f1233b83c9c271c4bad92fb1010e4ebaee51d51\n",
      "  Stored in directory: c:\\users\\nsc\\appdata\\local\\pip\\cache\\wheels\\2a\\a4\\6c\\83bfbc3b94f1bb43d634b07a6a893fd437a45c58b29aea5142\n",
      "Successfully built pickle-mixin\n",
      "Installing collected packages: pickle-mixin\n",
      "Successfully installed pickle-mixin-1.0.2\n",
      "Note: you may need to restart the kernel to use updated packages.\n"
     ]
    }
   ],
   "source": [
    "pip install pickle-mixin\n"
   ]
  },
  {
   "cell_type": "markdown",
   "metadata": {
    "id": "oY22DI4HktvG"
   },
   "source": [
    "# **Inference**"
   ]
  },
  {
   "cell_type": "code",
   "execution_count": 86,
   "metadata": {
    "colab": {
     "base_uri": "https://localhost:8080/"
    },
    "executionInfo": {
     "elapsed": 20121,
     "status": "ok",
     "timestamp": 1649345160155,
     "user": {
      "displayName": "hichem felouat",
      "userId": "06423185161580092580"
     },
     "user_tz": -60
    },
    "id": "fZ1Sye7Ekzph",
    "outputId": "b980e800-6b45-4421-fe4f-8e16d6165f62"
   },
   "outputs": [
    {
     "name": "stdout",
     "output_type": "stream",
     "text": [
      "Collecting gradio\n",
      "  Downloading gradio-2.9.1-py3-none-any.whl (1.7 MB)\n",
      "Requirement already satisfied: matplotlib in c:\\users\\nsc\\anaconda3\\lib\\site-packages (from gradio) (3.3.4)\n",
      "Collecting python-multipart\n",
      "  Downloading python-multipart-0.0.5.tar.gz (32 kB)\n",
      "Collecting uvicorn\n",
      "  Downloading uvicorn-0.17.6-py3-none-any.whl (53 kB)\n",
      "Collecting markdown-it-py[linkify,plugins]\n",
      "  Downloading markdown_it_py-2.0.1-py3-none-any.whl (84 kB)\n",
      "Collecting pydub\n",
      "  Downloading pydub-0.25.1-py2.py3-none-any.whl (32 kB)\n",
      "Requirement already satisfied: numpy in c:\\users\\nsc\\anaconda3\\lib\\site-packages (from gradio) (1.20.1)\n",
      "Collecting analytics-python\n",
      "  Downloading analytics_python-1.4.0-py2.py3-none-any.whl (15 kB)\n",
      "Collecting orjson\n",
      "  Downloading orjson-3.6.7-cp38-none-win_amd64.whl (186 kB)\n",
      "Requirement already satisfied: pandas in c:\\users\\nsc\\anaconda3\\lib\\site-packages (from gradio) (1.2.4)\n",
      "Collecting ffmpy\n",
      "  Downloading ffmpy-0.3.0.tar.gz (4.8 kB)\n",
      "Collecting aiohttp\n",
      "  Downloading aiohttp-3.8.1-cp38-cp38-win_amd64.whl (555 kB)\n",
      "Requirement already satisfied: pillow in c:\\users\\nsc\\anaconda3\\lib\\site-packages (from gradio) (8.2.0)\n",
      "Collecting pycryptodome\n",
      "  Downloading pycryptodome-3.14.1-cp35-abi3-win_amd64.whl (1.8 MB)\n",
      "Requirement already satisfied: requests in c:\\users\\nsc\\anaconda3\\lib\\site-packages (from gradio) (2.25.1)\n",
      "Collecting fastapi\n",
      "  Downloading fastapi-0.75.1-py3-none-any.whl (54 kB)\n",
      "Requirement already satisfied: paramiko in c:\\users\\nsc\\anaconda3\\lib\\site-packages (from gradio) (2.7.2)\n",
      "Collecting aiosignal>=1.1.2\n",
      "  Downloading aiosignal-1.2.0-py3-none-any.whl (8.2 kB)\n",
      "Collecting async-timeout<5.0,>=4.0.0a3\n",
      "  Downloading async_timeout-4.0.2-py3-none-any.whl (5.8 kB)\n",
      "Collecting multidict<7.0,>=4.5\n",
      "  Downloading multidict-6.0.2-cp38-cp38-win_amd64.whl (28 kB)\n",
      "Collecting charset-normalizer<3.0,>=2.0\n",
      "  Downloading charset_normalizer-2.0.12-py3-none-any.whl (39 kB)\n",
      "Collecting yarl<2.0,>=1.0\n",
      "  Downloading yarl-1.7.2-cp38-cp38-win_amd64.whl (122 kB)\n",
      "Collecting frozenlist>=1.1.1\n",
      "  Downloading frozenlist-1.3.0-cp38-cp38-win_amd64.whl (33 kB)\n",
      "Requirement already satisfied: attrs>=17.3.0 in c:\\users\\nsc\\anaconda3\\lib\\site-packages (from aiohttp->gradio) (20.3.0)\n",
      "Requirement already satisfied: idna>=2.0 in c:\\users\\nsc\\anaconda3\\lib\\site-packages (from yarl<2.0,>=1.0->aiohttp->gradio) (2.10)\n",
      "Requirement already satisfied: six>=1.5 in c:\\users\\nsc\\anaconda3\\lib\\site-packages (from analytics-python->gradio) (1.15.0)\n",
      "Collecting backoff==1.10.0\n",
      "  Downloading backoff-1.10.0-py2.py3-none-any.whl (31 kB)\n",
      "Collecting monotonic>=1.5\n",
      "  Downloading monotonic-1.6-py2.py3-none-any.whl (8.2 kB)\n",
      "Requirement already satisfied: python-dateutil>2.1 in c:\\users\\nsc\\anaconda3\\lib\\site-packages (from analytics-python->gradio) (2.8.1)\n",
      "Requirement already satisfied: certifi>=2017.4.17 in c:\\users\\nsc\\anaconda3\\lib\\site-packages (from requests->gradio) (2020.12.5)\n",
      "Requirement already satisfied: urllib3<1.27,>=1.21.1 in c:\\users\\nsc\\anaconda3\\lib\\site-packages (from requests->gradio) (1.26.4)\n",
      "Requirement already satisfied: chardet<5,>=3.0.2 in c:\\users\\nsc\\anaconda3\\lib\\site-packages (from requests->gradio) (4.0.0)\n",
      "Requirement already satisfied: pydantic!=1.7,!=1.7.1,!=1.7.2,!=1.7.3,!=1.8,!=1.8.1,<2.0.0,>=1.6.2 in c:\\users\\nsc\\anaconda3\\lib\\site-packages (from fastapi->gradio) (1.9.0)\n",
      "Collecting starlette==0.17.1\n",
      "  Downloading starlette-0.17.1-py3-none-any.whl (58 kB)\n",
      "Collecting anyio<4,>=3.0.0\n",
      "  Downloading anyio-3.5.0-py3-none-any.whl (79 kB)\n",
      "Requirement already satisfied: sniffio>=1.1 in c:\\users\\nsc\\anaconda3\\lib\\site-packages (from anyio<4,>=3.0.0->starlette==0.17.1->fastapi->gradio) (1.2.0)\n",
      "Requirement already satisfied: typing-extensions>=3.7.4.3 in c:\\users\\nsc\\anaconda3\\lib\\site-packages (from pydantic!=1.7,!=1.7.1,!=1.7.2,!=1.7.3,!=1.8,!=1.8.1,<2.0.0,>=1.6.2->fastapi->gradio) (3.7.4.3)\n",
      "Collecting mdurl~=0.1\n",
      "  Downloading mdurl-0.1.0-py3-none-any.whl (11 kB)\n",
      "Collecting linkify-it-py~=1.0\n",
      "  Downloading linkify_it_py-1.0.3-py3-none-any.whl (19 kB)\n",
      "Collecting mdit-py-plugins\n",
      "  Downloading mdit_py_plugins-0.3.0-py3-none-any.whl (43 kB)\n",
      "Collecting uc-micro-py\n",
      "  Downloading uc_micro_py-1.0.1-py3-none-any.whl (6.2 kB)\n",
      "Requirement already satisfied: pyparsing!=2.0.4,!=2.1.2,!=2.1.6,>=2.0.3 in c:\\users\\nsc\\anaconda3\\lib\\site-packages (from matplotlib->gradio) (2.4.7)\n",
      "Requirement already satisfied: kiwisolver>=1.0.1 in c:\\users\\nsc\\anaconda3\\lib\\site-packages (from matplotlib->gradio) (1.3.1)\n",
      "Requirement already satisfied: cycler>=0.10 in c:\\users\\nsc\\anaconda3\\lib\\site-packages (from matplotlib->gradio) (0.10.0)\n",
      "Requirement already satisfied: pytz>=2017.3 in c:\\users\\nsc\\anaconda3\\lib\\site-packages (from pandas->gradio) (2021.1)\n",
      "Requirement already satisfied: pynacl>=1.0.1 in c:\\users\\nsc\\anaconda3\\lib\\site-packages (from paramiko->gradio) (1.4.0)\n",
      "Requirement already satisfied: cryptography>=2.5 in c:\\users\\nsc\\anaconda3\\lib\\site-packages (from paramiko->gradio) (3.4.7)\n",
      "Requirement already satisfied: bcrypt>=3.1.3 in c:\\users\\nsc\\anaconda3\\lib\\site-packages (from paramiko->gradio) (3.2.0)\n",
      "Requirement already satisfied: cffi>=1.1 in c:\\users\\nsc\\anaconda3\\lib\\site-packages (from bcrypt>=3.1.3->paramiko->gradio) (1.14.5)\n",
      "Requirement already satisfied: pycparser in c:\\users\\nsc\\anaconda3\\lib\\site-packages (from cffi>=1.1->bcrypt>=3.1.3->paramiko->gradio) (2.20)\n",
      "Requirement already satisfied: click>=7.0 in c:\\users\\nsc\\anaconda3\\lib\\site-packages (from uvicorn->gradio) (7.1.2)\n",
      "Requirement already satisfied: h11>=0.8 in c:\\users\\nsc\\anaconda3\\lib\\site-packages (from uvicorn->gradio) (0.12.0)\n",
      "Collecting asgiref>=3.4.0\n",
      "  Downloading asgiref-3.5.0-py3-none-any.whl (22 kB)\n",
      "Building wheels for collected packages: ffmpy, python-multipart\n",
      "  Building wheel for ffmpy (setup.py): started\n",
      "  Building wheel for ffmpy (setup.py): finished with status 'done'\n",
      "  Created wheel for ffmpy: filename=ffmpy-0.3.0-py3-none-any.whl size=4709 sha256=f6c773313d0f54df8a5bba2604bd353e2c7b2a394724cde97422d84aa243ac36\n",
      "  Stored in directory: c:\\users\\nsc\\appdata\\local\\pip\\cache\\wheels\\ff\\5b\\59\\913b443e7369dc04b61f607a746b6f7d83fb65e2e19fcc958d\n",
      "  Building wheel for python-multipart (setup.py): started\n",
      "  Building wheel for python-multipart (setup.py): finished with status 'done'\n",
      "  Created wheel for python-multipart: filename=python_multipart-0.0.5-py3-none-any.whl size=31670 sha256=383d7629b3473b093849101feea847b2ed5b4480d78bf01c015c8ce2fb5f672a\n",
      "  Stored in directory: c:\\users\\nsc\\appdata\\local\\pip\\cache\\wheels\\9e\\fc\\1c\\cf980e6413d3ee8e70cd8f39e2366b0f487e3e221aeb452eb0\n",
      "Successfully built ffmpy python-multipart\n",
      "Installing collected packages: mdurl, uc-micro-py, multidict, markdown-it-py, frozenlist, anyio, yarl, starlette, monotonic, mdit-py-plugins, linkify-it-py, charset-normalizer, backoff, async-timeout, asgiref, aiosignal, uvicorn, python-multipart, pydub, pycryptodome, orjson, ffmpy, fastapi, analytics-python, aiohttp, gradio\n",
      "  Attempting uninstall: anyio\n",
      "    Found existing installation: anyio 2.2.0\n",
      "    Uninstalling anyio-2.2.0:\n",
      "      Successfully uninstalled anyio-2.2.0\n",
      "Successfully installed aiohttp-3.8.1 aiosignal-1.2.0 analytics-python-1.4.0 anyio-3.5.0 asgiref-3.5.0 async-timeout-4.0.2 backoff-1.10.0 charset-normalizer-2.0.12 fastapi-0.75.1 ffmpy-0.3.0 frozenlist-1.3.0 gradio-2.9.1 linkify-it-py-1.0.3 markdown-it-py-2.0.1 mdit-py-plugins-0.3.0 mdurl-0.1.0 monotonic-1.6 multidict-6.0.2 orjson-3.6.7 pycryptodome-3.14.1 pydub-0.25.1 python-multipart-0.0.5 starlette-0.17.1 uc-micro-py-1.0.1 uvicorn-0.17.6 yarl-1.7.2\n"
     ]
    }
   ],
   "source": [
    "!pip install gradio"
   ]
  },
  {
   "cell_type": "code",
   "execution_count": 92,
   "metadata": {},
   "outputs": [
    {
     "name": "stdout",
     "output_type": "stream",
     "text": [
      "Requirement already satisfied: requests in c:\\users\\nsc\\anaconda3\\lib\\site-packages (2.25.1)\n",
      "Requirement already satisfied: idna<3,>=2.5 in c:\\users\\nsc\\anaconda3\\lib\\site-packages (from requests) (2.10)\n",
      "Requirement already satisfied: certifi>=2017.4.17 in c:\\users\\nsc\\anaconda3\\lib\\site-packages (from requests) (2020.12.5)\n",
      "Requirement already satisfied: chardet<5,>=3.0.2 in c:\\users\\nsc\\anaconda3\\lib\\site-packages (from requests) (4.0.0)\n",
      "Requirement already satisfied: urllib3<1.27,>=1.21.1 in c:\\users\\nsc\\anaconda3\\lib\\site-packages (from requests) (1.26.4)\n",
      "Note: you may need to restart the kernel to use updated packages.\n"
     ]
    }
   ],
   "source": [
    "pip install requests"
   ]
  },
  {
   "cell_type": "code",
   "execution_count": 47,
   "metadata": {
    "colab": {
     "base_uri": "https://localhost:8080/"
    },
    "executionInfo": {
     "elapsed": 886,
     "status": "ok",
     "timestamp": 1649345170721,
     "user": {
      "displayName": "hichem felouat",
      "userId": "06423185161580092580"
     },
     "user_tz": -60
    },
    "id": "IC4DwbZVg-vH",
    "outputId": "87d47154-6e99-4417-d540-b1429aaa3e5a"
   },
   "outputs": [
    {
     "name": "stdout",
     "output_type": "stream",
     "text": [
      "Done ...\n"
     ]
    }
   ],
   "source": [
    "from pickle import load\n",
    "# Load scaler\n",
    "my_scaler = load(open(\"C:/Users/NSC/Desktop/ADABOOST/elite/scaler.pkl\", \"rb\"))\n",
    "\n",
    "# Load model\n",
    "my_model = load(open(\"C:/Users/NSC/Desktop/ADABOOST/elite/model.pkl\", \"rb\"))\n",
    "\n",
    "print(\"Done ...\")\n"
   ]
  },
  {
   "cell_type": "code",
   "execution_count": 48,
   "metadata": {
    "colab": {
     "base_uri": "https://localhost:8080/",
     "height": 698
    },
    "executionInfo": {
     "elapsed": 11884,
     "status": "ok",
     "timestamp": 1649345185844,
     "user": {
      "displayName": "hichem felouat",
      "userId": "06423185161580092580"
     },
     "user_tz": -60
    },
    "id": "_8PcM1xGk4cF",
    "outputId": "25465784-bd4a-4ab3-cde7-ccbfcd69d663"
   },
   "outputs": [
    {
     "name": "stderr",
     "output_type": "stream",
     "text": [
      "C:\\Users\\NSC\\anaconda3\\lib\\site-packages\\gradio\\interface.py:316: UserWarning: 'darkgrass' theme name is deprecated, using dark-grass instead.\n",
      "  warnings.warn(\n"
     ]
    },
    {
     "name": "stdout",
     "output_type": "stream",
     "text": [
      "Running on local URL:  http://127.0.0.1:7860/\n",
      "Running on public URL: https://44026.gradio.app\n",
      "\n",
      "This share link expires in 72 hours. For free permanent hosting, check out Spaces (https://huggingface.co/spaces)\n"
     ]
    },
    {
     "data": {
      "text/html": [
       "\n",
       "        <iframe\n",
       "            width=\"900\"\n",
       "            height=\"500\"\n",
       "            src=\"https://44026.gradio.app\"\n",
       "            frameborder=\"0\"\n",
       "            allowfullscreen\n",
       "        ></iframe>\n",
       "        "
      ],
      "text/plain": [
       "<IPython.lib.display.IFrame at 0x221f9098a30>"
      ]
     },
     "metadata": {},
     "output_type": "display_data"
    },
    {
     "data": {
      "text/plain": [
       "(<fastapi.applications.FastAPI at 0x221f79a6f40>,\n",
       " 'http://127.0.0.1:7860/',\n",
       " 'https://44026.gradio.app')"
      ]
     },
     "execution_count": 48,
     "metadata": {},
     "output_type": "execute_result"
    }
   ],
   "source": [
    "# https://www.gradio.app\n",
    "import numpy as np\n",
    "import gradio as gr\n",
    "import requests\n",
    "\n",
    "\n",
    "\"\"\"\n",
    "['UNSTIMULATED_IFNY_PGML', 'PHA_IFNY_PGML', 'AG_IFNY_PGML', 'CD3_NUMBER', 'PHA_NORMALIZED', \n",
    "         'AG_NORMALIZED', 'AGE', 'TST_RESULT', 'SEX','ETHNIC_BACKGROUND']\n",
    "\"\"\"\n",
    "def inference(PHA_IFNY_PGML, AG_IFNY_PGML,\n",
    "              CD3_NUMBER, PHA_NORMALIZED ,  AG_NORMALIZED,\n",
    "              TST_RESULT, ETHNIC_BACKGROUND):\n",
    "    ph = PHA_IFNY_PGML\n",
    "    ag = AG_IFNY_PGML \n",
    "    cd = CD3_NUMBER\n",
    "    phn = PHA_NORMALIZED\n",
    "    agn = AG_NORMALIZED\n",
    "    \n",
    "    tst = TST_RESULT \n",
    "    if tst == \"Positive\": tst=1\n",
    "    else: tst=0\n",
    "    \n",
    "    e = ETHNIC_BACKGROUND\n",
    "    if e==\"white\":\n",
    "          e=0\n",
    "    else: e=1\n",
    "    \n",
    "    features = []\n",
    "    lst =[float(ph), float(ag),  float(cd), float(phn), float(agn), int(tst), int(e)]\n",
    "    features.append(lst)\n",
    "    features = np.array(features)\n",
    "    features = my_scaler.transform(features)\n",
    "\n",
    "    predicted = my_model.predict(features)\n",
    "    \n",
    "    if predicted[0] == 1 : return \"IGRA ++ \"\n",
    "    else : return \"IGRA --\"\n",
    "\n",
    "\n",
    "gr.Interface(inference,  \n",
    "            [\n",
    "             \n",
    "             gr.inputs.Number(label=\"PHA_IFNY_PGML : \"),\n",
    "             gr.inputs.Number(label=\"AG_IFNY_PGML : \"),\n",
    "                \n",
    "             gr.inputs.Number(label=\"CD3_NUMBER : \"),\n",
    "             gr.inputs.Number(label=\"PHA_NORMALIZED : \"),\n",
    "             gr.inputs.Number(label=\"AG_NORMALIZED : \"),\n",
    "             \n",
    "             gr.inputs.Radio([\"positive\", \"negative\"], label=\"TST_RESULT : \"),   \n",
    "             \n",
    "             gr.inputs.Radio([\"white\", \"Non-white\"], label=\"ETHNIC_BACKGROUND : \"),\n",
    "             \n",
    "                \n",
    "             \n",
    "             \n",
    "                \n",
    "             #gr.inputs.Slider(minimum=0, maximum=1, step=1, label=\"aaa : \"),\n",
    "             # gr.inputs.Number(label=\"aaa : \"),\n",
    "            ],\n",
    "            [\n",
    "            gr.outputs.Label(), \n",
    "            ],\n",
    "            theme=\"darkgrass\"\n",
    "            ).launch(share=True) #, debug=True Use in Colab\n"
   ]
  },
  {
   "cell_type": "code",
   "execution_count": null,
   "metadata": {},
   "outputs": [],
   "source": []
  },
  {
   "cell_type": "code",
   "execution_count": null,
   "metadata": {},
   "outputs": [],
   "source": []
  },
  {
   "cell_type": "code",
   "execution_count": 51,
   "metadata": {},
   "outputs": [
    {
     "data": {
      "text/plain": [
       "['C:\\\\Users\\\\NSC\\\\anaconda3',\n",
       " 'C:\\\\Users\\\\NSC\\\\anaconda3\\\\Library\\\\mingw-w64\\\\bin',\n",
       " 'C:\\\\Users\\\\NSC\\\\anaconda3\\\\Library\\\\usr\\\\bin',\n",
       " 'C:\\\\Users\\\\NSC\\\\anaconda3\\\\Library\\\\bin',\n",
       " 'C:\\\\Users\\\\NSC\\\\anaconda3\\\\Scripts',\n",
       " 'E:\\\\12C_20.2\\\\product\\\\12.1.0\\\\dbhome_1\\\\bin',\n",
       " 'C:\\\\ProgramData\\\\Anaconda3',\n",
       " 'C:\\\\ProgramData\\\\Anaconda3\\\\Library\\\\mingw-w64\\\\bin',\n",
       " 'C:\\\\ProgramData\\\\Anaconda3\\\\Library\\\\usr\\\\bin',\n",
       " 'C:\\\\ProgramData\\\\Anaconda3\\\\Library\\\\bin',\n",
       " 'C:\\\\ProgramData\\\\Anaconda3\\\\Scripts',\n",
       " 'C:\\\\Windows\\\\system32',\n",
       " 'C:\\\\Windows',\n",
       " 'C:\\\\Windows\\\\System32\\\\Wbem',\n",
       " 'C:\\\\Windows\\\\System32\\\\WindowsPowerShell\\\\v1.0\\\\',\n",
       " 'C:\\\\Windows\\\\System32\\\\OpenSSH\\\\',\n",
       " 'C:\\\\Program Files (x86)\\\\NVIDIA Corporation\\\\PhysX\\\\Common',\n",
       " 'C:\\\\Program Files\\\\NVIDIA Corporation\\\\NVIDIA NvDLISR',\n",
       " 'C:\\\\WINDOWS\\\\system32',\n",
       " 'C:\\\\WINDOWS',\n",
       " 'C:\\\\WINDOWS\\\\System32\\\\Wbem',\n",
       " 'C:\\\\WINDOWS\\\\System32\\\\WindowsPowerShell\\\\v1.0\\\\',\n",
       " 'C:\\\\WINDOWS\\\\System32\\\\OpenSSH\\\\',\n",
       " 'C:\\\\Program Files (x86)\\\\dotnet\\\\',\n",
       " 'C:\\\\Program Files\\\\Java\\\\jdk1.8.0_271\\\\bin',\n",
       " 'C:\\\\Users\\\\NSC\\\\AppData\\\\Local\\\\Programs\\\\Python\\\\Python39\\\\Scripts\\\\',\n",
       " 'C:\\\\Users\\\\NSC\\\\AppData\\\\Local\\\\Programs\\\\Python\\\\Python39\\\\',\n",
       " 'C:\\\\Program Files\\\\Java\\\\jdk1.8.0_271\\\\bin']"
      ]
     },
     "execution_count": 51,
     "metadata": {},
     "output_type": "execute_result"
    }
   ],
   "source": [
    "import os\n",
    "os.environ['PATH'].split(';')"
   ]
  },
  {
   "cell_type": "code",
   "execution_count": null,
   "metadata": {},
   "outputs": [],
   "source": []
  }
 ],
 "metadata": {
  "accelerator": "GPU",
  "colab": {
   "authorship_tag": "ABX9TyM9Ed1yj0E/aawE7p/K3M68",
   "collapsed_sections": [
    "mnpmFoocLw64",
    "uI_V8EOl-Ge3",
    "uVQBojhK-Rgc",
    "G6VCf7rz-ini",
    "Cs0gACWy-qqR",
    "Hn0JdTur-agI",
    "Jax3cJq4-0p7",
    "U_ojsxYopmHl",
    "HMaJC7fI-7qN",
    "YsWXGCyxk22l",
    "bdd_qFKNL8DV",
    "JpBiWiouS2o2",
    "oY22DI4HktvG"
   ],
   "name": "scikit_loan_project.ipynb",
   "provenance": []
  },
  "kernelspec": {
   "display_name": "Python 3",
   "language": "python",
   "name": "python3"
  },
  "language_info": {
   "codemirror_mode": {
    "name": "ipython",
    "version": 3
   },
   "file_extension": ".py",
   "mimetype": "text/x-python",
   "name": "python",
   "nbconvert_exporter": "python",
   "pygments_lexer": "ipython3",
   "version": "3.8.8"
  }
 },
 "nbformat": 4,
 "nbformat_minor": 1
}
